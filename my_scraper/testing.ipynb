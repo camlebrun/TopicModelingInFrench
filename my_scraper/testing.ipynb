{
 "cells": [
  {
   "cell_type": "code",
   "execution_count": 1,
   "metadata": {},
   "outputs": [],
   "source": [
    "import pandas as pd"
   ]
  },
  {
   "cell_type": "code",
   "execution_count": 2,
   "metadata": {},
   "outputs": [],
   "source": [
    "data = pd.read_csv('/Users/camille/repo/Hetic/projet_demo/ia_theme/my_scraper/output_file_cleaned.csv')"
   ]
  },
  {
   "cell_type": "code",
   "execution_count": 4,
   "metadata": {},
   "outputs": [],
   "source": [
    "data.dropna(inplace=True)"
   ]
  },
  {
   "cell_type": "code",
   "execution_count": 6,
   "metadata": {},
   "outputs": [],
   "source": [
    "data.to_csv('/Users/camille/repo/Hetic/projet_demo/ia_theme/my_scraper/output_file_cleaned.csv', index=False)"
   ]
  },
  {
   "cell_type": "code",
   "execution_count": 7,
   "metadata": {},
   "outputs": [
    {
     "data": {
      "text/plain": [
       "url            object\n",
       "information    object\n",
       "date           object\n",
       "texts          object\n",
       "helo           object\n",
       "dtype: object"
      ]
     },
     "execution_count": 7,
     "metadata": {},
     "output_type": "execute_result"
    }
   ],
   "source": [
    "data.dtypes"
   ]
  },
  {
   "cell_type": "code",
   "execution_count": 9,
   "metadata": {},
   "outputs": [],
   "source": [
    "data['date'].replace('.', '', inplace=True)"
   ]
  },
  {
   "cell_type": "code",
   "execution_count": 10,
   "metadata": {},
   "outputs": [
    {
     "data": {
      "text/html": [
       "<div>\n",
       "<style scoped>\n",
       "    .dataframe tbody tr th:only-of-type {\n",
       "        vertical-align: middle;\n",
       "    }\n",
       "\n",
       "    .dataframe tbody tr th {\n",
       "        vertical-align: top;\n",
       "    }\n",
       "\n",
       "    .dataframe thead th {\n",
       "        text-align: right;\n",
       "    }\n",
       "</style>\n",
       "<table border=\"1\" class=\"dataframe\">\n",
       "  <thead>\n",
       "    <tr style=\"text-align: right;\">\n",
       "      <th></th>\n",
       "      <th>url</th>\n",
       "      <th>information</th>\n",
       "      <th>date</th>\n",
       "      <th>texts</th>\n",
       "      <th>helo</th>\n",
       "    </tr>\n",
       "  </thead>\n",
       "  <tbody>\n",
       "    <tr>\n",
       "      <th>3</th>\n",
       "      <td>https://www.assemblee-nationale.fr/dyn/opendat...</td>\n",
       "      <td>3</td>\n",
       "      <td>29 juin 2017.</td>\n",
       "      <td>L’article 114 de la loi n° 2016‑1691 du 9 déce...</td>\n",
       "      <td>', '– 1 –', '', 'projet de loi', '', 'Le Premi...</td>\n",
       "    </tr>\n",
       "    <tr>\n",
       "      <th>4</th>\n",
       "      <td>https://www.assemblee-nationale.fr/dyn/opendat...</td>\n",
       "      <td>4</td>\n",
       "      <td>29 juin 2017.</td>\n",
       "      <td>Conformément à la volonté du Président de la R...</td>\n",
       "      <td>', '– 1 –', '', 'projet de loi', '', 'Le Premi...</td>\n",
       "    </tr>\n",
       "    <tr>\n",
       "      <th>6</th>\n",
       "      <td>https://www.assemblee-nationale.fr/dyn/opendat...</td>\n",
       "      <td>6</td>\n",
       "      <td>29 juin 2017.</td>\n",
       "      <td>', 'Le présent projet de loi ratifiant l’ordon...</td>\n",
       "      <td>', 'projet de loi', '', 'Le Premier ministre,'...</td>\n",
       "    </tr>\n",
       "    <tr>\n",
       "      <th>7</th>\n",
       "      <td>https://www.assemblee-nationale.fr/dyn/opendat...</td>\n",
       "      <td>7</td>\n",
       "      <td>29 juin 2017.</td>\n",
       "      <td>L’article 1er du projet de loi ratifie l’ordon...</td>\n",
       "      <td>', '– 1 –', '', 'projet de loi', '', 'Le Premi...</td>\n",
       "    </tr>\n",
       "    <tr>\n",
       "      <th>8</th>\n",
       "      <td>https://www.assemblee-nationale.fr/dyn/opendat...</td>\n",
       "      <td>8</td>\n",
       "      <td>29 juin 2017.</td>\n",
       "      <td>L’article unique du projet de loi procède à la...</td>\n",
       "      <td>', 'projet de loi', '', 'Le Premier ministre,'...</td>\n",
       "    </tr>\n",
       "    <tr>\n",
       "      <th>...</th>\n",
       "      <td>...</td>\n",
       "      <td>...</td>\n",
       "      <td>...</td>\n",
       "      <td>...</td>\n",
       "      <td>...</td>\n",
       "    </tr>\n",
       "    <tr>\n",
       "      <th>4428</th>\n",
       "      <td>https://www.assemblee-nationale.fr/dyn/opendat...</td>\n",
       "      <td>4428</td>\n",
       "      <td>1er septembre 2021.</td>\n",
       "      <td>Depuis le 2 juin 2021, la gestion de l’épidémi...</td>\n",
       "      <td>', '– 1 –', '', 'projet de loi', '', 'Le Premi...</td>\n",
       "    </tr>\n",
       "    <tr>\n",
       "      <th>4429</th>\n",
       "      <td>https://www.assemblee-nationale.fr/dyn/opendat...</td>\n",
       "      <td>4429</td>\n",
       "      <td>1er septembre 2021.</td>\n",
       "      <td>ratifiant l’ordonnance n° 2021‑738 du 9 juin 2...</td>\n",
       "      <td>', '– 1 –', '', 'projet de loi', '', 'Le Premi...</td>\n",
       "    </tr>\n",
       "    <tr>\n",
       "      <th>4430</th>\n",
       "      <td>https://www.assemblee-nationale.fr/dyn/opendat...</td>\n",
       "      <td>4430</td>\n",
       "      <td>1er septembre 2021.</td>\n",
       "      <td>', 'Le présent projet de loi ratifiant l’ordon...</td>\n",
       "      <td>', 'projet de loi', '', 'Le Premier ministre,'...</td>\n",
       "    </tr>\n",
       "    <tr>\n",
       "      <th>4523</th>\n",
       "      <td>https://www.assemblee-nationale.fr/dyn/opendat...</td>\n",
       "      <td>4523</td>\n",
       "      <td>7 octobre 2021.</td>\n",
       "      <td>Au titre de l’exercice 2020, sont approuvés :'...</td>\n",
       "      <td>', '– 1 –', '', 'PREMIÈRE PARTIE', '', 'DISPOS...</td>\n",
       "    </tr>\n",
       "    <tr>\n",
       "      <th>4685</th>\n",
       "      <td>https://www.assemblee-nationale.fr/dyn/opendat...</td>\n",
       "      <td>4685</td>\n",
       "      <td>16 novembre 2021.</td>\n",
       "      <td>Sénat :  118, 130, 122 et T.A. 34 (2021‑2022)....</td>\n",
       "      <td>', '– 1 –', '', 'Annexe B', '', 'Rapport décri...</td>\n",
       "    </tr>\n",
       "  </tbody>\n",
       "</table>\n",
       "<p>221 rows × 5 columns</p>\n",
       "</div>"
      ],
      "text/plain": [
       "                                                    url information  \\\n",
       "3     https://www.assemblee-nationale.fr/dyn/opendat...           3   \n",
       "4     https://www.assemblee-nationale.fr/dyn/opendat...           4   \n",
       "6     https://www.assemblee-nationale.fr/dyn/opendat...           6   \n",
       "7     https://www.assemblee-nationale.fr/dyn/opendat...           7   \n",
       "8     https://www.assemblee-nationale.fr/dyn/opendat...           8   \n",
       "...                                                 ...         ...   \n",
       "4428  https://www.assemblee-nationale.fr/dyn/opendat...        4428   \n",
       "4429  https://www.assemblee-nationale.fr/dyn/opendat...        4429   \n",
       "4430  https://www.assemblee-nationale.fr/dyn/opendat...        4430   \n",
       "4523  https://www.assemblee-nationale.fr/dyn/opendat...        4523   \n",
       "4685  https://www.assemblee-nationale.fr/dyn/opendat...        4685   \n",
       "\n",
       "                     date                                              texts  \\\n",
       "3           29 juin 2017.  L’article 114 de la loi n° 2016‑1691 du 9 déce...   \n",
       "4           29 juin 2017.  Conformément à la volonté du Président de la R...   \n",
       "6           29 juin 2017.  ', 'Le présent projet de loi ratifiant l’ordon...   \n",
       "7           29 juin 2017.  L’article 1er du projet de loi ratifie l’ordon...   \n",
       "8           29 juin 2017.  L’article unique du projet de loi procède à la...   \n",
       "...                   ...                                                ...   \n",
       "4428  1er septembre 2021.  Depuis le 2 juin 2021, la gestion de l’épidémi...   \n",
       "4429  1er septembre 2021.  ratifiant l’ordonnance n° 2021‑738 du 9 juin 2...   \n",
       "4430  1er septembre 2021.  ', 'Le présent projet de loi ratifiant l’ordon...   \n",
       "4523      7 octobre 2021.  Au titre de l’exercice 2020, sont approuvés :'...   \n",
       "4685    16 novembre 2021.  Sénat :  118, 130, 122 et T.A. 34 (2021‑2022)....   \n",
       "\n",
       "                                                   helo  \n",
       "3     ', '– 1 –', '', 'projet de loi', '', 'Le Premi...  \n",
       "4     ', '– 1 –', '', 'projet de loi', '', 'Le Premi...  \n",
       "6     ', 'projet de loi', '', 'Le Premier ministre,'...  \n",
       "7     ', '– 1 –', '', 'projet de loi', '', 'Le Premi...  \n",
       "8     ', 'projet de loi', '', 'Le Premier ministre,'...  \n",
       "...                                                 ...  \n",
       "4428  ', '– 1 –', '', 'projet de loi', '', 'Le Premi...  \n",
       "4429  ', '– 1 –', '', 'projet de loi', '', 'Le Premi...  \n",
       "4430  ', 'projet de loi', '', 'Le Premier ministre,'...  \n",
       "4523  ', '– 1 –', '', 'PREMIÈRE PARTIE', '', 'DISPOS...  \n",
       "4685  ', '– 1 –', '', 'Annexe B', '', 'Rapport décri...  \n",
       "\n",
       "[221 rows x 5 columns]"
      ]
     },
     "execution_count": 10,
     "metadata": {},
     "output_type": "execute_result"
    }
   ],
   "source": [
    "data"
   ]
  }
 ],
 "metadata": {
  "kernelspec": {
   "display_name": "notebook_env",
   "language": "python",
   "name": "python3"
  },
  "language_info": {
   "codemirror_mode": {
    "name": "ipython",
    "version": 3
   },
   "file_extension": ".py",
   "mimetype": "text/x-python",
   "name": "python",
   "nbconvert_exporter": "python",
   "pygments_lexer": "ipython3",
   "version": "3.10.2"
  },
  "orig_nbformat": 4
 },
 "nbformat": 4,
 "nbformat_minor": 2
}
