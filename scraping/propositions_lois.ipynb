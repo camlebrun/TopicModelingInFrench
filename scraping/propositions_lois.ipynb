{
 "cells": [
  {
   "attachments": {},
   "cell_type": "markdown",
   "metadata": {},
   "source": [
    "##  Exemple sur les propositions de lois "
   ]
  },
  {
   "attachments": {},
   "cell_type": "markdown",
   "metadata": {},
   "source": [
    "### Classification des députées\n",
    "* Utiliser le groupe politique fournies par le site de l'assemblée nationale\n",
    "* Dictionnaire de groupe politique et de députées"
   ]
  },
  {
   "cell_type": "code",
   "execution_count": null,
   "metadata": {},
   "outputs": [],
   "source": []
  },
  {
   "attachments": {},
   "cell_type": "markdown",
   "metadata": {},
   "source": [
    "class=\"assnatLnom\" style=\"text-transform:none\"><span et les membres du groupe Renaissance et apparentés</span>"
   ]
  },
  {
   "cell_type": "code",
   "execution_count": 7,
   "metadata": {},
   "outputs": [
    {
     "name": "stdout",
     "output_type": "stream",
     "text": [
      "span\n",
      "M. Denis MASSÉGLIA, Mme Aurore BERGÉ\n",
      "span\n",
      "et les membres du groupe Renaissance et apparentés\n",
      "span\n",
      " \n",
      "span\n",
      ",\n"
     ]
    }
   ],
   "source": [
    "import requests\n",
    "from bs4 import BeautifulSoup\n",
    "\n",
    "url = 'https://www.assemblee-nationale.fr/dyn/opendata/PIONANR5L16B0676.html'\n",
    "response = requests.get(url)\n",
    "soup = BeautifulSoup(response.text, 'html.parser')\n",
    "\n",
    "for element in soup.find_all(style=\"text-transform:none\"):\n",
    "    print(element.name)\n",
    "    print(element.text)\n"
   ]
  },
  {
   "cell_type": "code",
   "execution_count": null,
   "metadata": {},
   "outputs": [],
   "source": [
    "response.xpath('//title/text()').get()"
   ]
  },
  {
   "cell_type": "code",
   "execution_count": 40,
   "metadata": {},
   "outputs": [],
   "source": [
    "import requests\n",
    "from bs4 import BeautifulSoup\n",
    "import re\n",
    "\n",
    "url = 'https://www.assemblee-nationale.fr/dyn/opendata/PIONANR5L16B0676.html'\n",
    "response = requests.get(url)\n",
    "soup = BeautifulSoup(response.text, 'html.parser')\n",
    "\n",
    "for element in soup.find_all(text='les membres du groupe'):\n",
    "    print(element.name)\n",
    "    print(element.text)"
   ]
  },
  {
   "cell_type": "code",
   "execution_count": 55,
   "metadata": {},
   "outputs": [],
   "source": [
    "import requests\n",
    "from bs4 import BeautifulSoup\n",
    "import re\n",
    "\n",
    "url = 'https://www.assemblee-nationale.fr/dyn/opendata/PIONANR5L16B0676.html'\n",
    "response = requests.get(url)\n",
    "soup = BeautifulSoup(response.text, 'html.parser')\n",
    "n = soup.find_all(text=re.compile(\"les membres du groupe\"))\n"
   ]
  },
  {
   "cell_type": "code",
   "execution_count": null,
   "metadata": {},
   "outputs": [],
   "source": []
  },
  {
   "cell_type": "code",
   "execution_count": 93,
   "metadata": {},
   "outputs": [
    {
     "name": "stdout",
     "output_type": "stream",
     "text": [
      "[[]]\n",
      "([],)\n"
     ]
    }
   ],
   "source": [
    "user = re.compile(r'(?<=\"les membres du groupe )\\w+')\n",
    "user = tuple(map(lambda x: x.group() or \"\", map(rx.search, s)))\n"
   ]
  },
  {
   "attachments": {},
   "cell_type": "markdown",
   "metadata": {},
   "source": [
    "### Noms des députés"
   ]
  },
  {
   "cell_type": "code",
   "execution_count": 1,
   "metadata": {},
   "outputs": [
    {
     "name": "stdout",
     "output_type": "stream",
     "text": [
      "p\n",
      "\n",
      "\t\t\t\t(1) Mesdames et Messieurs : Damien Abad, Caroline Abadie, Damien Adam, Mme Sabrina Agresti-Roubache, Éric Alauzet, David Amiel, Pieyre-Alexandre Anglade, Jean-Philipe Ardouin, Antoine Armand, Quentin Bataillon, Xavier Batut, Belkhir Belhaddad, Mounir Belhamiti, Fanta Berete, Aurore Bergé, Benoît Bordat, Éric Bothorel, Florent Boudié, Chantal Bouloux, Bertrand Bouyx, Pascale Boyer, Yaël Braun-Pivet, Maud Bregeon, Anthony Brosse, Anne Brugnera, Danielle Brulebois, Stéphane Buchou, Françoise Buffet, Céline Calvez, Éléonore Caroit, Lionel Causse, Thomas Cazenave, Jean-René Cazeneuve, Pierre Cazeneuve, Émilie Chandler, Clara Chassaniol, Yannick Chenevard, Mireille Clapot, Fabienne Colboc, François Cormier-Bouligeon, Laurence Cristol, Dominique Da Silva, Christine Decodts, Julie Delpech, Frédéric Descrozaille, Benjamin Dirx, Nicole Dubré-Chirat, Philippe Dunoyer, Stella Dupont, Sophie Errante, Philippe Fait, Marc Ferracci, Jean-Marie Fiévet, Jean-Luc Fugit, Thomas Gassilloud,  Anne Genetet, Raphaël Gérard, Hadrien Ghomi, Éric Girardin, Joël Giraud, Olga Givernet, Charlotte Goetschy-Bolognese, Guillaume Gouffier Valente, Jean-Carles Grelier, Marie Guévenoux, Claire Guichard, Philippe Guillemard, Benjamin Haddad, Nadia Hai, Yannick Haury, Pierre Henriet, Laurence Heydel Grillere, Alexandre Holroyd, Sacha Houlié, Servane Hugues, Monique Iborra, Alexis Izard, Jean-Michel Jacques, Caroline Janvier, Guillaume Kasbarian, Fadila Khattabi, Brigitte Klinkert, Daniel Labaronne, Emmanuel Lacresse,  Amélia Lakrafi, Michel Lauzzana, Pascal Lavergne, Sandrine Le Feur, Didier Le Gac, Gilles Le Gendre, Constance Le Grip, Anaïg Le Meur, Christine Le Nabour, Nicole Le Peih, Fabrice Le Vigoureux, Marie Lebec, Vincent Ledoux, Mathieu Lefèvre, Patricia Lemoine, Brigitte Liso, Jean-François Lovisolo, Sylvain Maillard, Laurence Maillart-Méhaignerie, Jacqueline Maquet, Bastien Marchive, Louis Margueritte, Christophe Marion, Sandra Marsaud, Didier Martin, Denis Masséglia, Stéphane Mazars, Graziella Melchior, Ludovic Mendes, Lysiane Métayer, Nicolas Metzdorf, Marjolaine Meynier-Millefert, Paul Midy, Benoit Mournet, Karl Olive, Nicolas Pacquot, Sophie Panonacle, Astrid Panosyan-Bouvet, Didier Paris, Charlotte Parmentier-Lecocq, Emmanuel Pellerin, Patrice Perrot, Anne-Laurence Petel, Michèle Peyron, Béatrice Piron, Claire Pitollat, Barbara Pompili, Jean-Pierre Pont, Éric Poulliat, Natalia Pouzyreff, Rémy Rebeyrotte, Robin Reda, Cécile Rilhac, Véronique Riotton, Stéphanie Rist, Marie-Pierre Rixain, Charles Rodwell, Xavier Roseren, Jean-François Rousset, Lionel Royer-Perreaut, Thomas Rudigoz, Laetitia Saint-Paul, Mikaele Seo, Freddy Sertin, Charles Sitzenstuhl, Philippe Sorez, Bertrand Sorre, Violette Spillebout, Bruno Studer, Liliana Tanguy, Sarah Tanzilli, Jean Terlier, Prisca Thevenot, Huguette Tiegna, Stéphane Travert, David Valence, Annie Vidal, Patrick Vignal, Corinne Vignon, Stéphane Vojetta, Lionel Vuibert, Guillaume Vuilletet, Christopher Weissberg, Éric Woerth, Caroline Yadan, Jean-Marc Zulesi.\n",
      "\t\t\t\n"
     ]
    }
   ],
   "source": [
    "import requests\n",
    "from bs4 import BeautifulSoup\n",
    "\n",
    "url = 'https://www.assemblee-nationale.fr/dyn/opendata/PIONANR5L16B0676.html'\n",
    "response = requests.get(url)\n",
    "soup = BeautifulSoup(response.text, 'html.parser')\n",
    "\n",
    "for element in soup.find_all(style=\"font-size:12pt\"):\n",
    "    print(element.name)\n",
    "    print(element.text)\n"
   ]
  },
  {
   "attachments": {},
   "cell_type": "markdown",
   "metadata": {},
   "source": [
    "### Texte de lois "
   ]
  },
  {
   "cell_type": "code",
   "execution_count": 2,
   "metadata": {},
   "outputs": [
    {
     "name": "stdout",
     "output_type": "stream",
     "text": [
      "p\n",
      "\n",
      "\t\t\t\tLa filière à responsabilité élargie des producteurs d’emballages ménagers est opérationnelle depuis trente ans tandis que celle relative aux papiers graphiques et aux imprimés papiers l’est depuis dix‑sept ans.\n",
      "\t\t\t\n",
      "p\n",
      "\n",
      "\t\t\t\tCes deux filières s’appuient sur les collectivités territoriales qui assurent la collecte des déchets qui en découlent. La loi n° 2020‑105 du 10 février 2020 relative à la lutte contre le gaspillage et à l’économie circulaire a par ailleurs réaffirmé la synergie de ces deux filières, puisqu’elle prévoit que « pour contribuer à l’efficacité du tri, les collectivités territoriales et leurs groupements veillent à ce que la collecte séparée des déchets d’emballages et des papiers à usage graphique soit organisée selon des modalités harmonisées sur l’ensemble du territoire national. »\n",
      "\t\t\t\n",
      "p\n",
      "\n",
      "\t\t\t\tCette même loi prévoit que « la transition vers un dispositif harmonisé se fait progressivement, en s’appuyant sur le renouvellement naturel des parcs de contenants de collecte, avec pour objectif un déploiement effectif de ce dispositif sur l’ensemble du territoire national au plus tard le 31 décembre 2022. Les éco‑organismes des filières à responsabilité élargie du producteur concernés accompagnent cette transition. »\n",
      "\t\t\t\n",
      "p\n",
      "\n",
      "\t\t\t\tCe dispositif harmonisé est désormais en place sur la quasi‑totalité du territoire, et c’est pourquoi il parait opportun de procéder à la fusion des deux filières à responsabilité élargie des producteurs concernés, comme le propose la présente proposition de loi, pour en renforcer les synergies, tant en matière de renforcement de l’industrie du recyclage des papiers et des cartons sur le territoire national qu’en matière d’incitation via les systèmes de primes et pénalités qui peuvent être mis en place dans le cadre des filières à responsabilité élargie des producteurs, en particulier pour des matériaux comme le papier et le carton qui permettent l’utilisation de matière renouvelable à la différence des matériaux à base de plastique. \n",
      "\t\t\t\n",
      "p\n",
      "\n",
      "\t\t\t\tCette fusion doit également permettre de mieux prendre en compte les dynamiques d’évolutions des tonnages de mise sur le marché des papiers et des cartons, les premiers étant en baisse en raison de la digitalisation de notre société et les seconds en augmentation de par le développement du commerce en ligne et de la substitution de certains emballages en plastique par des emballages en carton.\n",
      "\t\t\t\n",
      "p\n",
      "\n",
      "\t\t\t\tÀ ce titre, une stratégie nationale « recyclabilité, recyclage et réincorporation » a été mise en place dans le cadre de France 2030 afin de développer la valorisation de nos déchets, avec un focus spécifique sur l’accompagnement de l’innovation pour développer des nouveaux débouchés pour les papiers cartons récupérés.\n",
      "\t\t\t\n",
      "p\n",
      "\n",
      "\t\t\t\tEn outre, afin de prendre en compte les évolutions du secteur de la presse écrite, cette proposition de loi propose également de conserver le dispositif mis en place par la loi n° 2015‑992 du 17 août 2015 relative à la transition énergétique pour la croissance verte, à savoir la mise à disposition par la presse d’encarts publicitaires relatifs aux bons gestes de tri, en l’étendant à l’ensemble de la transition écologique.\n",
      "\t\t\t\n",
      "p\n",
      "\n",
      "\t\t\t\tAfin que ce dispositif soit conforme au droit de l’Union européenne, la présente proposition de loi instaure un mécanisme en dehors de la filière à responsabilité élargie des producteurs, ce qui permet de ne pas mettre en péril la survie du secteur et que les acteurs de la presse puissent participer aux enjeux auxquels nous devons faire face quant à la gestion de nos déchets et plus généralement pour rendre notre économie plus circulaire.\n",
      "\t\t\t\n",
      "p\n",
      "\n",
      "\t\t\t\tL’article 1er prévoit ainsi que les filières relatives aux emballages ménagers d’une part et aux imprimés papiers et papiers à usage graphique d’autre part soit fusionnée. Il prévoit également, pour les éditeurs de publications de presse uniquement, de transformer leurs contributions en nature à la filière REP sous forme d’encart publicitaires en une mise à disposition d’encarts publicitaires destinés à informer le public sur la transition écologique.\n",
      "\t\t\t\n",
      "p\n",
      "\n",
      "\t\t\t\tL’article 2 est quant à lui un article d’exécution qui prévoit l’entrée en vigueur des dispositions précédemment citées au 1er janvier 2023.\n",
      "\t\t\t\n",
      "p\n",
      "\n",
      "Le code de l’environnement est ainsi modifié :\n",
      "\t\t\t\n",
      "p\n",
      "\n",
      "1° L’article L. 541‑10‑1 est ainsi modifié :\n",
      "\t\t\t\n",
      "p\n",
      "\n",
      "a) Le 1° est ainsi rédigé :\n",
      "\t\t\t\n",
      "p\n",
      "\n",
      "« 1° a) Les emballages servant à commercialiser les produits consommés ou utilisés par les ménages, y compris ceux susceptibles de l’être et ceux consommés hors foyer ; \n",
      "\t\t\t\n",
      "p\n",
      "\n",
      "« b) Les imprimés papiers émis, y compris à titre gratuit, par des donneurs d’ordre ou pour leur compte et les papiers à usage graphique, à destination des utilisateurs finaux qui produisent des déchets ménagers et assimilés. Sont exemptés de cette obligation les publications de presse au sens de l’article 1er de la loi n° 86‑897 du 1er août 1986 portant réforme du régime juridique de la presse qui participent à la convention mentionnée à l’article L. 541‑10‑19, et les livres ; »\n",
      "\t\t\t\n",
      "p\n",
      "\n",
      "b) Le 3° est abrogé ;\n",
      "\t\t\t\n",
      "p\n",
      "\n",
      "2° Au premier alinéa du III de l’article L. 541‑10‑18, les mots : « aux 1° et 3° » sont remplacés par les mots : « au 1° » ;\n",
      "\t\t\t\n",
      "p\n",
      "\n",
      "3° L’article L. 541‑10‑19 est ainsi rédigé :\n",
      "\t\t\t\n",
      "p\n",
      "\n",
      "« Art. L. 541‑10‑19. – Une convention de partenariat est conclue entre le ministre chargé de l’environnement, le ministre chargé de la communication et les organisations professionnelles d’entreprises de presse représentatives afin de déterminer les conditions dans lesquelles les publications de presse au sens de l’article 1er de la loi n° 86‑897 du 1er août 1986 portant réforme du régime juridique de la presse mettent gratuitement à disposition des espaces de communication destinés à informer le public sur la transition écologique. ».\n",
      "\t\t\t\n",
      "p\n",
      "\n",
      "\t\t\t\tL’article 1er de la présente loi entre en vigueur le 1er janvier 2023.\n",
      "\t\t\t\n"
     ]
    }
   ],
   "source": [
    "import requests\n",
    "from bs4 import BeautifulSoup\n",
    "\n",
    "url = 'https://www.assemblee-nationale.fr/dyn/opendata/PIONANR5L16B0676.html'\n",
    "response = requests.get(url)\n",
    "soup = BeautifulSoup(response.text, 'html.parser')\n",
    "\n",
    "for element in soup.find_all(class_=\"assnatLoiTexte\"):\n",
    "    print(element.name)\n",
    "    print(element.text)\n"
   ]
  },
  {
   "cell_type": "code",
   "execution_count": 19,
   "metadata": {},
   "outputs": [
    {
     "ename": "ValueError",
     "evalue": "not enough values to unpack (expected 7, got 1)",
     "output_type": "error",
     "traceback": [
      "\u001b[0;31m---------------------------------------------------------------------------\u001b[0m",
      "\u001b[0;31mValueError\u001b[0m                                Traceback (most recent call last)",
      "Cell \u001b[0;32mIn [19], line 21\u001b[0m\n\u001b[1;32m     14\u001b[0m     land_x_prev, land_y_prev \u001b[39m=\u001b[39m land_x, land_y\n\u001b[1;32m     15\u001b[0m \u001b[39mwhile\u001b[39;00m \u001b[39mTrue\u001b[39;00m:\n\u001b[1;32m     16\u001b[0m     \u001b[39m# h_speed: the horizontal speed (in m/s), can be negative.\u001b[39;00m\n\u001b[1;32m     17\u001b[0m     \u001b[39m# v_speed: the vertical speed (in m/s), can be negative.\u001b[39;00m\n\u001b[1;32m     18\u001b[0m     \u001b[39m# fuel: the quantity of remaining fuel in liters.\u001b[39;00m\n\u001b[1;32m     19\u001b[0m     \u001b[39m# rotate: the rotation angle in degrees (-90 to 90).\u001b[39;00m\n\u001b[1;32m     20\u001b[0m     \u001b[39m# power: the thrust power (0 to 4).\u001b[39;00m\n\u001b[0;32m---> 21\u001b[0m     x, y, h_speed, v_speed, fuel, rotate, power \u001b[39m=\u001b[39m [\u001b[39mint\u001b[39m(i) \u001b[39mfor\u001b[39;00m i \u001b[39min\u001b[39;00m \u001b[39minput\u001b[39m()\u001b[39m.\u001b[39msplit()]\n\u001b[1;32m     22\u001b[0m     \u001b[39mif\u001b[39;00m(landing_start\u001b[39m<\u001b[39mx\u001b[39m<\u001b[39mlanding_end):\n\u001b[1;32m     23\u001b[0m         dist \u001b[39m=\u001b[39m y\u001b[39m-\u001b[39mlanding_height\n",
      "\u001b[0;31mValueError\u001b[0m: not enough values to unpack (expected 7, got 1)"
     ]
    }
   ],
   "source": [
    "import sys\n",
    "import math\n",
    "surface_n = int(input())\n",
    "land_x_prev = land_y_prev = 0\n",
    "landing_start = 0\n",
    "landing_end = 7000\n",
    "landing_height = 0\n",
    "for i in range(surface_n):\n",
    "    land_x, land_y = [int(j) for j in input().split()]\n",
    "    if(land_x_prev != 0 and land_y_prev == land_y):\n",
    "        landing_height = land_y\n",
    "        landing_start = land_x_prev\n",
    "        landing_end = land_x\n",
    "    land_x_prev, land_y_prev = land_x, land_y\n",
    "while True:\n",
    "    # h_speed: the horizontal speed (in m/s), can be negative.\n",
    "    # v_speed: the vertical speed (in m/s), can be negative.\n",
    "    # fuel: the quantity of remaining fuel in liters.\n",
    "    # rotate: the rotation angle in degrees (-90 to 90).\n",
    "    # power: the thrust power (0 to 4).\n",
    "    x, y, h_speed, v_speed, fuel, rotate, power = [int(i) for i in input().split()]\n",
    "    if(landing_start<x<landing_end):\n",
    "        dist = y-landing_height\n",
    "        if v_speed<-35:\n",
    "            power = 4\n",
    "        else:\n",
    "            power = 3\n",
    "        if(dist>1200 and v_speed>-45):\n",
    "            power = int(power*(1-dist/3000))\n",
    "    # 2 integers: rotate power. rotate is the desired rotation angle (should be 0 for level 1), power is the desired thrust power (0 to 4).\n",
    "    print(\"0 \"+str(power))\n",
    "\n"
   ]
  }
 ],
 "metadata": {
  "kernelspec": {
   "display_name": "Python 3.10.2 ('notebook_env')",
   "language": "python",
   "name": "python3"
  },
  "language_info": {
   "codemirror_mode": {
    "name": "ipython",
    "version": 3
   },
   "file_extension": ".py",
   "mimetype": "text/x-python",
   "name": "python",
   "nbconvert_exporter": "python",
   "pygments_lexer": "ipython3",
   "version": "3.10.2"
  },
  "orig_nbformat": 4,
  "vscode": {
   "interpreter": {
    "hash": "41fba93d83b61576bfa0d097f4901b85ad577ef97b7c4e28015daf92554e79fa"
   }
  }
 },
 "nbformat": 4,
 "nbformat_minor": 2
}
