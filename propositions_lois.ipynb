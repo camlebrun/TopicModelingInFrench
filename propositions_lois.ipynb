{
 "cells": [
  {
   "attachments": {},
   "cell_type": "markdown",
   "metadata": {},
   "source": [
    "##  Exemple sur les propositions de lois "
   ]
  },
  {
   "attachments": {},
   "cell_type": "markdown",
   "metadata": {},
   "source": [
    "### Noms des députés"
   ]
  },
  {
   "cell_type": "code",
   "execution_count": 1,
   "metadata": {},
   "outputs": [
    {
     "name": "stdout",
     "output_type": "stream",
     "text": [
      "p\n",
      "\n",
      "\t\t\t\t(1) Mesdames et Messieurs : Damien Abad, Caroline Abadie, Damien Adam, Mme Sabrina Agresti-Roubache, Éric Alauzet, David Amiel, Pieyre-Alexandre Anglade, Jean-Philipe Ardouin, Antoine Armand, Quentin Bataillon, Xavier Batut, Belkhir Belhaddad, Mounir Belhamiti, Fanta Berete, Aurore Bergé, Benoît Bordat, Éric Bothorel, Florent Boudié, Chantal Bouloux, Bertrand Bouyx, Pascale Boyer, Yaël Braun-Pivet, Maud Bregeon, Anthony Brosse, Anne Brugnera, Danielle Brulebois, Stéphane Buchou, Françoise Buffet, Céline Calvez, Éléonore Caroit, Lionel Causse, Thomas Cazenave, Jean-René Cazeneuve, Pierre Cazeneuve, Émilie Chandler, Clara Chassaniol, Yannick Chenevard, Mireille Clapot, Fabienne Colboc, François Cormier-Bouligeon, Laurence Cristol, Dominique Da Silva, Christine Decodts, Julie Delpech, Frédéric Descrozaille, Benjamin Dirx, Nicole Dubré-Chirat, Philippe Dunoyer, Stella Dupont, Sophie Errante, Philippe Fait, Marc Ferracci, Jean-Marie Fiévet, Jean-Luc Fugit, Thomas Gassilloud,  Anne Genetet, Raphaël Gérard, Hadrien Ghomi, Éric Girardin, Joël Giraud, Olga Givernet, Charlotte Goetschy-Bolognese, Guillaume Gouffier Valente, Jean-Carles Grelier, Marie Guévenoux, Claire Guichard, Philippe Guillemard, Benjamin Haddad, Nadia Hai, Yannick Haury, Pierre Henriet, Laurence Heydel Grillere, Alexandre Holroyd, Sacha Houlié, Servane Hugues, Monique Iborra, Alexis Izard, Jean-Michel Jacques, Caroline Janvier, Guillaume Kasbarian, Fadila Khattabi, Brigitte Klinkert, Daniel Labaronne, Emmanuel Lacresse,  Amélia Lakrafi, Michel Lauzzana, Pascal Lavergne, Sandrine Le Feur, Didier Le Gac, Gilles Le Gendre, Constance Le Grip, Anaïg Le Meur, Christine Le Nabour, Nicole Le Peih, Fabrice Le Vigoureux, Marie Lebec, Vincent Ledoux, Mathieu Lefèvre, Patricia Lemoine, Brigitte Liso, Jean-François Lovisolo, Sylvain Maillard, Laurence Maillart-Méhaignerie, Jacqueline Maquet, Bastien Marchive, Louis Margueritte, Christophe Marion, Sandra Marsaud, Didier Martin, Denis Masséglia, Stéphane Mazars, Graziella Melchior, Ludovic Mendes, Lysiane Métayer, Nicolas Metzdorf, Marjolaine Meynier-Millefert, Paul Midy, Benoit Mournet, Karl Olive, Nicolas Pacquot, Sophie Panonacle, Astrid Panosyan-Bouvet, Didier Paris, Charlotte Parmentier-Lecocq, Emmanuel Pellerin, Patrice Perrot, Anne-Laurence Petel, Michèle Peyron, Béatrice Piron, Claire Pitollat, Barbara Pompili, Jean-Pierre Pont, Éric Poulliat, Natalia Pouzyreff, Rémy Rebeyrotte, Robin Reda, Cécile Rilhac, Véronique Riotton, Stéphanie Rist, Marie-Pierre Rixain, Charles Rodwell, Xavier Roseren, Jean-François Rousset, Lionel Royer-Perreaut, Thomas Rudigoz, Laetitia Saint-Paul, Mikaele Seo, Freddy Sertin, Charles Sitzenstuhl, Philippe Sorez, Bertrand Sorre, Violette Spillebout, Bruno Studer, Liliana Tanguy, Sarah Tanzilli, Jean Terlier, Prisca Thevenot, Huguette Tiegna, Stéphane Travert, David Valence, Annie Vidal, Patrick Vignal, Corinne Vignon, Stéphane Vojetta, Lionel Vuibert, Guillaume Vuilletet, Christopher Weissberg, Éric Woerth, Caroline Yadan, Jean-Marc Zulesi.\n",
      "\t\t\t\n"
     ]
    }
   ],
   "source": [
    "import requests\n",
    "from bs4 import BeautifulSoup\n",
    "\n",
    "url = 'https://www.assemblee-nationale.fr/dyn/opendata/PIONANR5L16B0676.html'\n",
    "response = requests.get(url)\n",
    "soup = BeautifulSoup(response.text, 'html.parser')\n",
    "\n",
    "for element in soup.find_all(style=\"font-size:12pt\"):\n",
    "    print(element.name)\n",
    "    print(element.text)\n"
   ]
  },
  {
   "attachments": {},
   "cell_type": "markdown",
   "metadata": {},
   "source": [
    "### Texte de lois "
   ]
  },
  {
   "cell_type": "code",
   "execution_count": 2,
   "metadata": {},
   "outputs": [
    {
     "name": "stdout",
     "output_type": "stream",
     "text": [
      "p\n",
      "\n",
      "\t\t\t\tLa filière à responsabilité élargie des producteurs d’emballages ménagers est opérationnelle depuis trente ans tandis que celle relative aux papiers graphiques et aux imprimés papiers l’est depuis dix‑sept ans.\n",
      "\t\t\t\n",
      "p\n",
      "\n",
      "\t\t\t\tCes deux filières s’appuient sur les collectivités territoriales qui assurent la collecte des déchets qui en découlent. La loi n° 2020‑105 du 10 février 2020 relative à la lutte contre le gaspillage et à l’économie circulaire a par ailleurs réaffirmé la synergie de ces deux filières, puisqu’elle prévoit que « pour contribuer à l’efficacité du tri, les collectivités territoriales et leurs groupements veillent à ce que la collecte séparée des déchets d’emballages et des papiers à usage graphique soit organisée selon des modalités harmonisées sur l’ensemble du territoire national. »\n",
      "\t\t\t\n",
      "p\n",
      "\n",
      "\t\t\t\tCette même loi prévoit que « la transition vers un dispositif harmonisé se fait progressivement, en s’appuyant sur le renouvellement naturel des parcs de contenants de collecte, avec pour objectif un déploiement effectif de ce dispositif sur l’ensemble du territoire national au plus tard le 31 décembre 2022. Les éco‑organismes des filières à responsabilité élargie du producteur concernés accompagnent cette transition. »\n",
      "\t\t\t\n",
      "p\n",
      "\n",
      "\t\t\t\tCe dispositif harmonisé est désormais en place sur la quasi‑totalité du territoire, et c’est pourquoi il parait opportun de procéder à la fusion des deux filières à responsabilité élargie des producteurs concernés, comme le propose la présente proposition de loi, pour en renforcer les synergies, tant en matière de renforcement de l’industrie du recyclage des papiers et des cartons sur le territoire national qu’en matière d’incitation via les systèmes de primes et pénalités qui peuvent être mis en place dans le cadre des filières à responsabilité élargie des producteurs, en particulier pour des matériaux comme le papier et le carton qui permettent l’utilisation de matière renouvelable à la différence des matériaux à base de plastique. \n",
      "\t\t\t\n",
      "p\n",
      "\n",
      "\t\t\t\tCette fusion doit également permettre de mieux prendre en compte les dynamiques d’évolutions des tonnages de mise sur le marché des papiers et des cartons, les premiers étant en baisse en raison de la digitalisation de notre société et les seconds en augmentation de par le développement du commerce en ligne et de la substitution de certains emballages en plastique par des emballages en carton.\n",
      "\t\t\t\n",
      "p\n",
      "\n",
      "\t\t\t\tÀ ce titre, une stratégie nationale « recyclabilité, recyclage et réincorporation » a été mise en place dans le cadre de France 2030 afin de développer la valorisation de nos déchets, avec un focus spécifique sur l’accompagnement de l’innovation pour développer des nouveaux débouchés pour les papiers cartons récupérés.\n",
      "\t\t\t\n",
      "p\n",
      "\n",
      "\t\t\t\tEn outre, afin de prendre en compte les évolutions du secteur de la presse écrite, cette proposition de loi propose également de conserver le dispositif mis en place par la loi n° 2015‑992 du 17 août 2015 relative à la transition énergétique pour la croissance verte, à savoir la mise à disposition par la presse d’encarts publicitaires relatifs aux bons gestes de tri, en l’étendant à l’ensemble de la transition écologique.\n",
      "\t\t\t\n",
      "p\n",
      "\n",
      "\t\t\t\tAfin que ce dispositif soit conforme au droit de l’Union européenne, la présente proposition de loi instaure un mécanisme en dehors de la filière à responsabilité élargie des producteurs, ce qui permet de ne pas mettre en péril la survie du secteur et que les acteurs de la presse puissent participer aux enjeux auxquels nous devons faire face quant à la gestion de nos déchets et plus généralement pour rendre notre économie plus circulaire.\n",
      "\t\t\t\n",
      "p\n",
      "\n",
      "\t\t\t\tL’article 1er prévoit ainsi que les filières relatives aux emballages ménagers d’une part et aux imprimés papiers et papiers à usage graphique d’autre part soit fusionnée. Il prévoit également, pour les éditeurs de publications de presse uniquement, de transformer leurs contributions en nature à la filière REP sous forme d’encart publicitaires en une mise à disposition d’encarts publicitaires destinés à informer le public sur la transition écologique.\n",
      "\t\t\t\n",
      "p\n",
      "\n",
      "\t\t\t\tL’article 2 est quant à lui un article d’exécution qui prévoit l’entrée en vigueur des dispositions précédemment citées au 1er janvier 2023.\n",
      "\t\t\t\n",
      "p\n",
      "\n",
      "Le code de l’environnement est ainsi modifié :\n",
      "\t\t\t\n",
      "p\n",
      "\n",
      "1° L’article L. 541‑10‑1 est ainsi modifié :\n",
      "\t\t\t\n",
      "p\n",
      "\n",
      "a) Le 1° est ainsi rédigé :\n",
      "\t\t\t\n",
      "p\n",
      "\n",
      "« 1° a) Les emballages servant à commercialiser les produits consommés ou utilisés par les ménages, y compris ceux susceptibles de l’être et ceux consommés hors foyer ; \n",
      "\t\t\t\n",
      "p\n",
      "\n",
      "« b) Les imprimés papiers émis, y compris à titre gratuit, par des donneurs d’ordre ou pour leur compte et les papiers à usage graphique, à destination des utilisateurs finaux qui produisent des déchets ménagers et assimilés. Sont exemptés de cette obligation les publications de presse au sens de l’article 1er de la loi n° 86‑897 du 1er août 1986 portant réforme du régime juridique de la presse qui participent à la convention mentionnée à l’article L. 541‑10‑19, et les livres ; »\n",
      "\t\t\t\n",
      "p\n",
      "\n",
      "b) Le 3° est abrogé ;\n",
      "\t\t\t\n",
      "p\n",
      "\n",
      "2° Au premier alinéa du III de l’article L. 541‑10‑18, les mots : « aux 1° et 3° » sont remplacés par les mots : « au 1° » ;\n",
      "\t\t\t\n",
      "p\n",
      "\n",
      "3° L’article L. 541‑10‑19 est ainsi rédigé :\n",
      "\t\t\t\n",
      "p\n",
      "\n",
      "« Art. L. 541‑10‑19. – Une convention de partenariat est conclue entre le ministre chargé de l’environnement, le ministre chargé de la communication et les organisations professionnelles d’entreprises de presse représentatives afin de déterminer les conditions dans lesquelles les publications de presse au sens de l’article 1er de la loi n° 86‑897 du 1er août 1986 portant réforme du régime juridique de la presse mettent gratuitement à disposition des espaces de communication destinés à informer le public sur la transition écologique. ».\n",
      "\t\t\t\n",
      "p\n",
      "\n",
      "\t\t\t\tL’article 1er de la présente loi entre en vigueur le 1er janvier 2023.\n",
      "\t\t\t\n"
     ]
    }
   ],
   "source": [
    "import requests\n",
    "from bs4 import BeautifulSoup\n",
    "\n",
    "url = 'https://www.assemblee-nationale.fr/dyn/opendata/PIONANR5L16B0676.html'\n",
    "response = requests.get(url)\n",
    "soup = BeautifulSoup(response.text, 'html.parser')\n",
    "\n",
    "for element in soup.find_all(class_=\"assnatLoiTexte\"):\n",
    "    print(element.name)\n",
    "    print(element.text)\n"
   ]
  }
 ],
 "metadata": {
  "kernelspec": {
   "display_name": "Python 3.10.2 ('notebook_env')",
   "language": "python",
   "name": "python3"
  },
  "language_info": {
   "codemirror_mode": {
    "name": "ipython",
    "version": 3
   },
   "file_extension": ".py",
   "mimetype": "text/x-python",
   "name": "python",
   "nbconvert_exporter": "python",
   "pygments_lexer": "ipython3",
   "version": "3.10.2"
  },
  "orig_nbformat": 4,
  "vscode": {
   "interpreter": {
    "hash": "41fba93d83b61576bfa0d097f4901b85ad577ef97b7c4e28015daf92554e79fa"
   }
  }
 },
 "nbformat": 4,
 "nbformat_minor": 2
}
