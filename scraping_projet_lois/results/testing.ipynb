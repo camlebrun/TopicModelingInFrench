{
 "cells": [
  {
   "cell_type": "code",
   "execution_count": 2,
   "metadata": {},
   "outputs": [],
   "source": [
    "import pandas as pd"
   ]
  },
  {
   "cell_type": "code",
   "execution_count": null,
   "metadata": {},
   "outputs": [],
   "source": [
    "import main_projet\n",
    "urls = [f\"https://www.assemblee-nationale.fr/dyn/opendata/PRJLANR5L15B{i:04d}.html\" for i in range(\n",
    "    0, 20)]\n",
    "scraper = main_projet.WebScraper(urls)\n",
    "\n",
    "\n",
    "# Appel de la méthode scrape pour extraire les informations et les enregistrer dans un fichier CSV nommé \"to17_22.csv\"\n",
    "scraper.scrape(\"to17_22.csv\")\n",
    "\n",
    "scraper.clean_data(\"to17_22.csv\", \"clean_to17_22.csv\")"
   ]
  },
  {
   "cell_type": "code",
   "execution_count": 3,
   "metadata": {},
   "outputs": [],
   "source": [
    "\n",
    "import pandas as pd\n",
    "data = pd.read_csv('/Users/camille/repo/Hetic/projet_demo/ia_theme/scraping_projet_lois/results/output_file_cleaned.csv')"
   ]
  },
  {
   "cell_type": "code",
   "execution_count": null,
   "metadata": {},
   "outputs": [],
   "source": [
    "stop_word =['le', 'la', 'les', 'un', 'une', 'des']"
   ]
  },
  {
   "attachments": {},
   "cell_type": "markdown",
   "metadata": {},
   "source": [
    "### Date"
   ]
  },
  {
   "cell_type": "code",
   "execution_count": 9,
   "metadata": {},
   "outputs": [],
   "source": [
    "data['date'] = data['date'].replace(regex=r'\\.', value='')\n",
    "\n"
   ]
  },
  {
   "cell_type": "code",
   "execution_count": 22,
   "metadata": {},
   "outputs": [
    {
     "data": {
      "text/html": [
       "<div>\n",
       "<style scoped>\n",
       "    .dataframe tbody tr th:only-of-type {\n",
       "        vertical-align: middle;\n",
       "    }\n",
       "\n",
       "    .dataframe tbody tr th {\n",
       "        vertical-align: top;\n",
       "    }\n",
       "\n",
       "    .dataframe thead th {\n",
       "        text-align: right;\n",
       "    }\n",
       "</style>\n",
       "<table border=\"1\" class=\"dataframe\">\n",
       "  <thead>\n",
       "    <tr style=\"text-align: right;\">\n",
       "      <th></th>\n",
       "      <th>url</th>\n",
       "      <th>information</th>\n",
       "      <th>date</th>\n",
       "      <th>texts</th>\n",
       "      <th>helo</th>\n",
       "    </tr>\n",
       "  </thead>\n",
       "  <tbody>\n",
       "    <tr>\n",
       "      <th>0</th>\n",
       "      <td>https://www.assemblee-nationale.fr/dyn/opendat...</td>\n",
       "      <td>3</td>\n",
       "      <td>29/06/2017</td>\n",
       "      <td>L’article 114 de la loi n° 2016‑1691 du 9 déce...</td>\n",
       "      <td>', '– 1 –', '', 'projet de loi', '', 'Le Premi...</td>\n",
       "    </tr>\n",
       "    <tr>\n",
       "      <th>1</th>\n",
       "      <td>https://www.assemblee-nationale.fr/dyn/opendat...</td>\n",
       "      <td>4</td>\n",
       "      <td>29/06/2017</td>\n",
       "      <td>Conformément à la volonté du Président de la R...</td>\n",
       "      <td>', '– 1 –', '', 'projet de loi', '', 'Le Premi...</td>\n",
       "    </tr>\n",
       "    <tr>\n",
       "      <th>2</th>\n",
       "      <td>https://www.assemblee-nationale.fr/dyn/opendat...</td>\n",
       "      <td>6</td>\n",
       "      <td>29/06/2017</td>\n",
       "      <td>', 'Le présent projet de loi ratifiant l’ordon...</td>\n",
       "      <td>', 'projet de loi', '', 'Le Premier ministre,'...</td>\n",
       "    </tr>\n",
       "    <tr>\n",
       "      <th>3</th>\n",
       "      <td>https://www.assemblee-nationale.fr/dyn/opendat...</td>\n",
       "      <td>7</td>\n",
       "      <td>29/06/2017</td>\n",
       "      <td>L’article 1er du projet de loi ratifie l’ordon...</td>\n",
       "      <td>', '– 1 –', '', 'projet de loi', '', 'Le Premi...</td>\n",
       "    </tr>\n",
       "    <tr>\n",
       "      <th>4</th>\n",
       "      <td>https://www.assemblee-nationale.fr/dyn/opendat...</td>\n",
       "      <td>8</td>\n",
       "      <td>29/06/2017</td>\n",
       "      <td>L’article unique du projet de loi procède à la...</td>\n",
       "      <td>', 'projet de loi', '', 'Le Premier ministre,'...</td>\n",
       "    </tr>\n",
       "    <tr>\n",
       "      <th>...</th>\n",
       "      <td>...</td>\n",
       "      <td>...</td>\n",
       "      <td>...</td>\n",
       "      <td>...</td>\n",
       "      <td>...</td>\n",
       "    </tr>\n",
       "    <tr>\n",
       "      <th>443</th>\n",
       "      <td>https://www.assemblee-nationale.fr/dyn/opendat...</td>\n",
       "      <td>5063</td>\n",
       "      <td>22/02/2022</td>\n",
       "      <td>L’ordonnance n° 2021‑1605 du 8 décembre 2021 é...</td>\n",
       "      <td>NaN</td>\n",
       "    </tr>\n",
       "    <tr>\n",
       "      <th>444</th>\n",
       "      <td>https://www.assemblee-nationale.fr/dyn/opendat...</td>\n",
       "      <td>NaN</td>\n",
       "      <td>23/02/2022</td>\n",
       "      <td>L’article 55 de la loi n° 2019‑828 du 6 août 2...</td>\n",
       "      <td>', '– 1 –', '', 'projet de loi', '', 'Le Premi...</td>\n",
       "    </tr>\n",
       "    <tr>\n",
       "      <th>445</th>\n",
       "      <td>https://www.assemblee-nationale.fr/dyn/opendat...</td>\n",
       "      <td>NaN</td>\n",
       "      <td>03/07/2022</td>\n",
       "      <td>ratifiant l’ordonnance n° 2021‑1200 du 15 sept...</td>\n",
       "      <td>', 'projet de loi', '', 'Le Premier ministre,'...</td>\n",
       "    </tr>\n",
       "    <tr>\n",
       "      <th>446</th>\n",
       "      <td>https://www.assemblee-nationale.fr/dyn/opendat...</td>\n",
       "      <td>NaN</td>\n",
       "      <td>03/09/2022</td>\n",
       "      <td>L’article 108 de la loi n° 2020‑1576 du 14 déc...</td>\n",
       "      <td>', 'projet de loi', '', 'Le Premier ministre,'...</td>\n",
       "    </tr>\n",
       "    <tr>\n",
       "      <th>447</th>\n",
       "      <td>https://www.assemblee-nationale.fr/dyn/opendat...</td>\n",
       "      <td>NaN</td>\n",
       "      <td>16/03/2022</td>\n",
       "      <td>L’action du ministère de l’intérieur est au cœ...</td>\n",
       "      <td>', 'projet de loi', '', 'Le Premier ministre,'...</td>\n",
       "    </tr>\n",
       "  </tbody>\n",
       "</table>\n",
       "<p>448 rows × 5 columns</p>\n",
       "</div>"
      ],
      "text/plain": [
       "                                                   url information  \\\n",
       "0    https://www.assemblee-nationale.fr/dyn/opendat...           3   \n",
       "1    https://www.assemblee-nationale.fr/dyn/opendat...           4   \n",
       "2    https://www.assemblee-nationale.fr/dyn/opendat...           6   \n",
       "3    https://www.assemblee-nationale.fr/dyn/opendat...           7   \n",
       "4    https://www.assemblee-nationale.fr/dyn/opendat...           8   \n",
       "..                                                 ...         ...   \n",
       "443  https://www.assemblee-nationale.fr/dyn/opendat...        5063   \n",
       "444  https://www.assemblee-nationale.fr/dyn/opendat...         NaN   \n",
       "445  https://www.assemblee-nationale.fr/dyn/opendat...         NaN   \n",
       "446  https://www.assemblee-nationale.fr/dyn/opendat...         NaN   \n",
       "447  https://www.assemblee-nationale.fr/dyn/opendat...         NaN   \n",
       "\n",
       "           date                                              texts  \\\n",
       "0    29/06/2017  L’article 114 de la loi n° 2016‑1691 du 9 déce...   \n",
       "1    29/06/2017  Conformément à la volonté du Président de la R...   \n",
       "2    29/06/2017  ', 'Le présent projet de loi ratifiant l’ordon...   \n",
       "3    29/06/2017  L’article 1er du projet de loi ratifie l’ordon...   \n",
       "4    29/06/2017  L’article unique du projet de loi procède à la...   \n",
       "..          ...                                                ...   \n",
       "443  22/02/2022  L’ordonnance n° 2021‑1605 du 8 décembre 2021 é...   \n",
       "444  23/02/2022  L’article 55 de la loi n° 2019‑828 du 6 août 2...   \n",
       "445  03/07/2022  ratifiant l’ordonnance n° 2021‑1200 du 15 sept...   \n",
       "446  03/09/2022  L’article 108 de la loi n° 2020‑1576 du 14 déc...   \n",
       "447  16/03/2022  L’action du ministère de l’intérieur est au cœ...   \n",
       "\n",
       "                                                  helo  \n",
       "0    ', '– 1 –', '', 'projet de loi', '', 'Le Premi...  \n",
       "1    ', '– 1 –', '', 'projet de loi', '', 'Le Premi...  \n",
       "2    ', 'projet de loi', '', 'Le Premier ministre,'...  \n",
       "3    ', '– 1 –', '', 'projet de loi', '', 'Le Premi...  \n",
       "4    ', 'projet de loi', '', 'Le Premier ministre,'...  \n",
       "..                                                 ...  \n",
       "443                                                NaN  \n",
       "444  ', '– 1 –', '', 'projet de loi', '', 'Le Premi...  \n",
       "445  ', 'projet de loi', '', 'Le Premier ministre,'...  \n",
       "446  ', 'projet de loi', '', 'Le Premier ministre,'...  \n",
       "447  ', 'projet de loi', '', 'Le Premier ministre,'...  \n",
       "\n",
       "[448 rows x 5 columns]"
      ]
     },
     "execution_count": 22,
     "metadata": {},
     "output_type": "execute_result"
    }
   ],
   "source": [
    "import dateparser\n",
    "\n",
    "# Définir une fonction de conversion de date\n",
    "def convert_date(date_string):\n",
    "    date_object = dateparser.parse(date_string)\n",
    "    new_date_string = date_object.strftime('%d/%m/%Y')\n",
    "    return new_date_string\n",
    "\n",
    "# Appliquer la fonction de conversion de date à la colonne \"date\"\n",
    "data['date'] = data['date'].apply(convert_date)\n",
    "\n",
    "# Afficher le DataFrame avec les dates converties\n",
    "data"
   ]
  },
  {
   "cell_type": "code",
   "execution_count": 31,
   "metadata": {},
   "outputs": [],
   "source": [
    "data[\"date\"] = pd.to_datetime(data[\"date\"], format=\"%d/%m/%Y\")"
   ]
  },
  {
   "cell_type": "code",
   "execution_count": 32,
   "metadata": {},
   "outputs": [],
   "source": [
    "grouped_data = data.groupby(pd.Grouper(key='date', freq='M')).count()\n"
   ]
  },
  {
   "cell_type": "code",
   "execution_count": 33,
   "metadata": {},
   "outputs": [],
   "source": [
    "grouped_data = data.groupby(pd.Grouper(key='date', freq='M')).count()\n",
    "# Réinitialiser l'index\n",
    "grouped_data = grouped_data.reset_index()\n",
    "grouped_data = grouped_data[['date', 'url']]\n",
    "\n",
    "# Renommer la colonne \"col1\" en \"count\"\n",
    "grouped_data = grouped_data.rename(columns={'url': 'count'})"
   ]
  },
  {
   "cell_type": "code",
   "execution_count": 40,
   "metadata": {},
   "outputs": [
    {
     "data": {
      "text/plain": [
       "(72, 2)"
      ]
     },
     "execution_count": 40,
     "metadata": {},
     "output_type": "execute_result"
    }
   ],
   "source": [
    "\n",
    "grouped_data.shape"
   ]
  },
  {
   "cell_type": "code",
   "execution_count": 43,
   "metadata": {},
   "outputs": [],
   "source": [
    "import plotly.express as px\n"
   ]
  },
  {
   "cell_type": "code",
   "execution_count": 17,
   "metadata": {},
   "outputs": [
    {
     "ename": "NameError",
     "evalue": "name 'grouped_data' is not defined",
     "output_type": "error",
     "traceback": [
      "\u001b[0;31m---------------------------------------------------------------------------\u001b[0m",
      "\u001b[0;31mNameError\u001b[0m                                 Traceback (most recent call last)",
      "\u001b[1;32m/Users/camille/repo/Hetic/projet_demo/ia_theme/my_scraper/testing.ipynb Cell 13\u001b[0m in \u001b[0;36m1\n\u001b[0;32m----> <a href='vscode-notebook-cell:/Users/camille/repo/Hetic/projet_demo/ia_theme/my_scraper/testing.ipynb#X24sZmlsZQ%3D%3D?line=0'>1</a>\u001b[0m grouped_data\u001b[39m.\u001b[39mshape()\n",
      "\u001b[0;31mNameError\u001b[0m: name 'grouped_data' is not defined"
     ]
    }
   ],
   "source": [
    "grouped_data.shape()"
   ]
  },
  {
   "cell_type": "code",
   "execution_count": 44,
   "metadata": {},
   "outputs": [],
   "source": [
    "fig_5y = px.histogram(grouped_data, x='date', y='count', nbins= 72) "
   ]
  },
  {
   "cell_type": "code",
   "execution_count": 45,
   "metadata": {},
   "outputs": [
    {
     "data": {
      "application/vnd.plotly.v1+json": {
       "config": {
        "plotlyServerURL": "https://plot.ly"
       },
       "data": [
        {
         "alignmentgroup": "True",
         "bingroup": "x",
         "histfunc": "sum",
         "hovertemplate": "date=%{x}<br>sum of count=%{y}<extra></extra>",
         "legendgroup": "",
         "marker": {
          "color": "#636efa",
          "pattern": {
           "shape": ""
          }
         },
         "name": "",
         "nbinsx": 72,
         "offsetgroup": "",
         "orientation": "v",
         "showlegend": false,
         "type": "histogram",
         "x": [
          "2017-01-31T00:00:00",
          "2017-02-28T00:00:00",
          "2017-03-31T00:00:00",
          "2017-04-30T00:00:00",
          "2017-05-31T00:00:00",
          "2017-06-30T00:00:00",
          "2017-07-31T00:00:00",
          "2017-08-31T00:00:00",
          "2017-09-30T00:00:00",
          "2017-10-31T00:00:00",
          "2017-11-30T00:00:00",
          "2017-12-31T00:00:00",
          "2018-01-31T00:00:00",
          "2018-02-28T00:00:00",
          "2018-03-31T00:00:00",
          "2018-04-30T00:00:00",
          "2018-05-31T00:00:00",
          "2018-06-30T00:00:00",
          "2018-07-31T00:00:00",
          "2018-08-31T00:00:00",
          "2018-09-30T00:00:00",
          "2018-10-31T00:00:00",
          "2018-11-30T00:00:00",
          "2018-12-31T00:00:00",
          "2019-01-31T00:00:00",
          "2019-02-28T00:00:00",
          "2019-03-31T00:00:00",
          "2019-04-30T00:00:00",
          "2019-05-31T00:00:00",
          "2019-06-30T00:00:00",
          "2019-07-31T00:00:00",
          "2019-08-31T00:00:00",
          "2019-09-30T00:00:00",
          "2019-10-31T00:00:00",
          "2019-11-30T00:00:00",
          "2019-12-31T00:00:00",
          "2020-01-31T00:00:00",
          "2020-02-29T00:00:00",
          "2020-03-31T00:00:00",
          "2020-04-30T00:00:00",
          "2020-05-31T00:00:00",
          "2020-06-30T00:00:00",
          "2020-07-31T00:00:00",
          "2020-08-31T00:00:00",
          "2020-09-30T00:00:00",
          "2020-10-31T00:00:00",
          "2020-11-30T00:00:00",
          "2020-12-31T00:00:00",
          "2021-01-31T00:00:00",
          "2021-02-28T00:00:00",
          "2021-03-31T00:00:00",
          "2021-04-30T00:00:00",
          "2021-05-31T00:00:00",
          "2021-06-30T00:00:00",
          "2021-07-31T00:00:00",
          "2021-08-31T00:00:00",
          "2021-09-30T00:00:00",
          "2021-10-31T00:00:00",
          "2021-11-30T00:00:00",
          "2021-12-31T00:00:00",
          "2022-01-31T00:00:00",
          "2022-02-28T00:00:00",
          "2022-03-31T00:00:00",
          "2022-04-30T00:00:00",
          "2022-05-31T00:00:00",
          "2022-06-30T00:00:00",
          "2022-07-31T00:00:00",
          "2022-08-31T00:00:00",
          "2022-09-30T00:00:00",
          "2022-10-31T00:00:00",
          "2022-11-30T00:00:00",
          "2022-12-31T00:00:00"
         ],
         "xaxis": "x",
         "y": [
          1,
          0,
          0,
          3,
          0,
          12,
          9,
          2,
          12,
          16,
          8,
          14,
          9,
          5,
          10,
          7,
          5,
          7,
          6,
          8,
          4,
          6,
          8,
          8,
          3,
          11,
          10,
          3,
          11,
          9,
          6,
          5,
          8,
          6,
          7,
          6,
          6,
          5,
          7,
          4,
          18,
          8,
          11,
          0,
          6,
          11,
          7,
          7,
          15,
          6,
          9,
          8,
          8,
          9,
          20,
          5,
          4,
          9,
          5,
          3,
          2,
          4,
          1,
          0,
          1,
          0,
          1,
          0,
          2,
          0,
          0,
          1
         ],
         "yaxis": "y"
        }
       ],
       "layout": {
        "barmode": "relative",
        "legend": {
         "tracegroupgap": 0
        },
        "margin": {
         "t": 60
        },
        "template": {
         "data": {
          "bar": [
           {
            "error_x": {
             "color": "#2a3f5f"
            },
            "error_y": {
             "color": "#2a3f5f"
            },
            "marker": {
             "line": {
              "color": "#E5ECF6",
              "width": 0.5
             },
             "pattern": {
              "fillmode": "overlay",
              "size": 10,
              "solidity": 0.2
             }
            },
            "type": "bar"
           }
          ],
          "barpolar": [
           {
            "marker": {
             "line": {
              "color": "#E5ECF6",
              "width": 0.5
             },
             "pattern": {
              "fillmode": "overlay",
              "size": 10,
              "solidity": 0.2
             }
            },
            "type": "barpolar"
           }
          ],
          "carpet": [
           {
            "aaxis": {
             "endlinecolor": "#2a3f5f",
             "gridcolor": "white",
             "linecolor": "white",
             "minorgridcolor": "white",
             "startlinecolor": "#2a3f5f"
            },
            "baxis": {
             "endlinecolor": "#2a3f5f",
             "gridcolor": "white",
             "linecolor": "white",
             "minorgridcolor": "white",
             "startlinecolor": "#2a3f5f"
            },
            "type": "carpet"
           }
          ],
          "choropleth": [
           {
            "colorbar": {
             "outlinewidth": 0,
             "ticks": ""
            },
            "type": "choropleth"
           }
          ],
          "contour": [
           {
            "colorbar": {
             "outlinewidth": 0,
             "ticks": ""
            },
            "colorscale": [
             [
              0,
              "#0d0887"
             ],
             [
              0.1111111111111111,
              "#46039f"
             ],
             [
              0.2222222222222222,
              "#7201a8"
             ],
             [
              0.3333333333333333,
              "#9c179e"
             ],
             [
              0.4444444444444444,
              "#bd3786"
             ],
             [
              0.5555555555555556,
              "#d8576b"
             ],
             [
              0.6666666666666666,
              "#ed7953"
             ],
             [
              0.7777777777777778,
              "#fb9f3a"
             ],
             [
              0.8888888888888888,
              "#fdca26"
             ],
             [
              1,
              "#f0f921"
             ]
            ],
            "type": "contour"
           }
          ],
          "contourcarpet": [
           {
            "colorbar": {
             "outlinewidth": 0,
             "ticks": ""
            },
            "type": "contourcarpet"
           }
          ],
          "heatmap": [
           {
            "colorbar": {
             "outlinewidth": 0,
             "ticks": ""
            },
            "colorscale": [
             [
              0,
              "#0d0887"
             ],
             [
              0.1111111111111111,
              "#46039f"
             ],
             [
              0.2222222222222222,
              "#7201a8"
             ],
             [
              0.3333333333333333,
              "#9c179e"
             ],
             [
              0.4444444444444444,
              "#bd3786"
             ],
             [
              0.5555555555555556,
              "#d8576b"
             ],
             [
              0.6666666666666666,
              "#ed7953"
             ],
             [
              0.7777777777777778,
              "#fb9f3a"
             ],
             [
              0.8888888888888888,
              "#fdca26"
             ],
             [
              1,
              "#f0f921"
             ]
            ],
            "type": "heatmap"
           }
          ],
          "heatmapgl": [
           {
            "colorbar": {
             "outlinewidth": 0,
             "ticks": ""
            },
            "colorscale": [
             [
              0,
              "#0d0887"
             ],
             [
              0.1111111111111111,
              "#46039f"
             ],
             [
              0.2222222222222222,
              "#7201a8"
             ],
             [
              0.3333333333333333,
              "#9c179e"
             ],
             [
              0.4444444444444444,
              "#bd3786"
             ],
             [
              0.5555555555555556,
              "#d8576b"
             ],
             [
              0.6666666666666666,
              "#ed7953"
             ],
             [
              0.7777777777777778,
              "#fb9f3a"
             ],
             [
              0.8888888888888888,
              "#fdca26"
             ],
             [
              1,
              "#f0f921"
             ]
            ],
            "type": "heatmapgl"
           }
          ],
          "histogram": [
           {
            "marker": {
             "pattern": {
              "fillmode": "overlay",
              "size": 10,
              "solidity": 0.2
             }
            },
            "type": "histogram"
           }
          ],
          "histogram2d": [
           {
            "colorbar": {
             "outlinewidth": 0,
             "ticks": ""
            },
            "colorscale": [
             [
              0,
              "#0d0887"
             ],
             [
              0.1111111111111111,
              "#46039f"
             ],
             [
              0.2222222222222222,
              "#7201a8"
             ],
             [
              0.3333333333333333,
              "#9c179e"
             ],
             [
              0.4444444444444444,
              "#bd3786"
             ],
             [
              0.5555555555555556,
              "#d8576b"
             ],
             [
              0.6666666666666666,
              "#ed7953"
             ],
             [
              0.7777777777777778,
              "#fb9f3a"
             ],
             [
              0.8888888888888888,
              "#fdca26"
             ],
             [
              1,
              "#f0f921"
             ]
            ],
            "type": "histogram2d"
           }
          ],
          "histogram2dcontour": [
           {
            "colorbar": {
             "outlinewidth": 0,
             "ticks": ""
            },
            "colorscale": [
             [
              0,
              "#0d0887"
             ],
             [
              0.1111111111111111,
              "#46039f"
             ],
             [
              0.2222222222222222,
              "#7201a8"
             ],
             [
              0.3333333333333333,
              "#9c179e"
             ],
             [
              0.4444444444444444,
              "#bd3786"
             ],
             [
              0.5555555555555556,
              "#d8576b"
             ],
             [
              0.6666666666666666,
              "#ed7953"
             ],
             [
              0.7777777777777778,
              "#fb9f3a"
             ],
             [
              0.8888888888888888,
              "#fdca26"
             ],
             [
              1,
              "#f0f921"
             ]
            ],
            "type": "histogram2dcontour"
           }
          ],
          "mesh3d": [
           {
            "colorbar": {
             "outlinewidth": 0,
             "ticks": ""
            },
            "type": "mesh3d"
           }
          ],
          "parcoords": [
           {
            "line": {
             "colorbar": {
              "outlinewidth": 0,
              "ticks": ""
             }
            },
            "type": "parcoords"
           }
          ],
          "pie": [
           {
            "automargin": true,
            "type": "pie"
           }
          ],
          "scatter": [
           {
            "fillpattern": {
             "fillmode": "overlay",
             "size": 10,
             "solidity": 0.2
            },
            "type": "scatter"
           }
          ],
          "scatter3d": [
           {
            "line": {
             "colorbar": {
              "outlinewidth": 0,
              "ticks": ""
             }
            },
            "marker": {
             "colorbar": {
              "outlinewidth": 0,
              "ticks": ""
             }
            },
            "type": "scatter3d"
           }
          ],
          "scattercarpet": [
           {
            "marker": {
             "colorbar": {
              "outlinewidth": 0,
              "ticks": ""
             }
            },
            "type": "scattercarpet"
           }
          ],
          "scattergeo": [
           {
            "marker": {
             "colorbar": {
              "outlinewidth": 0,
              "ticks": ""
             }
            },
            "type": "scattergeo"
           }
          ],
          "scattergl": [
           {
            "marker": {
             "colorbar": {
              "outlinewidth": 0,
              "ticks": ""
             }
            },
            "type": "scattergl"
           }
          ],
          "scattermapbox": [
           {
            "marker": {
             "colorbar": {
              "outlinewidth": 0,
              "ticks": ""
             }
            },
            "type": "scattermapbox"
           }
          ],
          "scatterpolar": [
           {
            "marker": {
             "colorbar": {
              "outlinewidth": 0,
              "ticks": ""
             }
            },
            "type": "scatterpolar"
           }
          ],
          "scatterpolargl": [
           {
            "marker": {
             "colorbar": {
              "outlinewidth": 0,
              "ticks": ""
             }
            },
            "type": "scatterpolargl"
           }
          ],
          "scatterternary": [
           {
            "marker": {
             "colorbar": {
              "outlinewidth": 0,
              "ticks": ""
             }
            },
            "type": "scatterternary"
           }
          ],
          "surface": [
           {
            "colorbar": {
             "outlinewidth": 0,
             "ticks": ""
            },
            "colorscale": [
             [
              0,
              "#0d0887"
             ],
             [
              0.1111111111111111,
              "#46039f"
             ],
             [
              0.2222222222222222,
              "#7201a8"
             ],
             [
              0.3333333333333333,
              "#9c179e"
             ],
             [
              0.4444444444444444,
              "#bd3786"
             ],
             [
              0.5555555555555556,
              "#d8576b"
             ],
             [
              0.6666666666666666,
              "#ed7953"
             ],
             [
              0.7777777777777778,
              "#fb9f3a"
             ],
             [
              0.8888888888888888,
              "#fdca26"
             ],
             [
              1,
              "#f0f921"
             ]
            ],
            "type": "surface"
           }
          ],
          "table": [
           {
            "cells": {
             "fill": {
              "color": "#EBF0F8"
             },
             "line": {
              "color": "white"
             }
            },
            "header": {
             "fill": {
              "color": "#C8D4E3"
             },
             "line": {
              "color": "white"
             }
            },
            "type": "table"
           }
          ]
         },
         "layout": {
          "annotationdefaults": {
           "arrowcolor": "#2a3f5f",
           "arrowhead": 0,
           "arrowwidth": 1
          },
          "autotypenumbers": "strict",
          "coloraxis": {
           "colorbar": {
            "outlinewidth": 0,
            "ticks": ""
           }
          },
          "colorscale": {
           "diverging": [
            [
             0,
             "#8e0152"
            ],
            [
             0.1,
             "#c51b7d"
            ],
            [
             0.2,
             "#de77ae"
            ],
            [
             0.3,
             "#f1b6da"
            ],
            [
             0.4,
             "#fde0ef"
            ],
            [
             0.5,
             "#f7f7f7"
            ],
            [
             0.6,
             "#e6f5d0"
            ],
            [
             0.7,
             "#b8e186"
            ],
            [
             0.8,
             "#7fbc41"
            ],
            [
             0.9,
             "#4d9221"
            ],
            [
             1,
             "#276419"
            ]
           ],
           "sequential": [
            [
             0,
             "#0d0887"
            ],
            [
             0.1111111111111111,
             "#46039f"
            ],
            [
             0.2222222222222222,
             "#7201a8"
            ],
            [
             0.3333333333333333,
             "#9c179e"
            ],
            [
             0.4444444444444444,
             "#bd3786"
            ],
            [
             0.5555555555555556,
             "#d8576b"
            ],
            [
             0.6666666666666666,
             "#ed7953"
            ],
            [
             0.7777777777777778,
             "#fb9f3a"
            ],
            [
             0.8888888888888888,
             "#fdca26"
            ],
            [
             1,
             "#f0f921"
            ]
           ],
           "sequentialminus": [
            [
             0,
             "#0d0887"
            ],
            [
             0.1111111111111111,
             "#46039f"
            ],
            [
             0.2222222222222222,
             "#7201a8"
            ],
            [
             0.3333333333333333,
             "#9c179e"
            ],
            [
             0.4444444444444444,
             "#bd3786"
            ],
            [
             0.5555555555555556,
             "#d8576b"
            ],
            [
             0.6666666666666666,
             "#ed7953"
            ],
            [
             0.7777777777777778,
             "#fb9f3a"
            ],
            [
             0.8888888888888888,
             "#fdca26"
            ],
            [
             1,
             "#f0f921"
            ]
           ]
          },
          "colorway": [
           "#636efa",
           "#EF553B",
           "#00cc96",
           "#ab63fa",
           "#FFA15A",
           "#19d3f3",
           "#FF6692",
           "#B6E880",
           "#FF97FF",
           "#FECB52"
          ],
          "font": {
           "color": "#2a3f5f"
          },
          "geo": {
           "bgcolor": "white",
           "lakecolor": "white",
           "landcolor": "#E5ECF6",
           "showlakes": true,
           "showland": true,
           "subunitcolor": "white"
          },
          "hoverlabel": {
           "align": "left"
          },
          "hovermode": "closest",
          "mapbox": {
           "style": "light"
          },
          "paper_bgcolor": "white",
          "plot_bgcolor": "#E5ECF6",
          "polar": {
           "angularaxis": {
            "gridcolor": "white",
            "linecolor": "white",
            "ticks": ""
           },
           "bgcolor": "#E5ECF6",
           "radialaxis": {
            "gridcolor": "white",
            "linecolor": "white",
            "ticks": ""
           }
          },
          "scene": {
           "xaxis": {
            "backgroundcolor": "#E5ECF6",
            "gridcolor": "white",
            "gridwidth": 2,
            "linecolor": "white",
            "showbackground": true,
            "ticks": "",
            "zerolinecolor": "white"
           },
           "yaxis": {
            "backgroundcolor": "#E5ECF6",
            "gridcolor": "white",
            "gridwidth": 2,
            "linecolor": "white",
            "showbackground": true,
            "ticks": "",
            "zerolinecolor": "white"
           },
           "zaxis": {
            "backgroundcolor": "#E5ECF6",
            "gridcolor": "white",
            "gridwidth": 2,
            "linecolor": "white",
            "showbackground": true,
            "ticks": "",
            "zerolinecolor": "white"
           }
          },
          "shapedefaults": {
           "line": {
            "color": "#2a3f5f"
           }
          },
          "ternary": {
           "aaxis": {
            "gridcolor": "white",
            "linecolor": "white",
            "ticks": ""
           },
           "baxis": {
            "gridcolor": "white",
            "linecolor": "white",
            "ticks": ""
           },
           "bgcolor": "#E5ECF6",
           "caxis": {
            "gridcolor": "white",
            "linecolor": "white",
            "ticks": ""
           }
          },
          "title": {
           "x": 0.05
          },
          "xaxis": {
           "automargin": true,
           "gridcolor": "white",
           "linecolor": "white",
           "ticks": "",
           "title": {
            "standoff": 15
           },
           "zerolinecolor": "white",
           "zerolinewidth": 2
          },
          "yaxis": {
           "automargin": true,
           "gridcolor": "white",
           "linecolor": "white",
           "ticks": "",
           "title": {
            "standoff": 15
           },
           "zerolinecolor": "white",
           "zerolinewidth": 2
          }
         }
        },
        "xaxis": {
         "anchor": "y",
         "domain": [
          0,
          1
         ],
         "title": {
          "text": "date"
         }
        },
        "yaxis": {
         "anchor": "x",
         "domain": [
          0,
          1
         ],
         "title": {
          "text": "sum of count"
         }
        }
       }
      }
     },
     "metadata": {},
     "output_type": "display_data"
    }
   ],
   "source": [
    "fig_5y.show()"
   ]
  },
  {
   "cell_type": "code",
   "execution_count": 82,
   "metadata": {},
   "outputs": [],
   "source": [
    "fig = px.histogram(grouped_data, x='date', y='count', nbins=6) "
   ]
  },
  {
   "cell_type": "code",
   "execution_count": 83,
   "metadata": {},
   "outputs": [
    {
     "data": {
      "application/vnd.plotly.v1+json": {
       "config": {
        "plotlyServerURL": "https://plot.ly"
       },
       "data": [
        {
         "alignmentgroup": "True",
         "bingroup": "x",
         "histfunc": "sum",
         "hovertemplate": "date=%{x}<br>sum of count=%{y}<extra></extra>",
         "legendgroup": "",
         "marker": {
          "color": "#636efa",
          "pattern": {
           "shape": ""
          }
         },
         "name": "",
         "nbinsx": 6,
         "offsetgroup": "",
         "orientation": "v",
         "showlegend": false,
         "type": "histogram",
         "x": [
          "2017-01-31T00:00:00",
          "2017-02-28T00:00:00",
          "2017-03-31T00:00:00",
          "2017-04-30T00:00:00",
          "2017-05-31T00:00:00",
          "2017-06-30T00:00:00",
          "2017-07-31T00:00:00",
          "2017-08-31T00:00:00",
          "2017-09-30T00:00:00",
          "2017-10-31T00:00:00",
          "2017-11-30T00:00:00",
          "2017-12-31T00:00:00",
          "2018-01-31T00:00:00",
          "2018-02-28T00:00:00",
          "2018-03-31T00:00:00",
          "2018-04-30T00:00:00",
          "2018-05-31T00:00:00",
          "2018-06-30T00:00:00",
          "2018-07-31T00:00:00",
          "2018-08-31T00:00:00",
          "2018-09-30T00:00:00",
          "2018-10-31T00:00:00",
          "2018-11-30T00:00:00",
          "2018-12-31T00:00:00",
          "2019-01-31T00:00:00",
          "2019-02-28T00:00:00",
          "2019-03-31T00:00:00",
          "2019-04-30T00:00:00",
          "2019-05-31T00:00:00",
          "2019-06-30T00:00:00",
          "2019-07-31T00:00:00",
          "2019-08-31T00:00:00",
          "2019-09-30T00:00:00",
          "2019-10-31T00:00:00",
          "2019-11-30T00:00:00",
          "2019-12-31T00:00:00",
          "2020-01-31T00:00:00",
          "2020-02-29T00:00:00",
          "2020-03-31T00:00:00",
          "2020-04-30T00:00:00",
          "2020-05-31T00:00:00",
          "2020-06-30T00:00:00",
          "2020-07-31T00:00:00",
          "2020-08-31T00:00:00",
          "2020-09-30T00:00:00",
          "2020-10-31T00:00:00",
          "2020-11-30T00:00:00",
          "2020-12-31T00:00:00",
          "2021-01-31T00:00:00",
          "2021-02-28T00:00:00",
          "2021-03-31T00:00:00",
          "2021-04-30T00:00:00",
          "2021-05-31T00:00:00",
          "2021-06-30T00:00:00",
          "2021-07-31T00:00:00",
          "2021-08-31T00:00:00",
          "2021-09-30T00:00:00",
          "2021-10-31T00:00:00",
          "2021-11-30T00:00:00",
          "2021-12-31T00:00:00",
          "2022-01-31T00:00:00",
          "2022-02-28T00:00:00",
          "2022-03-31T00:00:00",
          "2022-04-30T00:00:00",
          "2022-05-31T00:00:00",
          "2022-06-30T00:00:00",
          "2022-07-31T00:00:00",
          "2022-08-31T00:00:00",
          "2022-09-30T00:00:00",
          "2022-10-31T00:00:00",
          "2022-11-30T00:00:00",
          "2022-12-31T00:00:00"
         ],
         "xaxis": "x",
         "y": [
          1,
          0,
          0,
          3,
          0,
          12,
          9,
          2,
          12,
          16,
          8,
          14,
          9,
          5,
          10,
          7,
          5,
          7,
          6,
          8,
          4,
          6,
          8,
          8,
          3,
          11,
          10,
          3,
          11,
          9,
          6,
          5,
          8,
          6,
          7,
          6,
          6,
          5,
          7,
          4,
          18,
          8,
          11,
          0,
          6,
          11,
          7,
          7,
          15,
          6,
          9,
          8,
          8,
          9,
          20,
          5,
          4,
          9,
          5,
          3,
          2,
          4,
          1,
          0,
          1,
          0,
          1,
          0,
          2,
          0,
          0,
          1
         ],
         "yaxis": "y"
        }
       ],
       "layout": {
        "barmode": "relative",
        "legend": {
         "tracegroupgap": 0
        },
        "margin": {
         "t": 60
        },
        "template": {
         "data": {
          "bar": [
           {
            "error_x": {
             "color": "#2a3f5f"
            },
            "error_y": {
             "color": "#2a3f5f"
            },
            "marker": {
             "line": {
              "color": "#E5ECF6",
              "width": 0.5
             },
             "pattern": {
              "fillmode": "overlay",
              "size": 10,
              "solidity": 0.2
             }
            },
            "type": "bar"
           }
          ],
          "barpolar": [
           {
            "marker": {
             "line": {
              "color": "#E5ECF6",
              "width": 0.5
             },
             "pattern": {
              "fillmode": "overlay",
              "size": 10,
              "solidity": 0.2
             }
            },
            "type": "barpolar"
           }
          ],
          "carpet": [
           {
            "aaxis": {
             "endlinecolor": "#2a3f5f",
             "gridcolor": "white",
             "linecolor": "white",
             "minorgridcolor": "white",
             "startlinecolor": "#2a3f5f"
            },
            "baxis": {
             "endlinecolor": "#2a3f5f",
             "gridcolor": "white",
             "linecolor": "white",
             "minorgridcolor": "white",
             "startlinecolor": "#2a3f5f"
            },
            "type": "carpet"
           }
          ],
          "choropleth": [
           {
            "colorbar": {
             "outlinewidth": 0,
             "ticks": ""
            },
            "type": "choropleth"
           }
          ],
          "contour": [
           {
            "colorbar": {
             "outlinewidth": 0,
             "ticks": ""
            },
            "colorscale": [
             [
              0,
              "#0d0887"
             ],
             [
              0.1111111111111111,
              "#46039f"
             ],
             [
              0.2222222222222222,
              "#7201a8"
             ],
             [
              0.3333333333333333,
              "#9c179e"
             ],
             [
              0.4444444444444444,
              "#bd3786"
             ],
             [
              0.5555555555555556,
              "#d8576b"
             ],
             [
              0.6666666666666666,
              "#ed7953"
             ],
             [
              0.7777777777777778,
              "#fb9f3a"
             ],
             [
              0.8888888888888888,
              "#fdca26"
             ],
             [
              1,
              "#f0f921"
             ]
            ],
            "type": "contour"
           }
          ],
          "contourcarpet": [
           {
            "colorbar": {
             "outlinewidth": 0,
             "ticks": ""
            },
            "type": "contourcarpet"
           }
          ],
          "heatmap": [
           {
            "colorbar": {
             "outlinewidth": 0,
             "ticks": ""
            },
            "colorscale": [
             [
              0,
              "#0d0887"
             ],
             [
              0.1111111111111111,
              "#46039f"
             ],
             [
              0.2222222222222222,
              "#7201a8"
             ],
             [
              0.3333333333333333,
              "#9c179e"
             ],
             [
              0.4444444444444444,
              "#bd3786"
             ],
             [
              0.5555555555555556,
              "#d8576b"
             ],
             [
              0.6666666666666666,
              "#ed7953"
             ],
             [
              0.7777777777777778,
              "#fb9f3a"
             ],
             [
              0.8888888888888888,
              "#fdca26"
             ],
             [
              1,
              "#f0f921"
             ]
            ],
            "type": "heatmap"
           }
          ],
          "heatmapgl": [
           {
            "colorbar": {
             "outlinewidth": 0,
             "ticks": ""
            },
            "colorscale": [
             [
              0,
              "#0d0887"
             ],
             [
              0.1111111111111111,
              "#46039f"
             ],
             [
              0.2222222222222222,
              "#7201a8"
             ],
             [
              0.3333333333333333,
              "#9c179e"
             ],
             [
              0.4444444444444444,
              "#bd3786"
             ],
             [
              0.5555555555555556,
              "#d8576b"
             ],
             [
              0.6666666666666666,
              "#ed7953"
             ],
             [
              0.7777777777777778,
              "#fb9f3a"
             ],
             [
              0.8888888888888888,
              "#fdca26"
             ],
             [
              1,
              "#f0f921"
             ]
            ],
            "type": "heatmapgl"
           }
          ],
          "histogram": [
           {
            "marker": {
             "pattern": {
              "fillmode": "overlay",
              "size": 10,
              "solidity": 0.2
             }
            },
            "type": "histogram"
           }
          ],
          "histogram2d": [
           {
            "colorbar": {
             "outlinewidth": 0,
             "ticks": ""
            },
            "colorscale": [
             [
              0,
              "#0d0887"
             ],
             [
              0.1111111111111111,
              "#46039f"
             ],
             [
              0.2222222222222222,
              "#7201a8"
             ],
             [
              0.3333333333333333,
              "#9c179e"
             ],
             [
              0.4444444444444444,
              "#bd3786"
             ],
             [
              0.5555555555555556,
              "#d8576b"
             ],
             [
              0.6666666666666666,
              "#ed7953"
             ],
             [
              0.7777777777777778,
              "#fb9f3a"
             ],
             [
              0.8888888888888888,
              "#fdca26"
             ],
             [
              1,
              "#f0f921"
             ]
            ],
            "type": "histogram2d"
           }
          ],
          "histogram2dcontour": [
           {
            "colorbar": {
             "outlinewidth": 0,
             "ticks": ""
            },
            "colorscale": [
             [
              0,
              "#0d0887"
             ],
             [
              0.1111111111111111,
              "#46039f"
             ],
             [
              0.2222222222222222,
              "#7201a8"
             ],
             [
              0.3333333333333333,
              "#9c179e"
             ],
             [
              0.4444444444444444,
              "#bd3786"
             ],
             [
              0.5555555555555556,
              "#d8576b"
             ],
             [
              0.6666666666666666,
              "#ed7953"
             ],
             [
              0.7777777777777778,
              "#fb9f3a"
             ],
             [
              0.8888888888888888,
              "#fdca26"
             ],
             [
              1,
              "#f0f921"
             ]
            ],
            "type": "histogram2dcontour"
           }
          ],
          "mesh3d": [
           {
            "colorbar": {
             "outlinewidth": 0,
             "ticks": ""
            },
            "type": "mesh3d"
           }
          ],
          "parcoords": [
           {
            "line": {
             "colorbar": {
              "outlinewidth": 0,
              "ticks": ""
             }
            },
            "type": "parcoords"
           }
          ],
          "pie": [
           {
            "automargin": true,
            "type": "pie"
           }
          ],
          "scatter": [
           {
            "fillpattern": {
             "fillmode": "overlay",
             "size": 10,
             "solidity": 0.2
            },
            "type": "scatter"
           }
          ],
          "scatter3d": [
           {
            "line": {
             "colorbar": {
              "outlinewidth": 0,
              "ticks": ""
             }
            },
            "marker": {
             "colorbar": {
              "outlinewidth": 0,
              "ticks": ""
             }
            },
            "type": "scatter3d"
           }
          ],
          "scattercarpet": [
           {
            "marker": {
             "colorbar": {
              "outlinewidth": 0,
              "ticks": ""
             }
            },
            "type": "scattercarpet"
           }
          ],
          "scattergeo": [
           {
            "marker": {
             "colorbar": {
              "outlinewidth": 0,
              "ticks": ""
             }
            },
            "type": "scattergeo"
           }
          ],
          "scattergl": [
           {
            "marker": {
             "colorbar": {
              "outlinewidth": 0,
              "ticks": ""
             }
            },
            "type": "scattergl"
           }
          ],
          "scattermapbox": [
           {
            "marker": {
             "colorbar": {
              "outlinewidth": 0,
              "ticks": ""
             }
            },
            "type": "scattermapbox"
           }
          ],
          "scatterpolar": [
           {
            "marker": {
             "colorbar": {
              "outlinewidth": 0,
              "ticks": ""
             }
            },
            "type": "scatterpolar"
           }
          ],
          "scatterpolargl": [
           {
            "marker": {
             "colorbar": {
              "outlinewidth": 0,
              "ticks": ""
             }
            },
            "type": "scatterpolargl"
           }
          ],
          "scatterternary": [
           {
            "marker": {
             "colorbar": {
              "outlinewidth": 0,
              "ticks": ""
             }
            },
            "type": "scatterternary"
           }
          ],
          "surface": [
           {
            "colorbar": {
             "outlinewidth": 0,
             "ticks": ""
            },
            "colorscale": [
             [
              0,
              "#0d0887"
             ],
             [
              0.1111111111111111,
              "#46039f"
             ],
             [
              0.2222222222222222,
              "#7201a8"
             ],
             [
              0.3333333333333333,
              "#9c179e"
             ],
             [
              0.4444444444444444,
              "#bd3786"
             ],
             [
              0.5555555555555556,
              "#d8576b"
             ],
             [
              0.6666666666666666,
              "#ed7953"
             ],
             [
              0.7777777777777778,
              "#fb9f3a"
             ],
             [
              0.8888888888888888,
              "#fdca26"
             ],
             [
              1,
              "#f0f921"
             ]
            ],
            "type": "surface"
           }
          ],
          "table": [
           {
            "cells": {
             "fill": {
              "color": "#EBF0F8"
             },
             "line": {
              "color": "white"
             }
            },
            "header": {
             "fill": {
              "color": "#C8D4E3"
             },
             "line": {
              "color": "white"
             }
            },
            "type": "table"
           }
          ]
         },
         "layout": {
          "annotationdefaults": {
           "arrowcolor": "#2a3f5f",
           "arrowhead": 0,
           "arrowwidth": 1
          },
          "autotypenumbers": "strict",
          "coloraxis": {
           "colorbar": {
            "outlinewidth": 0,
            "ticks": ""
           }
          },
          "colorscale": {
           "diverging": [
            [
             0,
             "#8e0152"
            ],
            [
             0.1,
             "#c51b7d"
            ],
            [
             0.2,
             "#de77ae"
            ],
            [
             0.3,
             "#f1b6da"
            ],
            [
             0.4,
             "#fde0ef"
            ],
            [
             0.5,
             "#f7f7f7"
            ],
            [
             0.6,
             "#e6f5d0"
            ],
            [
             0.7,
             "#b8e186"
            ],
            [
             0.8,
             "#7fbc41"
            ],
            [
             0.9,
             "#4d9221"
            ],
            [
             1,
             "#276419"
            ]
           ],
           "sequential": [
            [
             0,
             "#0d0887"
            ],
            [
             0.1111111111111111,
             "#46039f"
            ],
            [
             0.2222222222222222,
             "#7201a8"
            ],
            [
             0.3333333333333333,
             "#9c179e"
            ],
            [
             0.4444444444444444,
             "#bd3786"
            ],
            [
             0.5555555555555556,
             "#d8576b"
            ],
            [
             0.6666666666666666,
             "#ed7953"
            ],
            [
             0.7777777777777778,
             "#fb9f3a"
            ],
            [
             0.8888888888888888,
             "#fdca26"
            ],
            [
             1,
             "#f0f921"
            ]
           ],
           "sequentialminus": [
            [
             0,
             "#0d0887"
            ],
            [
             0.1111111111111111,
             "#46039f"
            ],
            [
             0.2222222222222222,
             "#7201a8"
            ],
            [
             0.3333333333333333,
             "#9c179e"
            ],
            [
             0.4444444444444444,
             "#bd3786"
            ],
            [
             0.5555555555555556,
             "#d8576b"
            ],
            [
             0.6666666666666666,
             "#ed7953"
            ],
            [
             0.7777777777777778,
             "#fb9f3a"
            ],
            [
             0.8888888888888888,
             "#fdca26"
            ],
            [
             1,
             "#f0f921"
            ]
           ]
          },
          "colorway": [
           "#636efa",
           "#EF553B",
           "#00cc96",
           "#ab63fa",
           "#FFA15A",
           "#19d3f3",
           "#FF6692",
           "#B6E880",
           "#FF97FF",
           "#FECB52"
          ],
          "font": {
           "color": "#2a3f5f"
          },
          "geo": {
           "bgcolor": "white",
           "lakecolor": "white",
           "landcolor": "#E5ECF6",
           "showlakes": true,
           "showland": true,
           "subunitcolor": "white"
          },
          "hoverlabel": {
           "align": "left"
          },
          "hovermode": "closest",
          "mapbox": {
           "style": "light"
          },
          "paper_bgcolor": "white",
          "plot_bgcolor": "#E5ECF6",
          "polar": {
           "angularaxis": {
            "gridcolor": "white",
            "linecolor": "white",
            "ticks": ""
           },
           "bgcolor": "#E5ECF6",
           "radialaxis": {
            "gridcolor": "white",
            "linecolor": "white",
            "ticks": ""
           }
          },
          "scene": {
           "xaxis": {
            "backgroundcolor": "#E5ECF6",
            "gridcolor": "white",
            "gridwidth": 2,
            "linecolor": "white",
            "showbackground": true,
            "ticks": "",
            "zerolinecolor": "white"
           },
           "yaxis": {
            "backgroundcolor": "#E5ECF6",
            "gridcolor": "white",
            "gridwidth": 2,
            "linecolor": "white",
            "showbackground": true,
            "ticks": "",
            "zerolinecolor": "white"
           },
           "zaxis": {
            "backgroundcolor": "#E5ECF6",
            "gridcolor": "white",
            "gridwidth": 2,
            "linecolor": "white",
            "showbackground": true,
            "ticks": "",
            "zerolinecolor": "white"
           }
          },
          "shapedefaults": {
           "line": {
            "color": "#2a3f5f"
           }
          },
          "ternary": {
           "aaxis": {
            "gridcolor": "white",
            "linecolor": "white",
            "ticks": ""
           },
           "baxis": {
            "gridcolor": "white",
            "linecolor": "white",
            "ticks": ""
           },
           "bgcolor": "#E5ECF6",
           "caxis": {
            "gridcolor": "white",
            "linecolor": "white",
            "ticks": ""
           }
          },
          "title": {
           "x": 0.05
          },
          "xaxis": {
           "automargin": true,
           "gridcolor": "white",
           "linecolor": "white",
           "ticks": "",
           "title": {
            "standoff": 15
           },
           "zerolinecolor": "white",
           "zerolinewidth": 2
          },
          "yaxis": {
           "automargin": true,
           "gridcolor": "white",
           "linecolor": "white",
           "ticks": "",
           "title": {
            "standoff": 15
           },
           "zerolinecolor": "white",
           "zerolinewidth": 2
          }
         }
        },
        "xaxis": {
         "anchor": "y",
         "domain": [
          0,
          1
         ],
         "title": {
          "text": "date"
         }
        },
        "yaxis": {
         "anchor": "x",
         "domain": [
          0,
          1
         ],
         "title": {
          "text": "sum of count"
         }
        }
       }
      }
     },
     "metadata": {},
     "output_type": "display_data"
    }
   ],
   "source": [
    "fig.show()"
   ]
  },
  {
   "cell_type": "code",
   "execution_count": 1,
   "metadata": {},
   "outputs": [],
   "source": [
    "import pandas as pd "
   ]
  },
  {
   "cell_type": "code",
   "execution_count": 4,
   "metadata": {},
   "outputs": [],
   "source": [
    "data = pd.read_csv('/Users/camille/repo/Hetic/projet_demo/ia_theme/scraping_projet_lois/results/output_file_cleaned.csv')"
   ]
  },
  {
   "cell_type": "code",
   "execution_count": 9,
   "metadata": {},
   "outputs": [
    {
     "data": {
      "text/html": [
       "<div>\n",
       "<style scoped>\n",
       "    .dataframe tbody tr th:only-of-type {\n",
       "        vertical-align: middle;\n",
       "    }\n",
       "\n",
       "    .dataframe tbody tr th {\n",
       "        vertical-align: top;\n",
       "    }\n",
       "\n",
       "    .dataframe thead th {\n",
       "        text-align: right;\n",
       "    }\n",
       "</style>\n",
       "<table border=\"1\" class=\"dataframe\">\n",
       "  <thead>\n",
       "    <tr style=\"text-align: right;\">\n",
       "      <th></th>\n",
       "      <th>url</th>\n",
       "      <th>information</th>\n",
       "      <th>date</th>\n",
       "      <th>texts</th>\n",
       "      <th>helo</th>\n",
       "    </tr>\n",
       "  </thead>\n",
       "  <tbody>\n",
       "    <tr>\n",
       "      <th>0</th>\n",
       "      <td>https://www.assemblee-nationale.fr/dyn/opendat...</td>\n",
       "      <td>3</td>\n",
       "      <td>29 juin 2017.</td>\n",
       "      <td>L’article 114 de la loi n° 2016‑1691 du 9 déce...</td>\n",
       "      <td>', '– 1 –', '', 'projet de loi', '', 'Le Premi...</td>\n",
       "    </tr>\n",
       "    <tr>\n",
       "      <th>1</th>\n",
       "      <td>https://www.assemblee-nationale.fr/dyn/opendat...</td>\n",
       "      <td>4</td>\n",
       "      <td>29 juin 2017.</td>\n",
       "      <td>Conformément à la volonté du Président de la R...</td>\n",
       "      <td>', '– 1 –', '', 'projet de loi', '', 'Le Premi...</td>\n",
       "    </tr>\n",
       "    <tr>\n",
       "      <th>2</th>\n",
       "      <td>https://www.assemblee-nationale.fr/dyn/opendat...</td>\n",
       "      <td>6</td>\n",
       "      <td>29 juin 2017.</td>\n",
       "      <td>', 'Le présent projet de loi ratifiant l’ordon...</td>\n",
       "      <td>', 'projet de loi', '', 'Le Premier ministre,'...</td>\n",
       "    </tr>\n",
       "    <tr>\n",
       "      <th>3</th>\n",
       "      <td>https://www.assemblee-nationale.fr/dyn/opendat...</td>\n",
       "      <td>7</td>\n",
       "      <td>29 juin 2017.</td>\n",
       "      <td>L’article 1er du projet de loi ratifie l’ordon...</td>\n",
       "      <td>', '– 1 –', '', 'projet de loi', '', 'Le Premi...</td>\n",
       "    </tr>\n",
       "    <tr>\n",
       "      <th>4</th>\n",
       "      <td>https://www.assemblee-nationale.fr/dyn/opendat...</td>\n",
       "      <td>8</td>\n",
       "      <td>29 juin 2017.</td>\n",
       "      <td>L’article unique du projet de loi procède à la...</td>\n",
       "      <td>', 'projet de loi', '', 'Le Premier ministre,'...</td>\n",
       "    </tr>\n",
       "    <tr>\n",
       "      <th>...</th>\n",
       "      <td>...</td>\n",
       "      <td>...</td>\n",
       "      <td>...</td>\n",
       "      <td>...</td>\n",
       "      <td>...</td>\n",
       "    </tr>\n",
       "    <tr>\n",
       "      <th>443</th>\n",
       "      <td>https://www.assemblee-nationale.fr/dyn/opendat...</td>\n",
       "      <td>5063</td>\n",
       "      <td>22 février 2022.</td>\n",
       "      <td>L’ordonnance n° 2021‑1605 du 8 décembre 2021 é...</td>\n",
       "      <td>NaN</td>\n",
       "    </tr>\n",
       "    <tr>\n",
       "      <th>444</th>\n",
       "      <td>https://www.assemblee-nationale.fr/dyn/opendat...</td>\n",
       "      <td>NaN</td>\n",
       "      <td>23 février 2022.</td>\n",
       "      <td>L’article 55 de la loi n° 2019‑828 du 6 août 2...</td>\n",
       "      <td>', '– 1 –', '', 'projet de loi', '', 'Le Premi...</td>\n",
       "    </tr>\n",
       "    <tr>\n",
       "      <th>445</th>\n",
       "      <td>https://www.assemblee-nationale.fr/dyn/opendat...</td>\n",
       "      <td>NaN</td>\n",
       "      <td>7 mars 2022.</td>\n",
       "      <td>ratifiant l’ordonnance n° 2021‑1200 du 15 sept...</td>\n",
       "      <td>', 'projet de loi', '', 'Le Premier ministre,'...</td>\n",
       "    </tr>\n",
       "    <tr>\n",
       "      <th>446</th>\n",
       "      <td>https://www.assemblee-nationale.fr/dyn/opendat...</td>\n",
       "      <td>NaN</td>\n",
       "      <td>9 mars 2022.</td>\n",
       "      <td>L’article 108 de la loi n° 2020‑1576 du 14 déc...</td>\n",
       "      <td>', 'projet de loi', '', 'Le Premier ministre,'...</td>\n",
       "    </tr>\n",
       "    <tr>\n",
       "      <th>447</th>\n",
       "      <td>https://www.assemblee-nationale.fr/dyn/opendat...</td>\n",
       "      <td>NaN</td>\n",
       "      <td>16 mars 2022.</td>\n",
       "      <td>L’action du ministère de l’intérieur est au cœ...</td>\n",
       "      <td>', 'projet de loi', '', 'Le Premier ministre,'...</td>\n",
       "    </tr>\n",
       "  </tbody>\n",
       "</table>\n",
       "<p>448 rows × 5 columns</p>\n",
       "</div>"
      ],
      "text/plain": [
       "                                                   url information  \\\n",
       "0    https://www.assemblee-nationale.fr/dyn/opendat...           3   \n",
       "1    https://www.assemblee-nationale.fr/dyn/opendat...           4   \n",
       "2    https://www.assemblee-nationale.fr/dyn/opendat...           6   \n",
       "3    https://www.assemblee-nationale.fr/dyn/opendat...           7   \n",
       "4    https://www.assemblee-nationale.fr/dyn/opendat...           8   \n",
       "..                                                 ...         ...   \n",
       "443  https://www.assemblee-nationale.fr/dyn/opendat...        5063   \n",
       "444  https://www.assemblee-nationale.fr/dyn/opendat...         NaN   \n",
       "445  https://www.assemblee-nationale.fr/dyn/opendat...         NaN   \n",
       "446  https://www.assemblee-nationale.fr/dyn/opendat...         NaN   \n",
       "447  https://www.assemblee-nationale.fr/dyn/opendat...         NaN   \n",
       "\n",
       "                 date                                              texts  \\\n",
       "0       29 juin 2017.  L’article 114 de la loi n° 2016‑1691 du 9 déce...   \n",
       "1       29 juin 2017.  Conformément à la volonté du Président de la R...   \n",
       "2       29 juin 2017.  ', 'Le présent projet de loi ratifiant l’ordon...   \n",
       "3       29 juin 2017.  L’article 1er du projet de loi ratifie l’ordon...   \n",
       "4       29 juin 2017.  L’article unique du projet de loi procède à la...   \n",
       "..                ...                                                ...   \n",
       "443  22 février 2022.  L’ordonnance n° 2021‑1605 du 8 décembre 2021 é...   \n",
       "444  23 février 2022.  L’article 55 de la loi n° 2019‑828 du 6 août 2...   \n",
       "445      7 mars 2022.  ratifiant l’ordonnance n° 2021‑1200 du 15 sept...   \n",
       "446      9 mars 2022.  L’article 108 de la loi n° 2020‑1576 du 14 déc...   \n",
       "447     16 mars 2022.  L’action du ministère de l’intérieur est au cœ...   \n",
       "\n",
       "                                                  helo  \n",
       "0    ', '– 1 –', '', 'projet de loi', '', 'Le Premi...  \n",
       "1    ', '– 1 –', '', 'projet de loi', '', 'Le Premi...  \n",
       "2    ', 'projet de loi', '', 'Le Premier ministre,'...  \n",
       "3    ', '– 1 –', '', 'projet de loi', '', 'Le Premi...  \n",
       "4    ', 'projet de loi', '', 'Le Premier ministre,'...  \n",
       "..                                                 ...  \n",
       "443                                                NaN  \n",
       "444  ', '– 1 –', '', 'projet de loi', '', 'Le Premi...  \n",
       "445  ', 'projet de loi', '', 'Le Premier ministre,'...  \n",
       "446  ', 'projet de loi', '', 'Le Premier ministre,'...  \n",
       "447  ', 'projet de loi', '', 'Le Premier ministre,'...  \n",
       "\n",
       "[448 rows x 5 columns]"
      ]
     },
     "execution_count": 9,
     "metadata": {},
     "output_type": "execute_result"
    }
   ],
   "source": [
    "data"
   ]
  },
  {
   "cell_type": "code",
   "execution_count": 14,
   "metadata": {},
   "outputs": [
    {
     "data": {
      "text/html": [
       "<div>\n",
       "<style scoped>\n",
       "    .dataframe tbody tr th:only-of-type {\n",
       "        vertical-align: middle;\n",
       "    }\n",
       "\n",
       "    .dataframe tbody tr th {\n",
       "        vertical-align: top;\n",
       "    }\n",
       "\n",
       "    .dataframe thead th {\n",
       "        text-align: right;\n",
       "    }\n",
       "</style>\n",
       "<table border=\"1\" class=\"dataframe\">\n",
       "  <thead>\n",
       "    <tr style=\"text-align: right;\">\n",
       "      <th></th>\n",
       "      <th>url</th>\n",
       "      <th>information</th>\n",
       "      <th>date</th>\n",
       "      <th>texts</th>\n",
       "      <th>helo</th>\n",
       "    </tr>\n",
       "  </thead>\n",
       "  <tbody>\n",
       "    <tr>\n",
       "      <th>0</th>\n",
       "      <td>https://www.assemblee-nationale.fr/dyn/opendat...</td>\n",
       "      <td>3</td>\n",
       "      <td>29 juin 2017.</td>\n",
       "      <td>L’article 114 de la loi n° 2016‑1691 du 9 déce...</td>\n",
       "      <td>', '– 1 –', '', 'projet de loi', '', 'Le Premi...</td>\n",
       "    </tr>\n",
       "    <tr>\n",
       "      <th>1</th>\n",
       "      <td>https://www.assemblee-nationale.fr/dyn/opendat...</td>\n",
       "      <td>4</td>\n",
       "      <td>29 juin 2017.</td>\n",
       "      <td>Conformément à la volonté du Président de la R...</td>\n",
       "      <td>', '– 1 –', '', 'projet de loi', '', 'Le Premi...</td>\n",
       "    </tr>\n",
       "    <tr>\n",
       "      <th>2</th>\n",
       "      <td>https://www.assemblee-nationale.fr/dyn/opendat...</td>\n",
       "      <td>6</td>\n",
       "      <td>29 juin 2017.</td>\n",
       "      <td>', 'Le présent projet de loi ratifiant l’ordon...</td>\n",
       "      <td>', 'projet de loi', '', 'Le Premier ministre,'...</td>\n",
       "    </tr>\n",
       "    <tr>\n",
       "      <th>3</th>\n",
       "      <td>https://www.assemblee-nationale.fr/dyn/opendat...</td>\n",
       "      <td>7</td>\n",
       "      <td>29 juin 2017.</td>\n",
       "      <td>L’article 1er du projet de loi ratifie l’ordon...</td>\n",
       "      <td>', '– 1 –', '', 'projet de loi', '', 'Le Premi...</td>\n",
       "    </tr>\n",
       "    <tr>\n",
       "      <th>4</th>\n",
       "      <td>https://www.assemblee-nationale.fr/dyn/opendat...</td>\n",
       "      <td>8</td>\n",
       "      <td>29 juin 2017.</td>\n",
       "      <td>L’article unique du projet de loi procède à la...</td>\n",
       "      <td>', 'projet de loi', '', 'Le Premier ministre,'...</td>\n",
       "    </tr>\n",
       "    <tr>\n",
       "      <th>...</th>\n",
       "      <td>...</td>\n",
       "      <td>...</td>\n",
       "      <td>...</td>\n",
       "      <td>...</td>\n",
       "      <td>...</td>\n",
       "    </tr>\n",
       "    <tr>\n",
       "      <th>443</th>\n",
       "      <td>https://www.assemblee-nationale.fr/dyn/opendat...</td>\n",
       "      <td>5063</td>\n",
       "      <td>22 février 2022.</td>\n",
       "      <td>L’ordonnance n° 2021‑1605 du 8 décembre 2021 é...</td>\n",
       "      <td>NaN</td>\n",
       "    </tr>\n",
       "    <tr>\n",
       "      <th>444</th>\n",
       "      <td>https://www.assemblee-nationale.fr/dyn/opendat...</td>\n",
       "      <td>NaN</td>\n",
       "      <td>23 février 2022.</td>\n",
       "      <td>L’article 55 de la loi n° 2019‑828 du 6 août 2...</td>\n",
       "      <td>', '– 1 –', '', 'projet de loi', '', 'Le Premi...</td>\n",
       "    </tr>\n",
       "    <tr>\n",
       "      <th>445</th>\n",
       "      <td>https://www.assemblee-nationale.fr/dyn/opendat...</td>\n",
       "      <td>NaN</td>\n",
       "      <td>7 mars 2022.</td>\n",
       "      <td>ratifiant l’ordonnance n° 2021‑1200 du 15 sept...</td>\n",
       "      <td>', 'projet de loi', '', 'Le Premier ministre,'...</td>\n",
       "    </tr>\n",
       "    <tr>\n",
       "      <th>446</th>\n",
       "      <td>https://www.assemblee-nationale.fr/dyn/opendat...</td>\n",
       "      <td>NaN</td>\n",
       "      <td>9 mars 2022.</td>\n",
       "      <td>L’article 108 de la loi n° 2020‑1576 du 14 déc...</td>\n",
       "      <td>', 'projet de loi', '', 'Le Premier ministre,'...</td>\n",
       "    </tr>\n",
       "    <tr>\n",
       "      <th>447</th>\n",
       "      <td>https://www.assemblee-nationale.fr/dyn/opendat...</td>\n",
       "      <td>NaN</td>\n",
       "      <td>16 mars 2022.</td>\n",
       "      <td>L’action du ministère de l’intérieur est au cœ...</td>\n",
       "      <td>', 'projet de loi', '', 'Le Premier ministre,'...</td>\n",
       "    </tr>\n",
       "  </tbody>\n",
       "</table>\n",
       "<p>448 rows × 5 columns</p>\n",
       "</div>"
      ],
      "text/plain": [
       "                                                   url information  \\\n",
       "0    https://www.assemblee-nationale.fr/dyn/opendat...           3   \n",
       "1    https://www.assemblee-nationale.fr/dyn/opendat...           4   \n",
       "2    https://www.assemblee-nationale.fr/dyn/opendat...           6   \n",
       "3    https://www.assemblee-nationale.fr/dyn/opendat...           7   \n",
       "4    https://www.assemblee-nationale.fr/dyn/opendat...           8   \n",
       "..                                                 ...         ...   \n",
       "443  https://www.assemblee-nationale.fr/dyn/opendat...        5063   \n",
       "444  https://www.assemblee-nationale.fr/dyn/opendat...         NaN   \n",
       "445  https://www.assemblee-nationale.fr/dyn/opendat...         NaN   \n",
       "446  https://www.assemblee-nationale.fr/dyn/opendat...         NaN   \n",
       "447  https://www.assemblee-nationale.fr/dyn/opendat...         NaN   \n",
       "\n",
       "                 date                                              texts  \\\n",
       "0       29 juin 2017.  L’article 114 de la loi n° 2016‑1691 du 9 déce...   \n",
       "1       29 juin 2017.  Conformément à la volonté du Président de la R...   \n",
       "2       29 juin 2017.  ', 'Le présent projet de loi ratifiant l’ordon...   \n",
       "3       29 juin 2017.  L’article 1er du projet de loi ratifie l’ordon...   \n",
       "4       29 juin 2017.  L’article unique du projet de loi procède à la...   \n",
       "..                ...                                                ...   \n",
       "443  22 février 2022.  L’ordonnance n° 2021‑1605 du 8 décembre 2021 é...   \n",
       "444  23 février 2022.  L’article 55 de la loi n° 2019‑828 du 6 août 2...   \n",
       "445      7 mars 2022.  ratifiant l’ordonnance n° 2021‑1200 du 15 sept...   \n",
       "446      9 mars 2022.  L’article 108 de la loi n° 2020‑1576 du 14 déc...   \n",
       "447     16 mars 2022.  L’action du ministère de l’intérieur est au cœ...   \n",
       "\n",
       "                                                  helo  \n",
       "0    ', '– 1 –', '', 'projet de loi', '', 'Le Premi...  \n",
       "1    ', '– 1 –', '', 'projet de loi', '', 'Le Premi...  \n",
       "2    ', 'projet de loi', '', 'Le Premier ministre,'...  \n",
       "3    ', '– 1 –', '', 'projet de loi', '', 'Le Premi...  \n",
       "4    ', 'projet de loi', '', 'Le Premier ministre,'...  \n",
       "..                                                 ...  \n",
       "443                                                NaN  \n",
       "444  ', '– 1 –', '', 'projet de loi', '', 'Le Premi...  \n",
       "445  ', 'projet de loi', '', 'Le Premier ministre,'...  \n",
       "446  ', 'projet de loi', '', 'Le Premier ministre,'...  \n",
       "447  ', 'projet de loi', '', 'Le Premier ministre,'...  \n",
       "\n",
       "[448 rows x 5 columns]"
      ]
     },
     "execution_count": 14,
     "metadata": {},
     "output_type": "execute_result"
    }
   ],
   "source": [
    "data.explode('texts')"
   ]
  },
  {
   "cell_type": "code",
   "execution_count": 4,
   "metadata": {},
   "outputs": [
    {
     "ename": "FileNotFoundError",
     "evalue": "[Errno 2] No such file or directory: '/Users/camille/repo/Hetic/projet_demo/ia_theme/output_file_cleaned.csv'",
     "output_type": "error",
     "traceback": [
      "\u001b[0;31m---------------------------------------------------------------------------\u001b[0m",
      "\u001b[0;31mFileNotFoundError\u001b[0m                         Traceback (most recent call last)",
      "Cell \u001b[0;32mIn[4], line 2\u001b[0m\n\u001b[1;32m      1\u001b[0m \u001b[39mimport\u001b[39;00m \u001b[39mpandas\u001b[39;00m \u001b[39mas\u001b[39;00m \u001b[39mpd\u001b[39;00m\n\u001b[0;32m----> 2\u001b[0m data \u001b[39m=\u001b[39m pd\u001b[39m.\u001b[39;49mread_csv(\u001b[39m'\u001b[39;49m\u001b[39m/Users/camille/repo/Hetic/projet_demo/ia_theme/output_file_cleaned.csv\u001b[39;49m\u001b[39m'\u001b[39;49m)\n",
      "File \u001b[0;32m~/repo/Hetic/projet_demo/ia_theme/ai_theme_venv/lib/python3.10/site-packages/pandas/util/_decorators.py:211\u001b[0m, in \u001b[0;36mdeprecate_kwarg.<locals>._deprecate_kwarg.<locals>.wrapper\u001b[0;34m(*args, **kwargs)\u001b[0m\n\u001b[1;32m    209\u001b[0m     \u001b[39melse\u001b[39;00m:\n\u001b[1;32m    210\u001b[0m         kwargs[new_arg_name] \u001b[39m=\u001b[39m new_arg_value\n\u001b[0;32m--> 211\u001b[0m \u001b[39mreturn\u001b[39;00m func(\u001b[39m*\u001b[39;49margs, \u001b[39m*\u001b[39;49m\u001b[39m*\u001b[39;49mkwargs)\n",
      "File \u001b[0;32m~/repo/Hetic/projet_demo/ia_theme/ai_theme_venv/lib/python3.10/site-packages/pandas/util/_decorators.py:331\u001b[0m, in \u001b[0;36mdeprecate_nonkeyword_arguments.<locals>.decorate.<locals>.wrapper\u001b[0;34m(*args, **kwargs)\u001b[0m\n\u001b[1;32m    325\u001b[0m \u001b[39mif\u001b[39;00m \u001b[39mlen\u001b[39m(args) \u001b[39m>\u001b[39m num_allow_args:\n\u001b[1;32m    326\u001b[0m     warnings\u001b[39m.\u001b[39mwarn(\n\u001b[1;32m    327\u001b[0m         msg\u001b[39m.\u001b[39mformat(arguments\u001b[39m=\u001b[39m_format_argument_list(allow_args)),\n\u001b[1;32m    328\u001b[0m         \u001b[39mFutureWarning\u001b[39;00m,\n\u001b[1;32m    329\u001b[0m         stacklevel\u001b[39m=\u001b[39mfind_stack_level(),\n\u001b[1;32m    330\u001b[0m     )\n\u001b[0;32m--> 331\u001b[0m \u001b[39mreturn\u001b[39;00m func(\u001b[39m*\u001b[39;49margs, \u001b[39m*\u001b[39;49m\u001b[39m*\u001b[39;49mkwargs)\n",
      "File \u001b[0;32m~/repo/Hetic/projet_demo/ia_theme/ai_theme_venv/lib/python3.10/site-packages/pandas/io/parsers/readers.py:950\u001b[0m, in \u001b[0;36mread_csv\u001b[0;34m(filepath_or_buffer, sep, delimiter, header, names, index_col, usecols, squeeze, prefix, mangle_dupe_cols, dtype, engine, converters, true_values, false_values, skipinitialspace, skiprows, skipfooter, nrows, na_values, keep_default_na, na_filter, verbose, skip_blank_lines, parse_dates, infer_datetime_format, keep_date_col, date_parser, dayfirst, cache_dates, iterator, chunksize, compression, thousands, decimal, lineterminator, quotechar, quoting, doublequote, escapechar, comment, encoding, encoding_errors, dialect, error_bad_lines, warn_bad_lines, on_bad_lines, delim_whitespace, low_memory, memory_map, float_precision, storage_options)\u001b[0m\n\u001b[1;32m    935\u001b[0m kwds_defaults \u001b[39m=\u001b[39m _refine_defaults_read(\n\u001b[1;32m    936\u001b[0m     dialect,\n\u001b[1;32m    937\u001b[0m     delimiter,\n\u001b[0;32m   (...)\u001b[0m\n\u001b[1;32m    946\u001b[0m     defaults\u001b[39m=\u001b[39m{\u001b[39m\"\u001b[39m\u001b[39mdelimiter\u001b[39m\u001b[39m\"\u001b[39m: \u001b[39m\"\u001b[39m\u001b[39m,\u001b[39m\u001b[39m\"\u001b[39m},\n\u001b[1;32m    947\u001b[0m )\n\u001b[1;32m    948\u001b[0m kwds\u001b[39m.\u001b[39mupdate(kwds_defaults)\n\u001b[0;32m--> 950\u001b[0m \u001b[39mreturn\u001b[39;00m _read(filepath_or_buffer, kwds)\n",
      "File \u001b[0;32m~/repo/Hetic/projet_demo/ia_theme/ai_theme_venv/lib/python3.10/site-packages/pandas/io/parsers/readers.py:605\u001b[0m, in \u001b[0;36m_read\u001b[0;34m(filepath_or_buffer, kwds)\u001b[0m\n\u001b[1;32m    602\u001b[0m _validate_names(kwds\u001b[39m.\u001b[39mget(\u001b[39m\"\u001b[39m\u001b[39mnames\u001b[39m\u001b[39m\"\u001b[39m, \u001b[39mNone\u001b[39;00m))\n\u001b[1;32m    604\u001b[0m \u001b[39m# Create the parser.\u001b[39;00m\n\u001b[0;32m--> 605\u001b[0m parser \u001b[39m=\u001b[39m TextFileReader(filepath_or_buffer, \u001b[39m*\u001b[39;49m\u001b[39m*\u001b[39;49mkwds)\n\u001b[1;32m    607\u001b[0m \u001b[39mif\u001b[39;00m chunksize \u001b[39mor\u001b[39;00m iterator:\n\u001b[1;32m    608\u001b[0m     \u001b[39mreturn\u001b[39;00m parser\n",
      "File \u001b[0;32m~/repo/Hetic/projet_demo/ia_theme/ai_theme_venv/lib/python3.10/site-packages/pandas/io/parsers/readers.py:1442\u001b[0m, in \u001b[0;36mTextFileReader.__init__\u001b[0;34m(self, f, engine, **kwds)\u001b[0m\n\u001b[1;32m   1439\u001b[0m     \u001b[39mself\u001b[39m\u001b[39m.\u001b[39moptions[\u001b[39m\"\u001b[39m\u001b[39mhas_index_names\u001b[39m\u001b[39m\"\u001b[39m] \u001b[39m=\u001b[39m kwds[\u001b[39m\"\u001b[39m\u001b[39mhas_index_names\u001b[39m\u001b[39m\"\u001b[39m]\n\u001b[1;32m   1441\u001b[0m \u001b[39mself\u001b[39m\u001b[39m.\u001b[39mhandles: IOHandles \u001b[39m|\u001b[39m \u001b[39mNone\u001b[39;00m \u001b[39m=\u001b[39m \u001b[39mNone\u001b[39;00m\n\u001b[0;32m-> 1442\u001b[0m \u001b[39mself\u001b[39m\u001b[39m.\u001b[39m_engine \u001b[39m=\u001b[39m \u001b[39mself\u001b[39;49m\u001b[39m.\u001b[39;49m_make_engine(f, \u001b[39mself\u001b[39;49m\u001b[39m.\u001b[39;49mengine)\n",
      "File \u001b[0;32m~/repo/Hetic/projet_demo/ia_theme/ai_theme_venv/lib/python3.10/site-packages/pandas/io/parsers/readers.py:1735\u001b[0m, in \u001b[0;36mTextFileReader._make_engine\u001b[0;34m(self, f, engine)\u001b[0m\n\u001b[1;32m   1733\u001b[0m     \u001b[39mif\u001b[39;00m \u001b[39m\"\u001b[39m\u001b[39mb\u001b[39m\u001b[39m\"\u001b[39m \u001b[39mnot\u001b[39;00m \u001b[39min\u001b[39;00m mode:\n\u001b[1;32m   1734\u001b[0m         mode \u001b[39m+\u001b[39m\u001b[39m=\u001b[39m \u001b[39m\"\u001b[39m\u001b[39mb\u001b[39m\u001b[39m\"\u001b[39m\n\u001b[0;32m-> 1735\u001b[0m \u001b[39mself\u001b[39m\u001b[39m.\u001b[39mhandles \u001b[39m=\u001b[39m get_handle(\n\u001b[1;32m   1736\u001b[0m     f,\n\u001b[1;32m   1737\u001b[0m     mode,\n\u001b[1;32m   1738\u001b[0m     encoding\u001b[39m=\u001b[39;49m\u001b[39mself\u001b[39;49m\u001b[39m.\u001b[39;49moptions\u001b[39m.\u001b[39;49mget(\u001b[39m\"\u001b[39;49m\u001b[39mencoding\u001b[39;49m\u001b[39m\"\u001b[39;49m, \u001b[39mNone\u001b[39;49;00m),\n\u001b[1;32m   1739\u001b[0m     compression\u001b[39m=\u001b[39;49m\u001b[39mself\u001b[39;49m\u001b[39m.\u001b[39;49moptions\u001b[39m.\u001b[39;49mget(\u001b[39m\"\u001b[39;49m\u001b[39mcompression\u001b[39;49m\u001b[39m\"\u001b[39;49m, \u001b[39mNone\u001b[39;49;00m),\n\u001b[1;32m   1740\u001b[0m     memory_map\u001b[39m=\u001b[39;49m\u001b[39mself\u001b[39;49m\u001b[39m.\u001b[39;49moptions\u001b[39m.\u001b[39;49mget(\u001b[39m\"\u001b[39;49m\u001b[39mmemory_map\u001b[39;49m\u001b[39m\"\u001b[39;49m, \u001b[39mFalse\u001b[39;49;00m),\n\u001b[1;32m   1741\u001b[0m     is_text\u001b[39m=\u001b[39;49mis_text,\n\u001b[1;32m   1742\u001b[0m     errors\u001b[39m=\u001b[39;49m\u001b[39mself\u001b[39;49m\u001b[39m.\u001b[39;49moptions\u001b[39m.\u001b[39;49mget(\u001b[39m\"\u001b[39;49m\u001b[39mencoding_errors\u001b[39;49m\u001b[39m\"\u001b[39;49m, \u001b[39m\"\u001b[39;49m\u001b[39mstrict\u001b[39;49m\u001b[39m\"\u001b[39;49m),\n\u001b[1;32m   1743\u001b[0m     storage_options\u001b[39m=\u001b[39;49m\u001b[39mself\u001b[39;49m\u001b[39m.\u001b[39;49moptions\u001b[39m.\u001b[39;49mget(\u001b[39m\"\u001b[39;49m\u001b[39mstorage_options\u001b[39;49m\u001b[39m\"\u001b[39;49m, \u001b[39mNone\u001b[39;49;00m),\n\u001b[1;32m   1744\u001b[0m )\n\u001b[1;32m   1745\u001b[0m \u001b[39massert\u001b[39;00m \u001b[39mself\u001b[39m\u001b[39m.\u001b[39mhandles \u001b[39mis\u001b[39;00m \u001b[39mnot\u001b[39;00m \u001b[39mNone\u001b[39;00m\n\u001b[1;32m   1746\u001b[0m f \u001b[39m=\u001b[39m \u001b[39mself\u001b[39m\u001b[39m.\u001b[39mhandles\u001b[39m.\u001b[39mhandle\n",
      "File \u001b[0;32m~/repo/Hetic/projet_demo/ia_theme/ai_theme_venv/lib/python3.10/site-packages/pandas/io/common.py:856\u001b[0m, in \u001b[0;36mget_handle\u001b[0;34m(path_or_buf, mode, encoding, compression, memory_map, is_text, errors, storage_options)\u001b[0m\n\u001b[1;32m    851\u001b[0m \u001b[39melif\u001b[39;00m \u001b[39misinstance\u001b[39m(handle, \u001b[39mstr\u001b[39m):\n\u001b[1;32m    852\u001b[0m     \u001b[39m# Check whether the filename is to be opened in binary mode.\u001b[39;00m\n\u001b[1;32m    853\u001b[0m     \u001b[39m# Binary mode does not support 'encoding' and 'newline'.\u001b[39;00m\n\u001b[1;32m    854\u001b[0m     \u001b[39mif\u001b[39;00m ioargs\u001b[39m.\u001b[39mencoding \u001b[39mand\u001b[39;00m \u001b[39m\"\u001b[39m\u001b[39mb\u001b[39m\u001b[39m\"\u001b[39m \u001b[39mnot\u001b[39;00m \u001b[39min\u001b[39;00m ioargs\u001b[39m.\u001b[39mmode:\n\u001b[1;32m    855\u001b[0m         \u001b[39m# Encoding\u001b[39;00m\n\u001b[0;32m--> 856\u001b[0m         handle \u001b[39m=\u001b[39m \u001b[39mopen\u001b[39;49m(\n\u001b[1;32m    857\u001b[0m             handle,\n\u001b[1;32m    858\u001b[0m             ioargs\u001b[39m.\u001b[39;49mmode,\n\u001b[1;32m    859\u001b[0m             encoding\u001b[39m=\u001b[39;49mioargs\u001b[39m.\u001b[39;49mencoding,\n\u001b[1;32m    860\u001b[0m             errors\u001b[39m=\u001b[39;49merrors,\n\u001b[1;32m    861\u001b[0m             newline\u001b[39m=\u001b[39;49m\u001b[39m\"\u001b[39;49m\u001b[39m\"\u001b[39;49m,\n\u001b[1;32m    862\u001b[0m         )\n\u001b[1;32m    863\u001b[0m     \u001b[39melse\u001b[39;00m:\n\u001b[1;32m    864\u001b[0m         \u001b[39m# Binary mode\u001b[39;00m\n\u001b[1;32m    865\u001b[0m         handle \u001b[39m=\u001b[39m \u001b[39mopen\u001b[39m(handle, ioargs\u001b[39m.\u001b[39mmode)\n",
      "\u001b[0;31mFileNotFoundError\u001b[0m: [Errno 2] No such file or directory: '/Users/camille/repo/Hetic/projet_demo/ia_theme/output_file_cleaned.csv'"
     ]
    }
   ],
   "source": [
    "import pandas as pd\n",
    "data = pd.read_csv('/Users/camille/repo/Hetic/projet_demo/ia_theme/output_file_cleaned.csv')"
   ]
  },
  {
   "cell_type": "code",
   "execution_count": 3,
   "metadata": {},
   "outputs": [
    {
     "data": {
      "text/plain": [
       "16"
      ]
     },
     "execution_count": 3,
     "metadata": {},
     "output_type": "execute_result"
    }
   ],
   "source": [
    "len(data)"
   ]
  },
  {
   "cell_type": "code",
   "execution_count": 59,
   "metadata": {},
   "outputs": [],
   "source": [
    "import pandas   as pd\n",
    "data = pd.read_csv('/Users/camille/repo/Hetic/projet_demo/ia_theme/output_file_cleaned_04.csv')"
   ]
  },
  {
   "cell_type": "code",
   "execution_count": 60,
   "metadata": {},
   "outputs": [
    {
     "data": {
      "text/html": [
       "<div>\n",
       "<style scoped>\n",
       "    .dataframe tbody tr th:only-of-type {\n",
       "        vertical-align: middle;\n",
       "    }\n",
       "\n",
       "    .dataframe tbody tr th {\n",
       "        vertical-align: top;\n",
       "    }\n",
       "\n",
       "    .dataframe thead th {\n",
       "        text-align: right;\n",
       "    }\n",
       "</style>\n",
       "<table border=\"1\" class=\"dataframe\">\n",
       "  <thead>\n",
       "    <tr style=\"text-align: right;\">\n",
       "      <th></th>\n",
       "      <th>url</th>\n",
       "      <th>information</th>\n",
       "      <th>date</th>\n",
       "      <th>motifs</th>\n",
       "      <th>projet_lois</th>\n",
       "    </tr>\n",
       "  </thead>\n",
       "  <tbody>\n",
       "    <tr>\n",
       "      <th>0</th>\n",
       "      <td>https://www.assemblee-nationale.fr/dyn/opendat...</td>\n",
       "      <td>3</td>\n",
       "      <td>29 juin 2017.</td>\n",
       "      <td>L’article 114 de la loi n° 2016‑1691 du 9 déce...</td>\n",
       "      <td>NaN</td>\n",
       "    </tr>\n",
       "    <tr>\n",
       "      <th>1</th>\n",
       "      <td>https://www.assemblee-nationale.fr/dyn/opendat...</td>\n",
       "      <td>4</td>\n",
       "      <td>29 juin 2017.</td>\n",
       "      <td>Conformément à la volonté du Président de la R...</td>\n",
       "      <td>NaN</td>\n",
       "    </tr>\n",
       "    <tr>\n",
       "      <th>2</th>\n",
       "      <td>https://www.assemblee-nationale.fr/dyn/opendat...</td>\n",
       "      <td>6</td>\n",
       "      <td>29 juin 2017.</td>\n",
       "      <td>']</td>\n",
       "      <td>NaN</td>\n",
       "    </tr>\n",
       "    <tr>\n",
       "      <th>3</th>\n",
       "      <td>https://www.assemblee-nationale.fr/dyn/opendat...</td>\n",
       "      <td>7</td>\n",
       "      <td>29 juin 2017.</td>\n",
       "      <td>L’article 1er du projet de loi ratifie l’ordon...</td>\n",
       "      <td>NaN</td>\n",
       "    </tr>\n",
       "    <tr>\n",
       "      <th>4</th>\n",
       "      <td>https://www.assemblee-nationale.fr/dyn/opendat...</td>\n",
       "      <td>8</td>\n",
       "      <td>29 juin 2017.</td>\n",
       "      <td>L’article unique du projet de loi procède à la...</td>\n",
       "      <td>NaN</td>\n",
       "    </tr>\n",
       "    <tr>\n",
       "      <th>...</th>\n",
       "      <td>...</td>\n",
       "      <td>...</td>\n",
       "      <td>...</td>\n",
       "      <td>...</td>\n",
       "      <td>...</td>\n",
       "    </tr>\n",
       "    <tr>\n",
       "      <th>441</th>\n",
       "      <td>https://www.assemblee-nationale.fr/dyn/opendat...</td>\n",
       "      <td>5063</td>\n",
       "      <td>22 février 2022.</td>\n",
       "      <td>L’ordonnance n° 2021‑1605 du 8 décembre 2021 é...</td>\n",
       "      <td>NaN</td>\n",
       "    </tr>\n",
       "    <tr>\n",
       "      <th>442</th>\n",
       "      <td>https://www.assemblee-nationale.fr/dyn/opendat...</td>\n",
       "      <td>NaN</td>\n",
       "      <td>23 février 2022.</td>\n",
       "      <td>L’article 55 de la loi n° 2019‑828 du 6 août 2...</td>\n",
       "      <td>NaN</td>\n",
       "    </tr>\n",
       "    <tr>\n",
       "      <th>443</th>\n",
       "      <td>https://www.assemblee-nationale.fr/dyn/opendat...</td>\n",
       "      <td>NaN</td>\n",
       "      <td>7 mars 2022.</td>\n",
       "      <td>']</td>\n",
       "      <td>NaN</td>\n",
       "    </tr>\n",
       "    <tr>\n",
       "      <th>444</th>\n",
       "      <td>https://www.assemblee-nationale.fr/dyn/opendat...</td>\n",
       "      <td>NaN</td>\n",
       "      <td>9 mars 2022.</td>\n",
       "      <td>L’article 108 de la loi n° 2020‑1576 du 14 déc...</td>\n",
       "      <td>NaN</td>\n",
       "    </tr>\n",
       "    <tr>\n",
       "      <th>445</th>\n",
       "      <td>https://www.assemblee-nationale.fr/dyn/opendat...</td>\n",
       "      <td>NaN</td>\n",
       "      <td>16 mars 2022.</td>\n",
       "      <td>L’action du ministère de l’intérieur est au cœ...</td>\n",
       "      <td>NaN</td>\n",
       "    </tr>\n",
       "  </tbody>\n",
       "</table>\n",
       "<p>446 rows × 5 columns</p>\n",
       "</div>"
      ],
      "text/plain": [
       "                                                   url information  \\\n",
       "0    https://www.assemblee-nationale.fr/dyn/opendat...           3   \n",
       "1    https://www.assemblee-nationale.fr/dyn/opendat...           4   \n",
       "2    https://www.assemblee-nationale.fr/dyn/opendat...           6   \n",
       "3    https://www.assemblee-nationale.fr/dyn/opendat...           7   \n",
       "4    https://www.assemblee-nationale.fr/dyn/opendat...           8   \n",
       "..                                                 ...         ...   \n",
       "441  https://www.assemblee-nationale.fr/dyn/opendat...        5063   \n",
       "442  https://www.assemblee-nationale.fr/dyn/opendat...         NaN   \n",
       "443  https://www.assemblee-nationale.fr/dyn/opendat...         NaN   \n",
       "444  https://www.assemblee-nationale.fr/dyn/opendat...         NaN   \n",
       "445  https://www.assemblee-nationale.fr/dyn/opendat...         NaN   \n",
       "\n",
       "                 date                                             motifs  \\\n",
       "0       29 juin 2017.  L’article 114 de la loi n° 2016‑1691 du 9 déce...   \n",
       "1       29 juin 2017.  Conformément à la volonté du Président de la R...   \n",
       "2       29 juin 2017.                                                 ']   \n",
       "3       29 juin 2017.  L’article 1er du projet de loi ratifie l’ordon...   \n",
       "4       29 juin 2017.  L’article unique du projet de loi procède à la...   \n",
       "..                ...                                                ...   \n",
       "441  22 février 2022.  L’ordonnance n° 2021‑1605 du 8 décembre 2021 é...   \n",
       "442  23 février 2022.  L’article 55 de la loi n° 2019‑828 du 6 août 2...   \n",
       "443      7 mars 2022.                                                 ']   \n",
       "444      9 mars 2022.  L’article 108 de la loi n° 2020‑1576 du 14 déc...   \n",
       "445     16 mars 2022.  L’action du ministère de l’intérieur est au cœ...   \n",
       "\n",
       "     projet_lois  \n",
       "0            NaN  \n",
       "1            NaN  \n",
       "2            NaN  \n",
       "3            NaN  \n",
       "4            NaN  \n",
       "..           ...  \n",
       "441          NaN  \n",
       "442          NaN  \n",
       "443          NaN  \n",
       "444          NaN  \n",
       "445          NaN  \n",
       "\n",
       "[446 rows x 5 columns]"
      ]
     },
     "execution_count": 60,
     "metadata": {},
     "output_type": "execute_result"
    }
   ],
   "source": [
    "data"
   ]
  },
  {
   "cell_type": "code",
   "execution_count": 57,
   "metadata": {},
   "outputs": [
    {
     "data": {
      "text/plain": [
       "135"
      ]
     },
     "execution_count": 57,
     "metadata": {},
     "output_type": "execute_result"
    }
   ],
   "source": [
    "data['Column4'].isnull().sum()"
   ]
  },
  {
   "cell_type": "code",
   "execution_count": 43,
   "metadata": {},
   "outputs": [],
   "source": [
    "data['date'] = data['date'].replace(regex=r'\\.', value='')\n",
    "\n",
    "import dateparser"
   ]
  },
  {
   "cell_type": "code",
   "execution_count": 49,
   "metadata": {},
   "outputs": [],
   "source": [
    "# Définir une fonction de conversion de date\n",
    "def convert_date(date_string):\n",
    "    date_object = dateparser.parse(date_string)\n",
    "    new_date_string = date_object.strftime('%d/%m/%Y')\n",
    "    return new_date_string\n",
    "\n",
    "# Appliquer la fonction de conversion de date à la colonne \"date\"\n",
    "data['date'] = data['date'].apply(convert_date)"
   ]
  },
  {
   "cell_type": "code",
   "execution_count": 21,
   "metadata": {},
   "outputs": [
    {
     "name": "stderr",
     "output_type": "stream",
     "text": [
      "/var/folders/vh/yn_93j315gn6jdvz7f2d73_m0000gn/T/ipykernel_89875/271916094.py:1: UserWarning:\n",
      "\n",
      "Parsing dates in DD/MM/YYYY format when dayfirst=False (the default) was specified. This may lead to inconsistently parsed dates! Specify a format to ensure consistent parsing.\n",
      "\n"
     ]
    }
   ],
   "source": [
    "data['date'] = pd.to_datetime(data['date'])\n",
    "textes_par_mois = data.groupby(pd.Grouper(key='date', freq='M'))['motifs'].count()\n",
    "\n"
   ]
  },
  {
   "cell_type": "code",
   "execution_count": 23,
   "metadata": {},
   "outputs": [],
   "source": [
    "graph = px.bar(textes_par_mois, x=textes_par_mois.index.strftime('%Y-%m'), y='motifs', labels={'x': 'Mois', 'y': 'Nombre de textes'})\n"
   ]
  },
  {
   "cell_type": "code",
   "execution_count": 24,
   "metadata": {},
   "outputs": [
    {
     "data": {
      "application/vnd.plotly.v1+json": {
       "config": {
        "plotlyServerURL": "https://plot.ly"
       },
       "data": [
        {
         "alignmentgroup": "True",
         "hovertemplate": "Mois=%{x}<br>motifs=%{y}<extra></extra>",
         "legendgroup": "",
         "marker": {
          "color": "#636efa",
          "pattern": {
           "shape": ""
          }
         },
         "name": "",
         "offsetgroup": "",
         "orientation": "v",
         "showlegend": false,
         "textposition": "auto",
         "type": "bar",
         "x": [
          "2017-01",
          "2017-02",
          "2017-03",
          "2017-04",
          "2017-05",
          "2017-06",
          "2017-07",
          "2017-08",
          "2017-09",
          "2017-10",
          "2017-11",
          "2017-12",
          "2018-01",
          "2018-02",
          "2018-03",
          "2018-04",
          "2018-05",
          "2018-06",
          "2018-07",
          "2018-08",
          "2018-09",
          "2018-10",
          "2018-11",
          "2018-12",
          "2019-01",
          "2019-02",
          "2019-03",
          "2019-04",
          "2019-05",
          "2019-06",
          "2019-07",
          "2019-08",
          "2019-09",
          "2019-10",
          "2019-11",
          "2019-12",
          "2020-01",
          "2020-02",
          "2020-03",
          "2020-04",
          "2020-05",
          "2020-06",
          "2020-07",
          "2020-08",
          "2020-09",
          "2020-10",
          "2020-11",
          "2020-12",
          "2021-01",
          "2021-02",
          "2021-03",
          "2021-04",
          "2021-05",
          "2021-06",
          "2021-07",
          "2021-08",
          "2021-09",
          "2021-10",
          "2021-11",
          "2021-12",
          "2022-01",
          "2022-02",
          "2022-03",
          "2022-04",
          "2022-05",
          "2022-06",
          "2022-07",
          "2022-08",
          "2022-09",
          "2022-10",
          "2022-11",
          "2022-12"
         ],
         "xaxis": "x",
         "y": [
          1,
          0,
          0,
          3,
          0,
          12,
          9,
          2,
          12,
          16,
          8,
          14,
          9,
          5,
          10,
          7,
          5,
          7,
          6,
          8,
          4,
          6,
          8,
          8,
          3,
          11,
          10,
          3,
          11,
          9,
          6,
          4,
          8,
          6,
          7,
          6,
          6,
          5,
          7,
          4,
          18,
          7,
          11,
          0,
          6,
          11,
          7,
          7,
          15,
          6,
          9,
          8,
          8,
          9,
          20,
          5,
          4,
          9,
          5,
          3,
          2,
          4,
          1,
          0,
          1,
          0,
          1,
          0,
          2,
          0,
          0,
          1
         ],
         "yaxis": "y"
        }
       ],
       "layout": {
        "barmode": "relative",
        "legend": {
         "tracegroupgap": 0
        },
        "margin": {
         "t": 60
        },
        "template": {
         "data": {
          "bar": [
           {
            "error_x": {
             "color": "#2a3f5f"
            },
            "error_y": {
             "color": "#2a3f5f"
            },
            "marker": {
             "line": {
              "color": "#E5ECF6",
              "width": 0.5
             },
             "pattern": {
              "fillmode": "overlay",
              "size": 10,
              "solidity": 0.2
             }
            },
            "type": "bar"
           }
          ],
          "barpolar": [
           {
            "marker": {
             "line": {
              "color": "#E5ECF6",
              "width": 0.5
             },
             "pattern": {
              "fillmode": "overlay",
              "size": 10,
              "solidity": 0.2
             }
            },
            "type": "barpolar"
           }
          ],
          "carpet": [
           {
            "aaxis": {
             "endlinecolor": "#2a3f5f",
             "gridcolor": "white",
             "linecolor": "white",
             "minorgridcolor": "white",
             "startlinecolor": "#2a3f5f"
            },
            "baxis": {
             "endlinecolor": "#2a3f5f",
             "gridcolor": "white",
             "linecolor": "white",
             "minorgridcolor": "white",
             "startlinecolor": "#2a3f5f"
            },
            "type": "carpet"
           }
          ],
          "choropleth": [
           {
            "colorbar": {
             "outlinewidth": 0,
             "ticks": ""
            },
            "type": "choropleth"
           }
          ],
          "contour": [
           {
            "colorbar": {
             "outlinewidth": 0,
             "ticks": ""
            },
            "colorscale": [
             [
              0,
              "#0d0887"
             ],
             [
              0.1111111111111111,
              "#46039f"
             ],
             [
              0.2222222222222222,
              "#7201a8"
             ],
             [
              0.3333333333333333,
              "#9c179e"
             ],
             [
              0.4444444444444444,
              "#bd3786"
             ],
             [
              0.5555555555555556,
              "#d8576b"
             ],
             [
              0.6666666666666666,
              "#ed7953"
             ],
             [
              0.7777777777777778,
              "#fb9f3a"
             ],
             [
              0.8888888888888888,
              "#fdca26"
             ],
             [
              1,
              "#f0f921"
             ]
            ],
            "type": "contour"
           }
          ],
          "contourcarpet": [
           {
            "colorbar": {
             "outlinewidth": 0,
             "ticks": ""
            },
            "type": "contourcarpet"
           }
          ],
          "heatmap": [
           {
            "colorbar": {
             "outlinewidth": 0,
             "ticks": ""
            },
            "colorscale": [
             [
              0,
              "#0d0887"
             ],
             [
              0.1111111111111111,
              "#46039f"
             ],
             [
              0.2222222222222222,
              "#7201a8"
             ],
             [
              0.3333333333333333,
              "#9c179e"
             ],
             [
              0.4444444444444444,
              "#bd3786"
             ],
             [
              0.5555555555555556,
              "#d8576b"
             ],
             [
              0.6666666666666666,
              "#ed7953"
             ],
             [
              0.7777777777777778,
              "#fb9f3a"
             ],
             [
              0.8888888888888888,
              "#fdca26"
             ],
             [
              1,
              "#f0f921"
             ]
            ],
            "type": "heatmap"
           }
          ],
          "heatmapgl": [
           {
            "colorbar": {
             "outlinewidth": 0,
             "ticks": ""
            },
            "colorscale": [
             [
              0,
              "#0d0887"
             ],
             [
              0.1111111111111111,
              "#46039f"
             ],
             [
              0.2222222222222222,
              "#7201a8"
             ],
             [
              0.3333333333333333,
              "#9c179e"
             ],
             [
              0.4444444444444444,
              "#bd3786"
             ],
             [
              0.5555555555555556,
              "#d8576b"
             ],
             [
              0.6666666666666666,
              "#ed7953"
             ],
             [
              0.7777777777777778,
              "#fb9f3a"
             ],
             [
              0.8888888888888888,
              "#fdca26"
             ],
             [
              1,
              "#f0f921"
             ]
            ],
            "type": "heatmapgl"
           }
          ],
          "histogram": [
           {
            "marker": {
             "pattern": {
              "fillmode": "overlay",
              "size": 10,
              "solidity": 0.2
             }
            },
            "type": "histogram"
           }
          ],
          "histogram2d": [
           {
            "colorbar": {
             "outlinewidth": 0,
             "ticks": ""
            },
            "colorscale": [
             [
              0,
              "#0d0887"
             ],
             [
              0.1111111111111111,
              "#46039f"
             ],
             [
              0.2222222222222222,
              "#7201a8"
             ],
             [
              0.3333333333333333,
              "#9c179e"
             ],
             [
              0.4444444444444444,
              "#bd3786"
             ],
             [
              0.5555555555555556,
              "#d8576b"
             ],
             [
              0.6666666666666666,
              "#ed7953"
             ],
             [
              0.7777777777777778,
              "#fb9f3a"
             ],
             [
              0.8888888888888888,
              "#fdca26"
             ],
             [
              1,
              "#f0f921"
             ]
            ],
            "type": "histogram2d"
           }
          ],
          "histogram2dcontour": [
           {
            "colorbar": {
             "outlinewidth": 0,
             "ticks": ""
            },
            "colorscale": [
             [
              0,
              "#0d0887"
             ],
             [
              0.1111111111111111,
              "#46039f"
             ],
             [
              0.2222222222222222,
              "#7201a8"
             ],
             [
              0.3333333333333333,
              "#9c179e"
             ],
             [
              0.4444444444444444,
              "#bd3786"
             ],
             [
              0.5555555555555556,
              "#d8576b"
             ],
             [
              0.6666666666666666,
              "#ed7953"
             ],
             [
              0.7777777777777778,
              "#fb9f3a"
             ],
             [
              0.8888888888888888,
              "#fdca26"
             ],
             [
              1,
              "#f0f921"
             ]
            ],
            "type": "histogram2dcontour"
           }
          ],
          "mesh3d": [
           {
            "colorbar": {
             "outlinewidth": 0,
             "ticks": ""
            },
            "type": "mesh3d"
           }
          ],
          "parcoords": [
           {
            "line": {
             "colorbar": {
              "outlinewidth": 0,
              "ticks": ""
             }
            },
            "type": "parcoords"
           }
          ],
          "pie": [
           {
            "automargin": true,
            "type": "pie"
           }
          ],
          "scatter": [
           {
            "fillpattern": {
             "fillmode": "overlay",
             "size": 10,
             "solidity": 0.2
            },
            "type": "scatter"
           }
          ],
          "scatter3d": [
           {
            "line": {
             "colorbar": {
              "outlinewidth": 0,
              "ticks": ""
             }
            },
            "marker": {
             "colorbar": {
              "outlinewidth": 0,
              "ticks": ""
             }
            },
            "type": "scatter3d"
           }
          ],
          "scattercarpet": [
           {
            "marker": {
             "colorbar": {
              "outlinewidth": 0,
              "ticks": ""
             }
            },
            "type": "scattercarpet"
           }
          ],
          "scattergeo": [
           {
            "marker": {
             "colorbar": {
              "outlinewidth": 0,
              "ticks": ""
             }
            },
            "type": "scattergeo"
           }
          ],
          "scattergl": [
           {
            "marker": {
             "colorbar": {
              "outlinewidth": 0,
              "ticks": ""
             }
            },
            "type": "scattergl"
           }
          ],
          "scattermapbox": [
           {
            "marker": {
             "colorbar": {
              "outlinewidth": 0,
              "ticks": ""
             }
            },
            "type": "scattermapbox"
           }
          ],
          "scatterpolar": [
           {
            "marker": {
             "colorbar": {
              "outlinewidth": 0,
              "ticks": ""
             }
            },
            "type": "scatterpolar"
           }
          ],
          "scatterpolargl": [
           {
            "marker": {
             "colorbar": {
              "outlinewidth": 0,
              "ticks": ""
             }
            },
            "type": "scatterpolargl"
           }
          ],
          "scatterternary": [
           {
            "marker": {
             "colorbar": {
              "outlinewidth": 0,
              "ticks": ""
             }
            },
            "type": "scatterternary"
           }
          ],
          "surface": [
           {
            "colorbar": {
             "outlinewidth": 0,
             "ticks": ""
            },
            "colorscale": [
             [
              0,
              "#0d0887"
             ],
             [
              0.1111111111111111,
              "#46039f"
             ],
             [
              0.2222222222222222,
              "#7201a8"
             ],
             [
              0.3333333333333333,
              "#9c179e"
             ],
             [
              0.4444444444444444,
              "#bd3786"
             ],
             [
              0.5555555555555556,
              "#d8576b"
             ],
             [
              0.6666666666666666,
              "#ed7953"
             ],
             [
              0.7777777777777778,
              "#fb9f3a"
             ],
             [
              0.8888888888888888,
              "#fdca26"
             ],
             [
              1,
              "#f0f921"
             ]
            ],
            "type": "surface"
           }
          ],
          "table": [
           {
            "cells": {
             "fill": {
              "color": "#EBF0F8"
             },
             "line": {
              "color": "white"
             }
            },
            "header": {
             "fill": {
              "color": "#C8D4E3"
             },
             "line": {
              "color": "white"
             }
            },
            "type": "table"
           }
          ]
         },
         "layout": {
          "annotationdefaults": {
           "arrowcolor": "#2a3f5f",
           "arrowhead": 0,
           "arrowwidth": 1
          },
          "autotypenumbers": "strict",
          "coloraxis": {
           "colorbar": {
            "outlinewidth": 0,
            "ticks": ""
           }
          },
          "colorscale": {
           "diverging": [
            [
             0,
             "#8e0152"
            ],
            [
             0.1,
             "#c51b7d"
            ],
            [
             0.2,
             "#de77ae"
            ],
            [
             0.3,
             "#f1b6da"
            ],
            [
             0.4,
             "#fde0ef"
            ],
            [
             0.5,
             "#f7f7f7"
            ],
            [
             0.6,
             "#e6f5d0"
            ],
            [
             0.7,
             "#b8e186"
            ],
            [
             0.8,
             "#7fbc41"
            ],
            [
             0.9,
             "#4d9221"
            ],
            [
             1,
             "#276419"
            ]
           ],
           "sequential": [
            [
             0,
             "#0d0887"
            ],
            [
             0.1111111111111111,
             "#46039f"
            ],
            [
             0.2222222222222222,
             "#7201a8"
            ],
            [
             0.3333333333333333,
             "#9c179e"
            ],
            [
             0.4444444444444444,
             "#bd3786"
            ],
            [
             0.5555555555555556,
             "#d8576b"
            ],
            [
             0.6666666666666666,
             "#ed7953"
            ],
            [
             0.7777777777777778,
             "#fb9f3a"
            ],
            [
             0.8888888888888888,
             "#fdca26"
            ],
            [
             1,
             "#f0f921"
            ]
           ],
           "sequentialminus": [
            [
             0,
             "#0d0887"
            ],
            [
             0.1111111111111111,
             "#46039f"
            ],
            [
             0.2222222222222222,
             "#7201a8"
            ],
            [
             0.3333333333333333,
             "#9c179e"
            ],
            [
             0.4444444444444444,
             "#bd3786"
            ],
            [
             0.5555555555555556,
             "#d8576b"
            ],
            [
             0.6666666666666666,
             "#ed7953"
            ],
            [
             0.7777777777777778,
             "#fb9f3a"
            ],
            [
             0.8888888888888888,
             "#fdca26"
            ],
            [
             1,
             "#f0f921"
            ]
           ]
          },
          "colorway": [
           "#636efa",
           "#EF553B",
           "#00cc96",
           "#ab63fa",
           "#FFA15A",
           "#19d3f3",
           "#FF6692",
           "#B6E880",
           "#FF97FF",
           "#FECB52"
          ],
          "font": {
           "color": "#2a3f5f"
          },
          "geo": {
           "bgcolor": "white",
           "lakecolor": "white",
           "landcolor": "#E5ECF6",
           "showlakes": true,
           "showland": true,
           "subunitcolor": "white"
          },
          "hoverlabel": {
           "align": "left"
          },
          "hovermode": "closest",
          "mapbox": {
           "style": "light"
          },
          "paper_bgcolor": "white",
          "plot_bgcolor": "#E5ECF6",
          "polar": {
           "angularaxis": {
            "gridcolor": "white",
            "linecolor": "white",
            "ticks": ""
           },
           "bgcolor": "#E5ECF6",
           "radialaxis": {
            "gridcolor": "white",
            "linecolor": "white",
            "ticks": ""
           }
          },
          "scene": {
           "xaxis": {
            "backgroundcolor": "#E5ECF6",
            "gridcolor": "white",
            "gridwidth": 2,
            "linecolor": "white",
            "showbackground": true,
            "ticks": "",
            "zerolinecolor": "white"
           },
           "yaxis": {
            "backgroundcolor": "#E5ECF6",
            "gridcolor": "white",
            "gridwidth": 2,
            "linecolor": "white",
            "showbackground": true,
            "ticks": "",
            "zerolinecolor": "white"
           },
           "zaxis": {
            "backgroundcolor": "#E5ECF6",
            "gridcolor": "white",
            "gridwidth": 2,
            "linecolor": "white",
            "showbackground": true,
            "ticks": "",
            "zerolinecolor": "white"
           }
          },
          "shapedefaults": {
           "line": {
            "color": "#2a3f5f"
           }
          },
          "ternary": {
           "aaxis": {
            "gridcolor": "white",
            "linecolor": "white",
            "ticks": ""
           },
           "baxis": {
            "gridcolor": "white",
            "linecolor": "white",
            "ticks": ""
           },
           "bgcolor": "#E5ECF6",
           "caxis": {
            "gridcolor": "white",
            "linecolor": "white",
            "ticks": ""
           }
          },
          "title": {
           "x": 0.05
          },
          "xaxis": {
           "automargin": true,
           "gridcolor": "white",
           "linecolor": "white",
           "ticks": "",
           "title": {
            "standoff": 15
           },
           "zerolinecolor": "white",
           "zerolinewidth": 2
          },
          "yaxis": {
           "automargin": true,
           "gridcolor": "white",
           "linecolor": "white",
           "ticks": "",
           "title": {
            "standoff": 15
           },
           "zerolinecolor": "white",
           "zerolinewidth": 2
          }
         }
        },
        "xaxis": {
         "anchor": "y",
         "domain": [
          0,
          1
         ],
         "title": {
          "text": "Mois"
         }
        },
        "yaxis": {
         "anchor": "x",
         "domain": [
          0,
          1
         ],
         "title": {
          "text": "motifs"
         }
        }
       }
      }
     },
     "metadata": {},
     "output_type": "display_data"
    }
   ],
   "source": [
    "graph.show()"
   ]
  },
  {
   "cell_type": "code",
   "execution_count": 18,
   "metadata": {},
   "outputs": [
    {
     "data": {
      "application/vnd.plotly.v1+json": {
       "config": {
        "plotlyServerURL": "https://plot.ly"
       },
       "data": [
        {
         "alignmentgroup": "True",
         "hovertemplate": "date=%{x}<br>url=%{y}<extra></extra>",
         "legendgroup": "",
         "marker": {
          "color": "#636efa",
          "pattern": {
           "shape": ""
          }
         },
         "name": "",
         "offsetgroup": "",
         "orientation": "v",
         "showlegend": false,
         "textposition": "auto",
         "type": "bar",
         "x": [
          "29/06/2017",
          "29/06/2017",
          "29/06/2017",
          "29/06/2017",
          "29/06/2017",
          "29/06/2017",
          "29/06/2017",
          "29/06/2017",
          "29/06/2017",
          "29/06/2017",
          "29/06/2017",
          "04/07/2017",
          "10/07/2017",
          "12/07/2017",
          "13/07/2017",
          "13/07/2017",
          "19/07/2017",
          "20/07/2017",
          "20/07/2017",
          "21/07/2017",
          "21/07/2017",
          "28/07/2017",
          "01/08/2017",
          "04/08/2017",
          "09/08/2017",
          "30/08/2017",
          "06/09/2017",
          "14/09/2017",
          "14/09/2017",
          "14/09/2017",
          "14/09/2017",
          "14/09/2017",
          "19/09/2017",
          "19/09/2017",
          "22/09/2017",
          "27/09/2017",
          "27/09/2017",
          "04/10/2017",
          "11/10/2017",
          "11/10/2017",
          "12/10/2017",
          "12/10/2017",
          "12/10/2017",
          "18/10/2017",
          "18/10/2017",
          "18/10/2017",
          "18/10/2017",
          "24/10/2017",
          "24/10/2017",
          "24/10/2017",
          "24/10/2017",
          "24/10/2017",
          "25/10/2017",
          "07/11/2017",
          "09/11/2017",
          "10/11/2017",
          "10/11/2017",
          "10/11/2017",
          "10/11/2017",
          "10/11/2017",
          "14/11/2017",
          "15/11/2017",
          "21/11/2017",
          "22/11/2017",
          "22/11/2017",
          "27/11/2017",
          "08/12/2017",
          "13/12/2017",
          "13/12/2017",
          "18/12/2017",
          "19/12/2017",
          "20/12/2017",
          "20/12/2017",
          "20/12/2017",
          "20/12/2017",
          "20/12/2017",
          "20/12/2017",
          "03/01/2018",
          "12/01/2018",
          "24/01/2018",
          "25/01/2018",
          "25/01/2018",
          "25/01/2018",
          "31/01/2018",
          "01/02/2018",
          "01/02/2018",
          "08/02/2018",
          "08/02/2018",
          "09/02/2018",
          "12/02/2018",
          "14/02/2018",
          "15/02/2018",
          "21/02/2018",
          "21/02/2018",
          "28/02/2018",
          "07/03/2018",
          "14/03/2018",
          "14/03/2018",
          "21/03/2018",
          "21/03/2018",
          "22/03/2018",
          "22/03/2018",
          "22/03/2018",
          "23/03/2018",
          "04/04/2018",
          "10/04/2018",
          "11/04/2018",
          "12/04/2018",
          "19/04/2018",
          "20/04/2018",
          "20/04/2018",
          "23/04/2018",
          "27/04/2018",
          "09/05/2018",
          "23/05/2018",
          "23/05/2018",
          "30/05/2018",
          "30/05/2018",
          "01/06/2018",
          "01/06/2018",
          "06/06/2018",
          "19/06/2018",
          "27/06/2018",
          "28/06/2018",
          "28/06/2018",
          "03/07/2018",
          "04/07/2018",
          "06/07/2018",
          "06/07/2018",
          "11/07/2018",
          "16/07/2018",
          "18/07/2018",
          "25/07/2018",
          "26/07/2018",
          "26/07/2018",
          "22/08/2018",
          "31/08/2018",
          "12/09/2018",
          "19/09/2018",
          "28/09/2018",
          "10/10/2018",
          "24/10/2018",
          "24/10/2018",
          "24/10/2018",
          "30/10/2018",
          "08/11/2018",
          "08/11/2018",
          "08/11/2018",
          "08/11/2018",
          "14/11/2018",
          "14/11/2018",
          "20/11/2018",
          "21/11/2018",
          "27/11/2018",
          "29/11/2018",
          "05/12/2018",
          "13/12/2018",
          "13/12/2018",
          "18/12/2018",
          "19/12/2018",
          "09/01/2019",
          "09/01/2019",
          "30/01/2019",
          "31/01/2019",
          "31/01/2019",
          "12/02/2019",
          "13/02/2019",
          "13/02/2019",
          "13/02/2019",
          "14/02/2019",
          "20/02/2019",
          "20/02/2019",
          "20/02/2019",
          "27/02/2019",
          "27/02/2019",
          "06/03/2019",
          "06/03/2019",
          "06/03/2019",
          "27/03/2019",
          "29/03/2019",
          "29/03/2019",
          "02/04/2019",
          "03/04/2019",
          "05/04/2019",
          "09/04/2019",
          "12/04/2019",
          "12/04/2019",
          "24/04/2019",
          "24/04/2019",
          "30/04/2019",
          "07/05/2019",
          "22/05/2019",
          "23/05/2019",
          "23/05/2019",
          "23/05/2019",
          "23/05/2019",
          "28/05/2019",
          "29/05/2019",
          "03/06/2019",
          "13/06/2019",
          "19/06/2019",
          "21/06/2019",
          "25/06/2019",
          "28/06/2019",
          "03/07/2019",
          "03/07/2019",
          "03/07/2019",
          "03/07/2019",
          "03/07/2019",
          "10/07/2019",
          "10/07/2019",
          "11/07/2019",
          "17/07/2019",
          "17/07/2019",
          "19/07/2019",
          "24/07/2019",
          "24/07/2019",
          "21/08/2019",
          "29/08/2019",
          "29/08/2019",
          "29/08/2019",
          "11/09/2019",
          "27/09/2019",
          "30/09/2019",
          "02/10/2019",
          "09/10/2019",
          "09/10/2019",
          "09/10/2019",
          "17/10/2019",
          "23/10/2019",
          "30/10/2019",
          "30/10/2019",
          "06/11/2019",
          "13/11/2019",
          "15/11/2019",
          "20/11/2019",
          "27/11/2019",
          "05/12/2019",
          "05/12/2019",
          "05/12/2019",
          "11/12/2019",
          "18/12/2019",
          "19/12/2019",
          "19/12/2019",
          "06/01/2020",
          "06/01/2020",
          "15/01/2020",
          "24/01/2020",
          "24/01/2020",
          "29/01/2020",
          "30/01/2020",
          "30/01/2020",
          "05/02/2020",
          "12/02/2020",
          "19/02/2020",
          "19/02/2020",
          "04/03/2020",
          "05/03/2020",
          "05/03/2020",
          "05/03/2020",
          "06/03/2020",
          "20/03/2020",
          "20/03/2020",
          "22/04/2020",
          "06/05/2020",
          "07/05/2020",
          "13/05/2020",
          "13/05/2020",
          "13/05/2020",
          "13/05/2020",
          "13/05/2020",
          "22/05/2020",
          "27/05/2020",
          "27/05/2020",
          "27/05/2020",
          "27/05/2020",
          "27/05/2020",
          "29/05/2020",
          "03/06/2020",
          "03/06/2020",
          "03/06/2020",
          "03/06/2020",
          "10/06/2020",
          "11/06/2020",
          "17/06/2020",
          "18/06/2020",
          "24/06/2020",
          "02/07/2020",
          "02/07/2020",
          "07/07/2020",
          "09/07/2020",
          "10/07/2020",
          "16/07/2020",
          "22/07/2020",
          "22/07/2020",
          "22/07/2020",
          "23/07/2020",
          "23/07/2020",
          "23/07/2020",
          "23/07/2020",
          "03/09/2020",
          "16/09/2020",
          "07/10/2020",
          "14/10/2020",
          "15/10/2020",
          "15/10/2020",
          "21/10/2020",
          "21/10/2020",
          "28/10/2020",
          "28/10/2020",
          "30/10/2020",
          "30/10/2020",
          "04/11/2020",
          "04/11/2020",
          "05/11/2020",
          "17/11/2020",
          "18/11/2020",
          "18/11/2020",
          "25/11/2020",
          "25/11/2020",
          "27/11/2020",
          "13/05/2020",
          "02/12/2020",
          "09/12/2020",
          "09/12/2020",
          "09/12/2020",
          "09/12/2020",
          "14/12/2020",
          "17/12/2020",
          "17/12/2020",
          "21/12/2020",
          "21/12/2020",
          "21/12/2020",
          "06/01/2021",
          "06/01/2021",
          "13/01/2021",
          "13/01/2021",
          "13/01/2021",
          "13/01/2021",
          "20/01/2021",
          "20/01/2021",
          "27/01/2021",
          "27/01/2021",
          "28/01/2021",
          "28/01/2021",
          "03/02/2021",
          "03/02/2021",
          "04/02/2021",
          "04/02/2021",
          "10/02/2021",
          "17/02/2021",
          "18/02/2021",
          "19/02/2021",
          "24/02/2021",
          "24/02/2021",
          "03/03/2021",
          "03/03/2021",
          "10/03/2021",
          "17/03/2021",
          "24/03/2021",
          "31/03/2021",
          "01/04/2021",
          "08/04/2021",
          "13/04/2021",
          "14/04/2021",
          "14/04/2021",
          "28/04/2021",
          "28/04/2021",
          "28/04/2021",
          "05/05/2021",
          "11/05/2021",
          "19/05/2021",
          "19/05/2021",
          "20/05/2021",
          "21/05/2021",
          "21/05/2021",
          "26/05/2021",
          "02/06/2021",
          "09/06/2021",
          "16/06/2021",
          "16/06/2021",
          "24/06/2021",
          "24/06/2021",
          "30/06/2021",
          "30/06/2021",
          "30/06/2021",
          "07/07/2021",
          "07/07/2021",
          "07/07/2021",
          "07/07/2021",
          "13/07/2021",
          "13/07/2021",
          "13/07/2021",
          "13/07/2021",
          "13/07/2021",
          "20/07/2021",
          "20/07/2021",
          "20/07/2021",
          "21/07/2021",
          "21/07/2021",
          "22/07/2021",
          "25/07/2021",
          "28/07/2021",
          "29/07/2021",
          "25/08/2021",
          "25/08/2021",
          "01/09/2021",
          "01/09/2021",
          "01/09/2021",
          "15/09/2021",
          "30/09/2021",
          "30/09/2021",
          "07/10/2021",
          "07/10/2021",
          "13/10/2021",
          "13/10/2021",
          "13/10/2021",
          "19/10/2021",
          "27/10/2021",
          "29/10/2021",
          "29/10/2021",
          "03/11/2021",
          "03/11/2021",
          "05/11/2021",
          "16/11/2021",
          "16/11/2021",
          "17/11/2021",
          "17/11/2021",
          "01/12/2021",
          "08/12/2021",
          "08/12/2021",
          "16/12/2021",
          "16/12/2021",
          "27/12/2021",
          "05/01/2022",
          "12/12/2022",
          "16/01/2022",
          "26/01/2022",
          "02/02/2022",
          "09/02/2022",
          "15/02/2022",
          "22/02/2022",
          "23/02/2022",
          "07/03/2022",
          "09/03/2022",
          "16/03/2022"
         ],
         "xaxis": "x",
         "y": [
          "https://www.assemblee-nationale.fr/dyn/opendata/PRJLANR5L15B0003.html",
          "https://www.assemblee-nationale.fr/dyn/opendata/PRJLANR5L15B0004.html",
          "https://www.assemblee-nationale.fr/dyn/opendata/PRJLANR5L15B0006.html",
          "https://www.assemblee-nationale.fr/dyn/opendata/PRJLANR5L15B0007.html",
          "https://www.assemblee-nationale.fr/dyn/opendata/PRJLANR5L15B0008.html",
          "https://www.assemblee-nationale.fr/dyn/opendata/PRJLANR5L15B0009.html",
          "https://www.assemblee-nationale.fr/dyn/opendata/PRJLANR5L15B0010.html",
          "https://www.assemblee-nationale.fr/dyn/opendata/PRJLANR5L15B0011.html",
          "https://www.assemblee-nationale.fr/dyn/opendata/PRJLANR5L15B0012.html",
          "https://www.assemblee-nationale.fr/dyn/opendata/PRJLANR5L15B0013.html",
          "https://www.assemblee-nationale.fr/dyn/opendata/PRJLANR5L15B0014.html",
          "https://www.assemblee-nationale.fr/dyn/opendata/PRJLANR5L15B0016.html",
          "https://www.assemblee-nationale.fr/dyn/opendata/PRJLANR5L15B0090.html",
          "https://www.assemblee-nationale.fr/dyn/opendata/PRJLANR5L15B0095.html",
          "https://www.assemblee-nationale.fr/dyn/opendata/PRJLANR5L15B0098.html",
          "https://www.assemblee-nationale.fr/dyn/opendata/PRJLANR5L15B0099.html",
          "https://www.assemblee-nationale.fr/dyn/opendata/PRJLANR5L15B0104.html",
          "https://www.assemblee-nationale.fr/dyn/opendata/PRJLANR5L15B0111.html",
          "https://www.assemblee-nationale.fr/dyn/opendata/PRJLANR5L15B0112.html",
          "https://www.assemblee-nationale.fr/dyn/opendata/PRJLANR5L15B0113.html",
          "https://www.assemblee-nationale.fr/dyn/opendata/PRJLANR5L15B0114.html",
          "https://www.assemblee-nationale.fr/dyn/opendata/PRJLANR5L15B0118.html",
          "https://www.assemblee-nationale.fr/dyn/opendata/PRJLANR5L15B0122.html",
          "https://www.assemblee-nationale.fr/dyn/opendata/PRJLANR5L15B0126.html",
          "https://www.assemblee-nationale.fr/dyn/opendata/PRJLANR5L15B0146.html",
          "https://www.assemblee-nationale.fr/dyn/opendata/PRJLANR5L15B0152.html",
          "https://www.assemblee-nationale.fr/dyn/opendata/PRJLANR5L15B0155.html",
          "https://www.assemblee-nationale.fr/dyn/opendata/PRJLANR5L15B0159.html",
          "https://www.assemblee-nationale.fr/dyn/opendata/PRJLANR5L15B0160.html",
          "https://www.assemblee-nationale.fr/dyn/opendata/PRJLANR5L15B0162.html",
          "https://www.assemblee-nationale.fr/dyn/opendata/PRJLANR5L15B0163.html",
          "https://www.assemblee-nationale.fr/dyn/opendata/PRJLANR5L15B0165.html",
          "https://www.assemblee-nationale.fr/dyn/opendata/PRJLANR5L15B0167.html",
          "https://www.assemblee-nationale.fr/dyn/opendata/PRJLANR5L15B0168.html",
          "https://www.assemblee-nationale.fr/dyn/opendata/PRJLANR5L15B0171.html",
          "https://www.assemblee-nationale.fr/dyn/opendata/PRJLANR5L15B0234.html",
          "https://www.assemblee-nationale.fr/dyn/opendata/PRJLANR5L15B0237.html",
          "https://www.assemblee-nationale.fr/dyn/opendata/PRJLANR5L15B0260.html",
          "https://www.assemblee-nationale.fr/dyn/opendata/PRJLANR5L15B0269.html",
          "https://www.assemblee-nationale.fr/dyn/opendata/PRJLANR5L15B0270.html",
          "https://www.assemblee-nationale.fr/dyn/opendata/PRJLANR5L15B0272.html",
          "https://www.assemblee-nationale.fr/dyn/opendata/PRJLANR5L15B0280.html",
          "https://www.assemblee-nationale.fr/dyn/opendata/PRJLANR5L15B0281.html",
          "https://www.assemblee-nationale.fr/dyn/opendata/PRJLANR5L15B0311.html",
          "https://www.assemblee-nationale.fr/dyn/opendata/PRJLANR5L15B0312.html",
          "https://www.assemblee-nationale.fr/dyn/opendata/PRJLANR5L15B0314.html",
          "https://www.assemblee-nationale.fr/dyn/opendata/PRJLANR5L15B0315.html",
          "https://www.assemblee-nationale.fr/dyn/opendata/PRJLANR5L15B0319.html",
          "https://www.assemblee-nationale.fr/dyn/opendata/PRJLANR5L15B0320.html",
          "https://www.assemblee-nationale.fr/dyn/opendata/PRJLANR5L15B0321.html",
          "https://www.assemblee-nationale.fr/dyn/opendata/PRJLANR5L15B0322.html",
          "https://www.assemblee-nationale.fr/dyn/opendata/PRJLANR5L15B0323.html",
          "https://www.assemblee-nationale.fr/dyn/opendata/PRJLANR5L15B0336.html",
          "https://www.assemblee-nationale.fr/dyn/opendata/PRJLANR5L15B0368.html",
          "https://www.assemblee-nationale.fr/dyn/opendata/PRJLANR5L15B0370.html",
          "https://www.assemblee-nationale.fr/dyn/opendata/PRJLANR5L15B0371.html",
          "https://www.assemblee-nationale.fr/dyn/opendata/PRJLANR5L15B0373.html",
          "https://www.assemblee-nationale.fr/dyn/opendata/PRJLANR5L15B0374.html",
          "https://www.assemblee-nationale.fr/dyn/opendata/PRJLANR5L15B0375.html",
          "https://www.assemblee-nationale.fr/dyn/opendata/PRJLANR5L15B0378.html",
          "https://www.assemblee-nationale.fr/dyn/opendata/PRJLANR5L15B0379.html",
          "https://www.assemblee-nationale.fr/dyn/opendata/PRJLANR5L15B0383.html",
          "https://www.assemblee-nationale.fr/dyn/opendata/PRJLANR5L15B0387.html",
          "https://www.assemblee-nationale.fr/dyn/opendata/PRJLANR5L15B0390.html",
          "https://www.assemblee-nationale.fr/dyn/opendata/PRJLANR5L15B0391.html",
          "https://www.assemblee-nationale.fr/dyn/opendata/PRJLANR5L15B0424.html",
          "https://www.assemblee-nationale.fr/dyn/opendata/PRJLANR5L15B0483.html",
          "https://www.assemblee-nationale.fr/dyn/opendata/PRJLANR5L15B0490.html",
          "https://www.assemblee-nationale.fr/dyn/opendata/PRJLANR5L15B0491.html",
          "https://www.assemblee-nationale.fr/dyn/opendata/PRJLANR5L15B0502.html",
          "https://www.assemblee-nationale.fr/dyn/opendata/PRJLANR5L15B0507.html",
          "https://www.assemblee-nationale.fr/dyn/opendata/PRJLANR5L15B0509.html",
          "https://www.assemblee-nationale.fr/dyn/opendata/PRJLANR5L15B0510.html",
          "https://www.assemblee-nationale.fr/dyn/opendata/PRJLANR5L15B0528.html",
          "https://www.assemblee-nationale.fr/dyn/opendata/PRJLANR5L15B0529.html",
          "https://www.assemblee-nationale.fr/dyn/opendata/PRJLANR5L15B0530.html",
          "https://www.assemblee-nationale.fr/dyn/opendata/PRJLANR5L15B0531.html",
          "https://www.assemblee-nationale.fr/dyn/opendata/PRJLANR5L15B0539.html",
          "https://www.assemblee-nationale.fr/dyn/opendata/PRJLANR5L15B0549.html",
          "https://www.assemblee-nationale.fr/dyn/opendata/PRJLANR5L15B0583.html",
          "https://www.assemblee-nationale.fr/dyn/opendata/PRJLANR5L15B0599.html",
          "https://www.assemblee-nationale.fr/dyn/opendata/PRJLANR5L15B0600.html",
          "https://www.assemblee-nationale.fr/dyn/opendata/PRJLANR5L15B0602.html",
          "https://www.assemblee-nationale.fr/dyn/opendata/PRJLANR5L15B0615.html",
          "https://www.assemblee-nationale.fr/dyn/opendata/PRJLANR5L15B0627.html",
          "https://www.assemblee-nationale.fr/dyn/opendata/PRJLANR5L15B0629.html",
          "https://www.assemblee-nationale.fr/dyn/opendata/PRJLANR5L15B0655.html",
          "https://www.assemblee-nationale.fr/dyn/opendata/PRJLANR5L15B0659.html",
          "https://www.assemblee-nationale.fr/dyn/opendata/PRJLANR5L15B0660.html",
          "https://www.assemblee-nationale.fr/dyn/opendata/PRJLANR5L15B0662.html",
          "https://www.assemblee-nationale.fr/dyn/opendata/PRJLANR5L15B0668.html",
          "https://www.assemblee-nationale.fr/dyn/opendata/PRJLANR5L15B0670.html",
          "https://www.assemblee-nationale.fr/dyn/opendata/PRJLANR5L15B0679.html",
          "https://www.assemblee-nationale.fr/dyn/opendata/PRJLANR5L15B0714.html",
          "https://www.assemblee-nationale.fr/dyn/opendata/PRJLANR5L15B0727.html",
          "https://www.assemblee-nationale.fr/dyn/opendata/PRJLANR5L15B0734.html",
          "https://www.assemblee-nationale.fr/dyn/opendata/PRJLANR5L15B0763.html",
          "https://www.assemblee-nationale.fr/dyn/opendata/PRJLANR5L15B0764.html",
          "https://www.assemblee-nationale.fr/dyn/opendata/PRJLANR5L15B0778.html",
          "https://www.assemblee-nationale.fr/dyn/opendata/PRJLANR5L15B0806.html",
          "https://www.assemblee-nationale.fr/dyn/opendata/PRJLANR5L15B0809.html",
          "https://www.assemblee-nationale.fr/dyn/opendata/PRJLANR5L15B0810.html",
          "https://www.assemblee-nationale.fr/dyn/opendata/PRJLANR5L15B0811.html",
          "https://www.assemblee-nationale.fr/dyn/opendata/PRJLANR5L15B0812.html",
          "https://www.assemblee-nationale.fr/dyn/opendata/PRJLANR5L15B0846.html",
          "https://www.assemblee-nationale.fr/dyn/opendata/PRJLANR5L15B0859.html",
          "https://www.assemblee-nationale.fr/dyn/opendata/PRJLANR5L15B0873.html",
          "https://www.assemblee-nationale.fr/dyn/opendata/PRJLANR5L15B0874.html",
          "https://www.assemblee-nationale.fr/dyn/opendata/PRJLANR5L15B0899.html",
          "https://www.assemblee-nationale.fr/dyn/opendata/PRJLANR5L15B0900.html",
          "https://www.assemblee-nationale.fr/dyn/opendata/PRJLANR5L15B0901.html",
          "https://www.assemblee-nationale.fr/dyn/opendata/PRJLANR5L15B0903.html",
          "https://www.assemblee-nationale.fr/dyn/opendata/PRJLANR5L15B0904.html",
          "https://www.assemblee-nationale.fr/dyn/opendata/PRJLANR5L15B0911.html",
          "https://www.assemblee-nationale.fr/dyn/opendata/PRJLANR5L15B0976.html",
          "https://www.assemblee-nationale.fr/dyn/opendata/PRJLANR5L15B0977.html",
          "https://www.assemblee-nationale.fr/dyn/opendata/PRJLANR5L15B0997.html",
          "https://www.assemblee-nationale.fr/dyn/opendata/PRJLANR5L15B1013.html",
          "https://www.assemblee-nationale.fr/dyn/opendata/PRJLANR5L15B1020.html",
          "https://www.assemblee-nationale.fr/dyn/opendata/PRJLANR5L15B1021.html",
          "https://www.assemblee-nationale.fr/dyn/opendata/PRJLANR5L15B1023.html",
          "https://www.assemblee-nationale.fr/dyn/opendata/PRJLANR5L15B1088.html",
          "https://www.assemblee-nationale.fr/dyn/opendata/PRJLANR5L15B1106.html",
          "https://www.assemblee-nationale.fr/dyn/opendata/PRJLANR5L15B1124.html",
          "https://www.assemblee-nationale.fr/dyn/opendata/PRJLANR5L15B1127.html",
          "https://www.assemblee-nationale.fr/dyn/opendata/PRJLANR5L15B1135.html",
          "https://www.assemblee-nationale.fr/dyn/opendata/PRJLANR5L15B1142.html",
          "https://www.assemblee-nationale.fr/dyn/opendata/PRJLANR5L15B1145.html",
          "https://www.assemblee-nationale.fr/dyn/opendata/PRJLANR5L15B1146.html",
          "https://www.assemblee-nationale.fr/dyn/opendata/PRJLANR5L15B1154.html",
          "https://www.assemblee-nationale.fr/dyn/opendata/PRJLANR5L15B1168.html",
          "https://www.assemblee-nationale.fr/dyn/opendata/PRJLANR5L15B1174.html",
          "https://www.assemblee-nationale.fr/dyn/opendata/PRJLANR5L15B1190.html",
          "https://www.assemblee-nationale.fr/dyn/opendata/PRJLANR5L15B1216.html",
          "https://www.assemblee-nationale.fr/dyn/opendata/PRJLANR5L15B1217.html",
          "https://www.assemblee-nationale.fr/dyn/opendata/PRJLANR5L15B1226.html",
          "https://www.assemblee-nationale.fr/dyn/opendata/PRJLANR5L15B1233.html",
          "https://www.assemblee-nationale.fr/dyn/opendata/PRJLANR5L15B1235.html",
          "https://www.assemblee-nationale.fr/dyn/opendata/PRJLANR5L15B1240.html",
          "https://www.assemblee-nationale.fr/dyn/opendata/PRJLANR5L15B1264.html",
          "https://www.assemblee-nationale.fr/dyn/opendata/PRJLANR5L15B1297.html",
          "https://www.assemblee-nationale.fr/dyn/opendata/PRJLANR5L15B1342.html",
          "https://www.assemblee-nationale.fr/dyn/opendata/PRJLANR5L15B1349.html",
          "https://www.assemblee-nationale.fr/dyn/opendata/PRJLANR5L15B1350.html",
          "https://www.assemblee-nationale.fr/dyn/opendata/PRJLANR5L15B1355.html",
          "https://www.assemblee-nationale.fr/dyn/opendata/PRJLANR5L15B1388.html",
          "https://www.assemblee-nationale.fr/dyn/opendata/PRJLANR5L15B1389.html",
          "https://www.assemblee-nationale.fr/dyn/opendata/PRJLANR5L15B1390.html",
          "https://www.assemblee-nationale.fr/dyn/opendata/PRJLANR5L15B1391.html",
          "https://www.assemblee-nationale.fr/dyn/opendata/PRJLANR5L15B1401.html",
          "https://www.assemblee-nationale.fr/dyn/opendata/PRJLANR5L15B1402.html",
          "https://www.assemblee-nationale.fr/dyn/opendata/PRJLANR5L15B1408.html",
          "https://www.assemblee-nationale.fr/dyn/opendata/PRJLANR5L15B1419.html",
          "https://www.assemblee-nationale.fr/dyn/opendata/PRJLANR5L15B1445.html",
          "https://www.assemblee-nationale.fr/dyn/opendata/PRJLANR5L15B1456.html",
          "https://www.assemblee-nationale.fr/dyn/opendata/PRJLANR5L15B1481.html",
          "https://www.assemblee-nationale.fr/dyn/opendata/PRJLANR5L15B1502.html",
          "https://www.assemblee-nationale.fr/dyn/opendata/PRJLANR5L15B1503.html",
          "https://www.assemblee-nationale.fr/dyn/opendata/PRJLANR5L15B1507.html",
          "https://www.assemblee-nationale.fr/dyn/opendata/PRJLANR5L15B1516.html",
          "https://www.assemblee-nationale.fr/dyn/opendata/PRJLANR5L15B1566.html",
          "https://www.assemblee-nationale.fr/dyn/opendata/PRJLANR5L15B1567.html",
          "https://www.assemblee-nationale.fr/dyn/opendata/PRJLANR5L15B1627.html",
          "https://www.assemblee-nationale.fr/dyn/opendata/PRJLANR5L15B1630.html",
          "https://www.assemblee-nationale.fr/dyn/opendata/PRJLANR5L15B1631.html",
          "https://www.assemblee-nationale.fr/dyn/opendata/PRJLANR5L15B1673.html",
          "https://www.assemblee-nationale.fr/dyn/opendata/PRJLANR5L15B1681.html",
          "https://www.assemblee-nationale.fr/dyn/opendata/PRJLANR5L15B1684.html",
          "https://www.assemblee-nationale.fr/dyn/opendata/PRJLANR5L15B1685.html",
          "https://www.assemblee-nationale.fr/dyn/opendata/PRJLANR5L15B1689.html",
          "https://www.assemblee-nationale.fr/dyn/opendata/PRJLANR5L15B1695.html",
          "https://www.assemblee-nationale.fr/dyn/opendata/PRJLANR5L15B1696.html",
          "https://www.assemblee-nationale.fr/dyn/opendata/PRJLANR5L15B1704.html",
          "https://www.assemblee-nationale.fr/dyn/opendata/PRJLANR5L15B1730.html",
          "https://www.assemblee-nationale.fr/dyn/opendata/PRJLANR5L15B1731.html",
          "https://www.assemblee-nationale.fr/dyn/opendata/PRJLANR5L15B1735.html",
          "https://www.assemblee-nationale.fr/dyn/opendata/PRJLANR5L15B1737.html",
          "https://www.assemblee-nationale.fr/dyn/opendata/PRJLANR5L15B1738.html",
          "https://www.assemblee-nationale.fr/dyn/opendata/PRJLANR5L15B1802.html",
          "https://www.assemblee-nationale.fr/dyn/opendata/PRJLANR5L15B1825.html",
          "https://www.assemblee-nationale.fr/dyn/opendata/PRJLANR5L15B1826.html",
          "https://www.assemblee-nationale.fr/dyn/opendata/PRJLANR5L15B1829.html",
          "https://www.assemblee-nationale.fr/dyn/opendata/PRJLANR5L15B1831.html",
          "https://www.assemblee-nationale.fr/dyn/opendata/PRJLANR5L15B1844.html",
          "https://www.assemblee-nationale.fr/dyn/opendata/PRJLANR5L15B1846.html",
          "https://www.assemblee-nationale.fr/dyn/opendata/PRJLANR5L15B1875.html",
          "https://www.assemblee-nationale.fr/dyn/opendata/PRJLANR5L15B1876.html",
          "https://www.assemblee-nationale.fr/dyn/opendata/PRJLANR5L15B1880.html",
          "https://www.assemblee-nationale.fr/dyn/opendata/PRJLANR5L15B1881.html",
          "https://www.assemblee-nationale.fr/dyn/opendata/PRJLANR5L15B1908.html",
          "https://www.assemblee-nationale.fr/dyn/opendata/PRJLANR5L15B1927.html",
          "https://www.assemblee-nationale.fr/dyn/opendata/PRJLANR5L15B1956.html",
          "https://www.assemblee-nationale.fr/dyn/opendata/PRJLANR5L15B1975.html",
          "https://www.assemblee-nationale.fr/dyn/opendata/PRJLANR5L15B1976.html",
          "https://www.assemblee-nationale.fr/dyn/opendata/PRJLANR5L15B1977.html",
          "https://www.assemblee-nationale.fr/dyn/opendata/PRJLANR5L15B1978.html",
          "https://www.assemblee-nationale.fr/dyn/opendata/PRJLANR5L15B1980.html",
          "https://www.assemblee-nationale.fr/dyn/opendata/PRJLANR5L15B1982.html",
          "https://www.assemblee-nationale.fr/dyn/opendata/PRJLANR5L15B1985.html",
          "https://www.assemblee-nationale.fr/dyn/opendata/PRJLANR5L15B2034.html",
          "https://www.assemblee-nationale.fr/dyn/opendata/PRJLANR5L15B2043.html",
          "https://www.assemblee-nationale.fr/dyn/opendata/PRJLANR5L15B2065.html",
          "https://www.assemblee-nationale.fr/dyn/opendata/PRJLANR5L15B2070.html",
          "https://www.assemblee-nationale.fr/dyn/opendata/PRJLANR5L15B2083.html",
          "https://www.assemblee-nationale.fr/dyn/opendata/PRJLANR5L15B2106.html",
          "https://www.assemblee-nationale.fr/dyn/opendata/PRJLANR5L15B2107.html",
          "https://www.assemblee-nationale.fr/dyn/opendata/PRJLANR5L15B2108.html",
          "https://www.assemblee-nationale.fr/dyn/opendata/PRJLANR5L15B2109.html",
          "https://www.assemblee-nationale.fr/dyn/opendata/PRJLANR5L15B2113.html",
          "https://www.assemblee-nationale.fr/dyn/opendata/PRJLANR5L15B2129.html",
          "https://www.assemblee-nationale.fr/dyn/opendata/PRJLANR5L15B2130.html",
          "https://www.assemblee-nationale.fr/dyn/opendata/PRJLANR5L15B2133.html",
          "https://www.assemblee-nationale.fr/dyn/opendata/PRJLANR5L15B2172.html",
          "https://www.assemblee-nationale.fr/dyn/opendata/PRJLANR5L15B2173.html",
          "https://www.assemblee-nationale.fr/dyn/opendata/PRJLANR5L15B2180.html",
          "https://www.assemblee-nationale.fr/dyn/opendata/PRJLANR5L15B2187.html",
          "https://www.assemblee-nationale.fr/dyn/opendata/PRJLANR5L15B2189.html",
          "https://www.assemblee-nationale.fr/dyn/opendata/PRJLANR5L15B2199.html",
          "https://www.assemblee-nationale.fr/dyn/opendata/PRJLANR5L15B2203.html",
          "https://www.assemblee-nationale.fr/dyn/opendata/PRJLANR5L15B2204.html",
          "https://www.assemblee-nationale.fr/dyn/opendata/PRJLANR5L15B2205.html",
          "https://www.assemblee-nationale.fr/dyn/opendata/PRJLANR5L15B2242.html",
          "https://www.assemblee-nationale.fr/dyn/opendata/PRJLANR5L15B2273.html",
          "https://www.assemblee-nationale.fr/dyn/opendata/PRJLANR5L15B2274.html",
          "https://www.assemblee-nationale.fr/dyn/opendata/PRJLANR5L15B2284.html",
          "https://www.assemblee-nationale.fr/dyn/opendata/PRJLANR5L15B2294.html",
          "https://www.assemblee-nationale.fr/dyn/opendata/PRJLANR5L15B2295.html",
          "https://www.assemblee-nationale.fr/dyn/opendata/PRJLANR5L15B2296.html",
          "https://www.assemblee-nationale.fr/dyn/opendata/PRJLANR5L15B2344.html",
          "https://www.assemblee-nationale.fr/dyn/opendata/PRJLANR5L15B2357.html",
          "https://www.assemblee-nationale.fr/dyn/opendata/PRJLANR5L15B2367.html",
          "https://www.assemblee-nationale.fr/dyn/opendata/PRJLANR5L15B2369.html",
          "https://www.assemblee-nationale.fr/dyn/opendata/PRJLANR5L15B2395.html",
          "https://www.assemblee-nationale.fr/dyn/opendata/PRJLANR5L15B2412.html",
          "https://www.assemblee-nationale.fr/dyn/opendata/PRJLANR5L15B2416.html",
          "https://www.assemblee-nationale.fr/dyn/opendata/PRJLANR5L15B2433.html",
          "https://www.assemblee-nationale.fr/dyn/opendata/PRJLANR5L15B2450.html",
          "https://www.assemblee-nationale.fr/dyn/opendata/PRJLANR5L15B2487.html",
          "https://www.assemblee-nationale.fr/dyn/opendata/PRJLANR5L15B2488.html",
          "https://www.assemblee-nationale.fr/dyn/opendata/PRJLANR5L15B2489.html",
          "https://www.assemblee-nationale.fr/dyn/opendata/PRJLANR5L15B2494.html",
          "https://www.assemblee-nationale.fr/dyn/opendata/PRJLANR5L15B2535.html",
          "https://www.assemblee-nationale.fr/dyn/opendata/PRJLANR5L15B2536.html",
          "https://www.assemblee-nationale.fr/dyn/opendata/PRJLANR5L15B2545.html",
          "https://www.assemblee-nationale.fr/dyn/opendata/PRJLANR5L15B2551.html",
          "https://www.assemblee-nationale.fr/dyn/opendata/PRJLANR5L15B2552.html",
          "https://www.assemblee-nationale.fr/dyn/opendata/PRJLANR5L15B2586.html",
          "https://www.assemblee-nationale.fr/dyn/opendata/PRJLANR5L15B2622.html",
          "https://www.assemblee-nationale.fr/dyn/opendata/PRJLANR5L15B2623.html",
          "https://www.assemblee-nationale.fr/dyn/opendata/PRJLANR5L15B2626.html",
          "https://www.assemblee-nationale.fr/dyn/opendata/PRJLANR5L15B2630.html",
          "https://www.assemblee-nationale.fr/dyn/opendata/PRJLANR5L15B2631.html",
          "https://www.assemblee-nationale.fr/dyn/opendata/PRJLANR5L15B2658.html",
          "https://www.assemblee-nationale.fr/dyn/opendata/PRJLANR5L15B2686.html",
          "https://www.assemblee-nationale.fr/dyn/opendata/PRJLANR5L15B2699.html",
          "https://www.assemblee-nationale.fr/dyn/opendata/PRJLANR5L15B2700.html",
          "https://www.assemblee-nationale.fr/dyn/opendata/PRJLANR5L15B2731.html",
          "https://www.assemblee-nationale.fr/dyn/opendata/PRJLANR5L15B2744.html",
          "https://www.assemblee-nationale.fr/dyn/opendata/PRJLANR5L15B2745.html",
          "https://www.assemblee-nationale.fr/dyn/opendata/PRJLANR5L15B2746.html",
          "https://www.assemblee-nationale.fr/dyn/opendata/PRJLANR5L15B2750.html",
          "https://www.assemblee-nationale.fr/dyn/opendata/PRJLANR5L15B2762.html",
          "https://www.assemblee-nationale.fr/dyn/opendata/PRJLANR5L15B2763.html",
          "https://www.assemblee-nationale.fr/dyn/opendata/PRJLANR5L15B2828.html",
          "https://www.assemblee-nationale.fr/dyn/opendata/PRJLANR5L15B2902.html",
          "https://www.assemblee-nationale.fr/dyn/opendata/PRJLANR5L15B2907.html",
          "https://www.assemblee-nationale.fr/dyn/opendata/PRJLANR5L15B2956.html",
          "https://www.assemblee-nationale.fr/dyn/opendata/PRJLANR5L15B2957.html",
          "https://www.assemblee-nationale.fr/dyn/opendata/PRJLANR5L15B2958.html",
          "https://www.assemblee-nationale.fr/dyn/opendata/PRJLANR5L15B2959.html",
          "https://www.assemblee-nationale.fr/dyn/opendata/PRJLANR5L15B2960.html",
          "https://www.assemblee-nationale.fr/dyn/opendata/PRJLANR5L15B2986.html",
          "https://www.assemblee-nationale.fr/dyn/opendata/PRJLANR5L15B3016.html",
          "https://www.assemblee-nationale.fr/dyn/opendata/PRJLANR5L15B3017.html",
          "https://www.assemblee-nationale.fr/dyn/opendata/PRJLANR5L15B3018.html",
          "https://www.assemblee-nationale.fr/dyn/opendata/PRJLANR5L15B3019.html",
          "https://www.assemblee-nationale.fr/dyn/opendata/PRJLANR5L15B3021.html",
          "https://www.assemblee-nationale.fr/dyn/opendata/PRJLANR5L15B3025.html",
          "https://www.assemblee-nationale.fr/dyn/opendata/PRJLANR5L15B3054.html",
          "https://www.assemblee-nationale.fr/dyn/opendata/PRJLANR5L15B3055.html",
          "https://www.assemblee-nationale.fr/dyn/opendata/PRJLANR5L15B3056.html",
          "https://www.assemblee-nationale.fr/dyn/opendata/PRJLANR5L15B3057.html",
          "https://www.assemblee-nationale.fr/dyn/opendata/PRJLANR5L15B3077.html",
          "https://www.assemblee-nationale.fr/dyn/opendata/PRJLANR5L15B3080.html",
          "https://www.assemblee-nationale.fr/dyn/opendata/PRJLANR5L15B3117.html",
          "https://www.assemblee-nationale.fr/dyn/opendata/PRJLANR5L15B3121.html",
          "https://www.assemblee-nationale.fr/dyn/opendata/PRJLANR5L15B3128.html",
          "https://www.assemblee-nationale.fr/dyn/opendata/PRJLANR5L15B3179.html",
          "https://www.assemblee-nationale.fr/dyn/opendata/PRJLANR5L15B3180.html",
          "https://www.assemblee-nationale.fr/dyn/opendata/PRJLANR5L15B3184.html",
          "https://www.assemblee-nationale.fr/dyn/opendata/PRJLANR5L15B3192.html",
          "https://www.assemblee-nationale.fr/dyn/opendata/PRJLANR5L15B3196.html",
          "https://www.assemblee-nationale.fr/dyn/opendata/PRJLANR5L15B3221.html",
          "https://www.assemblee-nationale.fr/dyn/opendata/PRJLANR5L15B3234.html",
          "https://www.assemblee-nationale.fr/dyn/opendata/PRJLANR5L15B3235.html",
          "https://www.assemblee-nationale.fr/dyn/opendata/PRJLANR5L15B3236.html",
          "https://www.assemblee-nationale.fr/dyn/opendata/PRJLANR5L15B3244.html",
          "https://www.assemblee-nationale.fr/dyn/opendata/PRJLANR5L15B3245.html",
          "https://www.assemblee-nationale.fr/dyn/opendata/PRJLANR5L15B3246.html",
          "https://www.assemblee-nationale.fr/dyn/opendata/PRJLANR5L15B3247.html",
          "https://www.assemblee-nationale.fr/dyn/opendata/PRJLANR5L15B3298.html",
          "https://www.assemblee-nationale.fr/dyn/opendata/PRJLANR5L15B3340.html",
          "https://www.assemblee-nationale.fr/dyn/opendata/PRJLANR5L15B3397.html",
          "https://www.assemblee-nationale.fr/dyn/opendata/PRJLANR5L15B3408.html",
          "https://www.assemblee-nationale.fr/dyn/opendata/PRJLANR5L15B3433.html",
          "https://www.assemblee-nationale.fr/dyn/opendata/PRJLANR5L15B3435.html",
          "https://www.assemblee-nationale.fr/dyn/opendata/PRJLANR5L15B3463.html",
          "https://www.assemblee-nationale.fr/dyn/opendata/PRJLANR5L15B3464.html",
          "https://www.assemblee-nationale.fr/dyn/opendata/PRJLANR5L15B3483.html",
          "https://www.assemblee-nationale.fr/dyn/opendata/PRJLANR5L15B3487.html",
          "https://www.assemblee-nationale.fr/dyn/opendata/PRJLANR5L15B3495.html",
          "https://www.assemblee-nationale.fr/dyn/opendata/PRJLANR5L15B3500.html",
          "https://www.assemblee-nationale.fr/dyn/opendata/PRJLANR5L15B3523.html",
          "https://www.assemblee-nationale.fr/dyn/opendata/PRJLANR5L15B3525.html",
          "https://www.assemblee-nationale.fr/dyn/opendata/PRJLANR5L15B3526.html",
          "https://www.assemblee-nationale.fr/dyn/opendata/PRJLANR5L15B3551.html",
          "https://www.assemblee-nationale.fr/dyn/opendata/PRJLANR5L15B3583.html",
          "https://www.assemblee-nationale.fr/dyn/opendata/PRJLANR5L15B3584.html",
          "https://www.assemblee-nationale.fr/dyn/opendata/PRJLANR5L15B3596.html",
          "https://www.assemblee-nationale.fr/dyn/opendata/PRJLANR5L15B3597.html",
          "https://www.assemblee-nationale.fr/dyn/opendata/PRJLANR5L15B3601.html",
          "https://www.assemblee-nationale.fr/dyn/opendata/PRJLANR5L15B3606.html",
          "https://www.assemblee-nationale.fr/dyn/opendata/PRJLANR5L15B3634.html",
          "https://www.assemblee-nationale.fr/dyn/opendata/PRJLANR5L15B3644.html",
          "https://www.assemblee-nationale.fr/dyn/opendata/PRJLANR5L15B3645.html",
          "https://www.assemblee-nationale.fr/dyn/opendata/PRJLANR5L15B3649.html",
          "https://www.assemblee-nationale.fr/dyn/opendata/PRJLANR5L15B3651.html",
          "https://www.assemblee-nationale.fr/dyn/opendata/PRJLANR5L15B3699.html",
          "https://www.assemblee-nationale.fr/dyn/opendata/PRJLANR5L15B3704.html",
          "https://www.assemblee-nationale.fr/dyn/opendata/PRJLANR5L15B3707.html",
          "https://www.assemblee-nationale.fr/dyn/opendata/PRJLANR5L15B3712.html",
          "https://www.assemblee-nationale.fr/dyn/opendata/PRJLANR5L15B3713.html",
          "https://www.assemblee-nationale.fr/dyn/opendata/PRJLANR5L15B3714.html",
          "https://www.assemblee-nationale.fr/dyn/opendata/PRJLANR5L15B3726.html",
          "https://www.assemblee-nationale.fr/dyn/opendata/PRJLANR5L15B3727.html",
          "https://www.assemblee-nationale.fr/dyn/opendata/PRJLANR5L15B3733.html",
          "https://www.assemblee-nationale.fr/dyn/opendata/PRJLANR5L15B3734.html",
          "https://www.assemblee-nationale.fr/dyn/opendata/PRJLANR5L15B3735.html",
          "https://www.assemblee-nationale.fr/dyn/opendata/PRJLANR5L15B3736.html",
          "https://www.assemblee-nationale.fr/dyn/opendata/PRJLANR5L15B3783.html",
          "https://www.assemblee-nationale.fr/dyn/opendata/PRJLANR5L15B3787.html",
          "https://www.assemblee-nationale.fr/dyn/opendata/PRJLANR5L15B3812.html",
          "https://www.assemblee-nationale.fr/dyn/opendata/PRJLANR5L15B3816.html",
          "https://www.assemblee-nationale.fr/dyn/opendata/PRJLANR5L15B3818.html",
          "https://www.assemblee-nationale.fr/dyn/opendata/PRJLANR5L15B3819.html",
          "https://www.assemblee-nationale.fr/dyn/opendata/PRJLANR5L15B3826.html",
          "https://www.assemblee-nationale.fr/dyn/opendata/PRJLANR5L15B3829.html",
          "https://www.assemblee-nationale.fr/dyn/opendata/PRJLANR5L15B3833.html",
          "https://www.assemblee-nationale.fr/dyn/opendata/PRJLANR5L15B3835.html",
          "https://www.assemblee-nationale.fr/dyn/opendata/PRJLANR5L15B3875.html",
          "https://www.assemblee-nationale.fr/dyn/opendata/PRJLANR5L15B3892.html",
          "https://www.assemblee-nationale.fr/dyn/opendata/PRJLANR5L15B3899.html",
          "https://www.assemblee-nationale.fr/dyn/opendata/PRJLANR5L15B3904.html",
          "https://www.assemblee-nationale.fr/dyn/opendata/PRJLANR5L15B3930.html",
          "https://www.assemblee-nationale.fr/dyn/opendata/PRJLANR5L15B3931.html",
          "https://www.assemblee-nationale.fr/dyn/opendata/PRJLANR5L15B3938.html",
          "https://www.assemblee-nationale.fr/dyn/opendata/PRJLANR5L15B3940.html",
          "https://www.assemblee-nationale.fr/dyn/opendata/PRJLANR5L15B3975.html",
          "https://www.assemblee-nationale.fr/dyn/opendata/PRJLANR5L15B3992.html",
          "https://www.assemblee-nationale.fr/dyn/opendata/PRJLANR5L15B4023.html",
          "https://www.assemblee-nationale.fr/dyn/opendata/PRJLANR5L15B4041.html",
          "https://www.assemblee-nationale.fr/dyn/opendata/PRJLANR5L15B4044.html",
          "https://www.assemblee-nationale.fr/dyn/opendata/PRJLANR5L15B4073.html",
          "https://www.assemblee-nationale.fr/dyn/opendata/PRJLANR5L15B4078.html",
          "https://www.assemblee-nationale.fr/dyn/opendata/PRJLANR5L15B4091.html",
          "https://www.assemblee-nationale.fr/dyn/opendata/PRJLANR5L15B4092.html",
          "https://www.assemblee-nationale.fr/dyn/opendata/PRJLANR5L15B4104.html",
          "https://www.assemblee-nationale.fr/dyn/opendata/PRJLANR5L15B4105.html",
          "https://www.assemblee-nationale.fr/dyn/opendata/PRJLANR5L15B4106.html",
          "https://www.assemblee-nationale.fr/dyn/opendata/PRJLANR5L15B4142.html",
          "https://www.assemblee-nationale.fr/dyn/opendata/PRJLANR5L15B4149.html",
          "https://www.assemblee-nationale.fr/dyn/opendata/PRJLANR5L15B4176.html",
          "https://www.assemblee-nationale.fr/dyn/opendata/PRJLANR5L15B4177.html",
          "https://www.assemblee-nationale.fr/dyn/opendata/PRJLANR5L15B4186.html",
          "https://www.assemblee-nationale.fr/dyn/opendata/PRJLANR5L15B4187.html",
          "https://www.assemblee-nationale.fr/dyn/opendata/PRJLANR5L15B4188.html",
          "https://www.assemblee-nationale.fr/dyn/opendata/PRJLANR5L15B4200.html",
          "https://www.assemblee-nationale.fr/dyn/opendata/PRJLANR5L15B4216.html",
          "https://www.assemblee-nationale.fr/dyn/opendata/PRJLANR5L15B4233.html",
          "https://www.assemblee-nationale.fr/dyn/opendata/PRJLANR5L15B4264.html",
          "https://www.assemblee-nationale.fr/dyn/opendata/PRJLANR5L15B4265.html",
          "https://www.assemblee-nationale.fr/dyn/opendata/PRJLANR5L15B4280.html",
          "https://www.assemblee-nationale.fr/dyn/opendata/PRJLANR5L15B4281.html",
          "https://www.assemblee-nationale.fr/dyn/opendata/PRJLANR5L15B4301.html",
          "https://www.assemblee-nationale.fr/dyn/opendata/PRJLANR5L15B4302.html",
          "https://www.assemblee-nationale.fr/dyn/opendata/PRJLANR5L15B4303.html",
          "https://www.assemblee-nationale.fr/dyn/opendata/PRJLANR5L15B4321.html",
          "https://www.assemblee-nationale.fr/dyn/opendata/PRJLANR5L15B4322.html",
          "https://www.assemblee-nationale.fr/dyn/opendata/PRJLANR5L15B4323.html",
          "https://www.assemblee-nationale.fr/dyn/opendata/PRJLANR5L15B4324.html",
          "https://www.assemblee-nationale.fr/dyn/opendata/PRJLANR5L15B4338.html",
          "https://www.assemblee-nationale.fr/dyn/opendata/PRJLANR5L15B4339.html",
          "https://www.assemblee-nationale.fr/dyn/opendata/PRJLANR5L15B4360.html",
          "https://www.assemblee-nationale.fr/dyn/opendata/PRJLANR5L15B4361.html",
          "https://www.assemblee-nationale.fr/dyn/opendata/PRJLANR5L15B4364.html",
          "https://www.assemblee-nationale.fr/dyn/opendata/PRJLANR5L15B4386.html",
          "https://www.assemblee-nationale.fr/dyn/opendata/PRJLANR5L15B4387.html",
          "https://www.assemblee-nationale.fr/dyn/opendata/PRJLANR5L15B4388.html",
          "https://www.assemblee-nationale.fr/dyn/opendata/PRJLANR5L15B4401.html",
          "https://www.assemblee-nationale.fr/dyn/opendata/PRJLANR5L15B4406.html",
          "https://www.assemblee-nationale.fr/dyn/opendata/PRJLANR5L15B4408.html",
          "https://www.assemblee-nationale.fr/dyn/opendata/PRJLANR5L15B4415.html",
          "https://www.assemblee-nationale.fr/dyn/opendata/PRJLANR5L15B4418.html",
          "https://www.assemblee-nationale.fr/dyn/opendata/PRJLANR5L15B4419.html",
          "https://www.assemblee-nationale.fr/dyn/opendata/PRJLANR5L15B4425.html",
          "https://www.assemblee-nationale.fr/dyn/opendata/PRJLANR5L15B4426.html",
          "https://www.assemblee-nationale.fr/dyn/opendata/PRJLANR5L15B4428.html",
          "https://www.assemblee-nationale.fr/dyn/opendata/PRJLANR5L15B4429.html",
          "https://www.assemblee-nationale.fr/dyn/opendata/PRJLANR5L15B4430.html",
          "https://www.assemblee-nationale.fr/dyn/opendata/PRJLANR5L15B4439.html",
          "https://www.assemblee-nationale.fr/dyn/opendata/PRJLANR5L15B4507.html",
          "https://www.assemblee-nationale.fr/dyn/opendata/PRJLANR5L15B4508.html",
          "https://www.assemblee-nationale.fr/dyn/opendata/PRJLANR5L15B4522.html",
          "https://www.assemblee-nationale.fr/dyn/opendata/PRJLANR5L15B4523.html",
          "https://www.assemblee-nationale.fr/dyn/opendata/PRJLANR5L15B4564.html",
          "https://www.assemblee-nationale.fr/dyn/opendata/PRJLANR5L15B4565.html",
          "https://www.assemblee-nationale.fr/dyn/opendata/PRJLANR5L15B4566.html",
          "https://www.assemblee-nationale.fr/dyn/opendata/PRJLANR5L15B4596.html",
          "https://www.assemblee-nationale.fr/dyn/opendata/PRJLANR5L15B4612.html",
          "https://www.assemblee-nationale.fr/dyn/opendata/PRJLANR5L15B4620.html",
          "https://www.assemblee-nationale.fr/dyn/opendata/PRJLANR5L15B4623.html",
          "https://www.assemblee-nationale.fr/dyn/opendata/PRJLANR5L15B4631.html",
          "https://www.assemblee-nationale.fr/dyn/opendata/PRJLANR5L15B4632.html",
          "https://www.assemblee-nationale.fr/dyn/opendata/PRJLANR5L15B4654.html",
          "https://www.assemblee-nationale.fr/dyn/opendata/PRJLANR5L15B4685.html",
          "https://www.assemblee-nationale.fr/dyn/opendata/PRJLANR5L15B4686.html",
          "https://www.assemblee-nationale.fr/dyn/opendata/PRJLANR5L15B4689.html",
          "https://www.assemblee-nationale.fr/dyn/opendata/PRJLANR5L15B4696.html",
          "https://www.assemblee-nationale.fr/dyn/opendata/PRJLANR5L15B4758.html",
          "https://www.assemblee-nationale.fr/dyn/opendata/PRJLANR5L15B4788.html",
          "https://www.assemblee-nationale.fr/dyn/opendata/PRJLANR5L15B4789.html",
          "https://www.assemblee-nationale.fr/dyn/opendata/PRJLANR5L15B4819.html",
          "https://www.assemblee-nationale.fr/dyn/opendata/PRJLANR5L15B4821.html",
          "https://www.assemblee-nationale.fr/dyn/opendata/PRJLANR5L15B4857.html",
          "https://www.assemblee-nationale.fr/dyn/opendata/PRJLANR5L15B4868.html",
          "https://www.assemblee-nationale.fr/dyn/opendata/PRJLANR5L15B4905.html",
          "https://www.assemblee-nationale.fr/dyn/opendata/PRJLANR5L15B4910.html",
          "https://www.assemblee-nationale.fr/dyn/opendata/PRJLANR5L15B4971.html",
          "https://www.assemblee-nationale.fr/dyn/opendata/PRJLANR5L15B4988.html",
          "https://www.assemblee-nationale.fr/dyn/opendata/PRJLANR5L15B5025.html",
          "https://www.assemblee-nationale.fr/dyn/opendata/PRJLANR5L15B5035.html",
          "https://www.assemblee-nationale.fr/dyn/opendata/PRJLANR5L15B5063.html",
          "https://www.assemblee-nationale.fr/dyn/opendata/PRJLANR5L15B5115.html",
          "https://www.assemblee-nationale.fr/dyn/opendata/PRJLANR5L15B5148.html",
          "https://www.assemblee-nationale.fr/dyn/opendata/PRJLANR5L15B5153.html",
          "https://www.assemblee-nationale.fr/dyn/opendata/PRJLANR5L15B5185.html"
         ],
         "yaxis": "y"
        }
       ],
       "layout": {
        "barmode": "relative",
        "legend": {
         "tracegroupgap": 0
        },
        "margin": {
         "t": 60
        },
        "template": {
         "data": {
          "bar": [
           {
            "error_x": {
             "color": "#2a3f5f"
            },
            "error_y": {
             "color": "#2a3f5f"
            },
            "marker": {
             "line": {
              "color": "#E5ECF6",
              "width": 0.5
             },
             "pattern": {
              "fillmode": "overlay",
              "size": 10,
              "solidity": 0.2
             }
            },
            "type": "bar"
           }
          ],
          "barpolar": [
           {
            "marker": {
             "line": {
              "color": "#E5ECF6",
              "width": 0.5
             },
             "pattern": {
              "fillmode": "overlay",
              "size": 10,
              "solidity": 0.2
             }
            },
            "type": "barpolar"
           }
          ],
          "carpet": [
           {
            "aaxis": {
             "endlinecolor": "#2a3f5f",
             "gridcolor": "white",
             "linecolor": "white",
             "minorgridcolor": "white",
             "startlinecolor": "#2a3f5f"
            },
            "baxis": {
             "endlinecolor": "#2a3f5f",
             "gridcolor": "white",
             "linecolor": "white",
             "minorgridcolor": "white",
             "startlinecolor": "#2a3f5f"
            },
            "type": "carpet"
           }
          ],
          "choropleth": [
           {
            "colorbar": {
             "outlinewidth": 0,
             "ticks": ""
            },
            "type": "choropleth"
           }
          ],
          "contour": [
           {
            "colorbar": {
             "outlinewidth": 0,
             "ticks": ""
            },
            "colorscale": [
             [
              0,
              "#0d0887"
             ],
             [
              0.1111111111111111,
              "#46039f"
             ],
             [
              0.2222222222222222,
              "#7201a8"
             ],
             [
              0.3333333333333333,
              "#9c179e"
             ],
             [
              0.4444444444444444,
              "#bd3786"
             ],
             [
              0.5555555555555556,
              "#d8576b"
             ],
             [
              0.6666666666666666,
              "#ed7953"
             ],
             [
              0.7777777777777778,
              "#fb9f3a"
             ],
             [
              0.8888888888888888,
              "#fdca26"
             ],
             [
              1,
              "#f0f921"
             ]
            ],
            "type": "contour"
           }
          ],
          "contourcarpet": [
           {
            "colorbar": {
             "outlinewidth": 0,
             "ticks": ""
            },
            "type": "contourcarpet"
           }
          ],
          "heatmap": [
           {
            "colorbar": {
             "outlinewidth": 0,
             "ticks": ""
            },
            "colorscale": [
             [
              0,
              "#0d0887"
             ],
             [
              0.1111111111111111,
              "#46039f"
             ],
             [
              0.2222222222222222,
              "#7201a8"
             ],
             [
              0.3333333333333333,
              "#9c179e"
             ],
             [
              0.4444444444444444,
              "#bd3786"
             ],
             [
              0.5555555555555556,
              "#d8576b"
             ],
             [
              0.6666666666666666,
              "#ed7953"
             ],
             [
              0.7777777777777778,
              "#fb9f3a"
             ],
             [
              0.8888888888888888,
              "#fdca26"
             ],
             [
              1,
              "#f0f921"
             ]
            ],
            "type": "heatmap"
           }
          ],
          "heatmapgl": [
           {
            "colorbar": {
             "outlinewidth": 0,
             "ticks": ""
            },
            "colorscale": [
             [
              0,
              "#0d0887"
             ],
             [
              0.1111111111111111,
              "#46039f"
             ],
             [
              0.2222222222222222,
              "#7201a8"
             ],
             [
              0.3333333333333333,
              "#9c179e"
             ],
             [
              0.4444444444444444,
              "#bd3786"
             ],
             [
              0.5555555555555556,
              "#d8576b"
             ],
             [
              0.6666666666666666,
              "#ed7953"
             ],
             [
              0.7777777777777778,
              "#fb9f3a"
             ],
             [
              0.8888888888888888,
              "#fdca26"
             ],
             [
              1,
              "#f0f921"
             ]
            ],
            "type": "heatmapgl"
           }
          ],
          "histogram": [
           {
            "marker": {
             "pattern": {
              "fillmode": "overlay",
              "size": 10,
              "solidity": 0.2
             }
            },
            "type": "histogram"
           }
          ],
          "histogram2d": [
           {
            "colorbar": {
             "outlinewidth": 0,
             "ticks": ""
            },
            "colorscale": [
             [
              0,
              "#0d0887"
             ],
             [
              0.1111111111111111,
              "#46039f"
             ],
             [
              0.2222222222222222,
              "#7201a8"
             ],
             [
              0.3333333333333333,
              "#9c179e"
             ],
             [
              0.4444444444444444,
              "#bd3786"
             ],
             [
              0.5555555555555556,
              "#d8576b"
             ],
             [
              0.6666666666666666,
              "#ed7953"
             ],
             [
              0.7777777777777778,
              "#fb9f3a"
             ],
             [
              0.8888888888888888,
              "#fdca26"
             ],
             [
              1,
              "#f0f921"
             ]
            ],
            "type": "histogram2d"
           }
          ],
          "histogram2dcontour": [
           {
            "colorbar": {
             "outlinewidth": 0,
             "ticks": ""
            },
            "colorscale": [
             [
              0,
              "#0d0887"
             ],
             [
              0.1111111111111111,
              "#46039f"
             ],
             [
              0.2222222222222222,
              "#7201a8"
             ],
             [
              0.3333333333333333,
              "#9c179e"
             ],
             [
              0.4444444444444444,
              "#bd3786"
             ],
             [
              0.5555555555555556,
              "#d8576b"
             ],
             [
              0.6666666666666666,
              "#ed7953"
             ],
             [
              0.7777777777777778,
              "#fb9f3a"
             ],
             [
              0.8888888888888888,
              "#fdca26"
             ],
             [
              1,
              "#f0f921"
             ]
            ],
            "type": "histogram2dcontour"
           }
          ],
          "mesh3d": [
           {
            "colorbar": {
             "outlinewidth": 0,
             "ticks": ""
            },
            "type": "mesh3d"
           }
          ],
          "parcoords": [
           {
            "line": {
             "colorbar": {
              "outlinewidth": 0,
              "ticks": ""
             }
            },
            "type": "parcoords"
           }
          ],
          "pie": [
           {
            "automargin": true,
            "type": "pie"
           }
          ],
          "scatter": [
           {
            "fillpattern": {
             "fillmode": "overlay",
             "size": 10,
             "solidity": 0.2
            },
            "type": "scatter"
           }
          ],
          "scatter3d": [
           {
            "line": {
             "colorbar": {
              "outlinewidth": 0,
              "ticks": ""
             }
            },
            "marker": {
             "colorbar": {
              "outlinewidth": 0,
              "ticks": ""
             }
            },
            "type": "scatter3d"
           }
          ],
          "scattercarpet": [
           {
            "marker": {
             "colorbar": {
              "outlinewidth": 0,
              "ticks": ""
             }
            },
            "type": "scattercarpet"
           }
          ],
          "scattergeo": [
           {
            "marker": {
             "colorbar": {
              "outlinewidth": 0,
              "ticks": ""
             }
            },
            "type": "scattergeo"
           }
          ],
          "scattergl": [
           {
            "marker": {
             "colorbar": {
              "outlinewidth": 0,
              "ticks": ""
             }
            },
            "type": "scattergl"
           }
          ],
          "scattermapbox": [
           {
            "marker": {
             "colorbar": {
              "outlinewidth": 0,
              "ticks": ""
             }
            },
            "type": "scattermapbox"
           }
          ],
          "scatterpolar": [
           {
            "marker": {
             "colorbar": {
              "outlinewidth": 0,
              "ticks": ""
             }
            },
            "type": "scatterpolar"
           }
          ],
          "scatterpolargl": [
           {
            "marker": {
             "colorbar": {
              "outlinewidth": 0,
              "ticks": ""
             }
            },
            "type": "scatterpolargl"
           }
          ],
          "scatterternary": [
           {
            "marker": {
             "colorbar": {
              "outlinewidth": 0,
              "ticks": ""
             }
            },
            "type": "scatterternary"
           }
          ],
          "surface": [
           {
            "colorbar": {
             "outlinewidth": 0,
             "ticks": ""
            },
            "colorscale": [
             [
              0,
              "#0d0887"
             ],
             [
              0.1111111111111111,
              "#46039f"
             ],
             [
              0.2222222222222222,
              "#7201a8"
             ],
             [
              0.3333333333333333,
              "#9c179e"
             ],
             [
              0.4444444444444444,
              "#bd3786"
             ],
             [
              0.5555555555555556,
              "#d8576b"
             ],
             [
              0.6666666666666666,
              "#ed7953"
             ],
             [
              0.7777777777777778,
              "#fb9f3a"
             ],
             [
              0.8888888888888888,
              "#fdca26"
             ],
             [
              1,
              "#f0f921"
             ]
            ],
            "type": "surface"
           }
          ],
          "table": [
           {
            "cells": {
             "fill": {
              "color": "#EBF0F8"
             },
             "line": {
              "color": "white"
             }
            },
            "header": {
             "fill": {
              "color": "#C8D4E3"
             },
             "line": {
              "color": "white"
             }
            },
            "type": "table"
           }
          ]
         },
         "layout": {
          "annotationdefaults": {
           "arrowcolor": "#2a3f5f",
           "arrowhead": 0,
           "arrowwidth": 1
          },
          "autotypenumbers": "strict",
          "coloraxis": {
           "colorbar": {
            "outlinewidth": 0,
            "ticks": ""
           }
          },
          "colorscale": {
           "diverging": [
            [
             0,
             "#8e0152"
            ],
            [
             0.1,
             "#c51b7d"
            ],
            [
             0.2,
             "#de77ae"
            ],
            [
             0.3,
             "#f1b6da"
            ],
            [
             0.4,
             "#fde0ef"
            ],
            [
             0.5,
             "#f7f7f7"
            ],
            [
             0.6,
             "#e6f5d0"
            ],
            [
             0.7,
             "#b8e186"
            ],
            [
             0.8,
             "#7fbc41"
            ],
            [
             0.9,
             "#4d9221"
            ],
            [
             1,
             "#276419"
            ]
           ],
           "sequential": [
            [
             0,
             "#0d0887"
            ],
            [
             0.1111111111111111,
             "#46039f"
            ],
            [
             0.2222222222222222,
             "#7201a8"
            ],
            [
             0.3333333333333333,
             "#9c179e"
            ],
            [
             0.4444444444444444,
             "#bd3786"
            ],
            [
             0.5555555555555556,
             "#d8576b"
            ],
            [
             0.6666666666666666,
             "#ed7953"
            ],
            [
             0.7777777777777778,
             "#fb9f3a"
            ],
            [
             0.8888888888888888,
             "#fdca26"
            ],
            [
             1,
             "#f0f921"
            ]
           ],
           "sequentialminus": [
            [
             0,
             "#0d0887"
            ],
            [
             0.1111111111111111,
             "#46039f"
            ],
            [
             0.2222222222222222,
             "#7201a8"
            ],
            [
             0.3333333333333333,
             "#9c179e"
            ],
            [
             0.4444444444444444,
             "#bd3786"
            ],
            [
             0.5555555555555556,
             "#d8576b"
            ],
            [
             0.6666666666666666,
             "#ed7953"
            ],
            [
             0.7777777777777778,
             "#fb9f3a"
            ],
            [
             0.8888888888888888,
             "#fdca26"
            ],
            [
             1,
             "#f0f921"
            ]
           ]
          },
          "colorway": [
           "#636efa",
           "#EF553B",
           "#00cc96",
           "#ab63fa",
           "#FFA15A",
           "#19d3f3",
           "#FF6692",
           "#B6E880",
           "#FF97FF",
           "#FECB52"
          ],
          "font": {
           "color": "#2a3f5f"
          },
          "geo": {
           "bgcolor": "white",
           "lakecolor": "white",
           "landcolor": "#E5ECF6",
           "showlakes": true,
           "showland": true,
           "subunitcolor": "white"
          },
          "hoverlabel": {
           "align": "left"
          },
          "hovermode": "closest",
          "mapbox": {
           "style": "light"
          },
          "paper_bgcolor": "white",
          "plot_bgcolor": "#E5ECF6",
          "polar": {
           "angularaxis": {
            "gridcolor": "white",
            "linecolor": "white",
            "ticks": ""
           },
           "bgcolor": "#E5ECF6",
           "radialaxis": {
            "gridcolor": "white",
            "linecolor": "white",
            "ticks": ""
           }
          },
          "scene": {
           "xaxis": {
            "backgroundcolor": "#E5ECF6",
            "gridcolor": "white",
            "gridwidth": 2,
            "linecolor": "white",
            "showbackground": true,
            "ticks": "",
            "zerolinecolor": "white"
           },
           "yaxis": {
            "backgroundcolor": "#E5ECF6",
            "gridcolor": "white",
            "gridwidth": 2,
            "linecolor": "white",
            "showbackground": true,
            "ticks": "",
            "zerolinecolor": "white"
           },
           "zaxis": {
            "backgroundcolor": "#E5ECF6",
            "gridcolor": "white",
            "gridwidth": 2,
            "linecolor": "white",
            "showbackground": true,
            "ticks": "",
            "zerolinecolor": "white"
           }
          },
          "shapedefaults": {
           "line": {
            "color": "#2a3f5f"
           }
          },
          "ternary": {
           "aaxis": {
            "gridcolor": "white",
            "linecolor": "white",
            "ticks": ""
           },
           "baxis": {
            "gridcolor": "white",
            "linecolor": "white",
            "ticks": ""
           },
           "bgcolor": "#E5ECF6",
           "caxis": {
            "gridcolor": "white",
            "linecolor": "white",
            "ticks": ""
           }
          },
          "title": {
           "x": 0.05
          },
          "xaxis": {
           "automargin": true,
           "gridcolor": "white",
           "linecolor": "white",
           "ticks": "",
           "title": {
            "standoff": 15
           },
           "zerolinecolor": "white",
           "zerolinewidth": 2
          },
          "yaxis": {
           "automargin": true,
           "gridcolor": "white",
           "linecolor": "white",
           "ticks": "",
           "title": {
            "standoff": 15
           },
           "zerolinecolor": "white",
           "zerolinewidth": 2
          }
         }
        },
        "xaxis": {
         "anchor": "y",
         "domain": [
          0,
          1
         ],
         "title": {
          "text": "date"
         }
        },
        "yaxis": {
         "anchor": "x",
         "domain": [
          0,
          1
         ],
         "title": {
          "text": "url"
         }
        }
       }
      }
     },
     "metadata": {},
     "output_type": "display_data"
    }
   ],
   "source": [
    "import plotly.express as px\n",
    "graph = px.bar(data, x='date', y='url')\n",
    "graph.show()"
   ]
  },
  {
   "cell_type": "code",
   "execution_count": 1,
   "metadata": {},
   "outputs": [],
   "source": [
    "import pandas as pd\n",
    "data = pd.read_csv('/Users/camille/repo/Hetic/projet_demo/ia_theme/output_file_cleaned.csv')"
   ]
  },
  {
   "cell_type": "code",
   "execution_count": 7,
   "metadata": {},
   "outputs": [
    {
     "data": {
      "text/html": [
       "<div>\n",
       "<style scoped>\n",
       "    .dataframe tbody tr th:only-of-type {\n",
       "        vertical-align: middle;\n",
       "    }\n",
       "\n",
       "    .dataframe tbody tr th {\n",
       "        vertical-align: top;\n",
       "    }\n",
       "\n",
       "    .dataframe thead th {\n",
       "        text-align: right;\n",
       "    }\n",
       "</style>\n",
       "<table border=\"1\" class=\"dataframe\">\n",
       "  <thead>\n",
       "    <tr style=\"text-align: right;\">\n",
       "      <th></th>\n",
       "      <th>url</th>\n",
       "      <th>information</th>\n",
       "      <th>date</th>\n",
       "      <th>motifs</th>\n",
       "      <th>projet_lois</th>\n",
       "    </tr>\n",
       "  </thead>\n",
       "  <tbody>\n",
       "    <tr>\n",
       "      <th>91</th>\n",
       "      <td>https://www.assemblee-nationale.fr/dyn/opendat...</td>\n",
       "      <td>670</td>\n",
       "      <td>15 février 2018</td>\n",
       "      <td>– 1 –Article uniqueEst autorisée l’approbation...</td>\n",
       "      <td>NaN</td>\n",
       "    </tr>\n",
       "    <tr>\n",
       "      <th>304</th>\n",
       "      <td>https://www.assemblee-nationale.fr/dyn/opendat...</td>\n",
       "      <td>3397</td>\n",
       "      <td>7 octobre 2020</td>\n",
       "      <td>projet de loiLe Premier ministre,Sur le rappor...</td>\n",
       "      <td>I. – Situation patrimoniale de la sécurité soc...</td>\n",
       "    </tr>\n",
       "    <tr>\n",
       "      <th>283</th>\n",
       "      <td>https://www.assemblee-nationale.fr/dyn/opendat...</td>\n",
       "      <td>3077</td>\n",
       "      <td>10 juin 2020</td>\n",
       "      <td>– 1 –EXPOSÉ DES MOTIFSMesdames, Messieurs,Afin...</td>\n",
       "      <td>', '', '', '', '', 'I. – À compter de la fin d...</td>\n",
       "    </tr>\n",
       "    <tr>\n",
       "      <th>85</th>\n",
       "      <td>https://www.assemblee-nationale.fr/dyn/opendat...</td>\n",
       "      <td>629</td>\n",
       "      <td>1er février 2018</td>\n",
       "      <td>– 1 –Article 2L’article 1110 du code civil est...</td>\n",
       "      <td>NaN</td>\n",
       "    </tr>\n",
       "    <tr>\n",
       "      <th>410</th>\n",
       "      <td>https://www.assemblee-nationale.fr/dyn/opendat...</td>\n",
       "      <td>NaN</td>\n",
       "      <td>30 septembre 2021</td>\n",
       "      <td>– 1 –TITRE IERDISPOSITIONS RELATIVES À L’ENREG...</td>\n",
       "      <td>NaN</td>\n",
       "    </tr>\n",
       "    <tr>\n",
       "      <th>275</th>\n",
       "      <td>https://www.assemblee-nationale.fr/dyn/opendat...</td>\n",
       "      <td>3018</td>\n",
       "      <td>27 mai 2020</td>\n",
       "      <td>– 1 –EXPOSÉ DES MOTIFSMesdames, Messieurs,La c...</td>\n",
       "      <td>Le Premier ministre,', 'Sur le rapport du mini...</td>\n",
       "    </tr>\n",
       "    <tr>\n",
       "      <th>319</th>\n",
       "      <td>https://www.assemblee-nationale.fr/dyn/opendat...</td>\n",
       "      <td>3584</td>\n",
       "      <td>18 novembre 2020</td>\n",
       "      <td>– 1 –EXPOSÉ DES MOTIFSMesdames, Messieurs,La p...</td>\n",
       "      <td>Le présent projet de loi relatif aux délais d’...</td>\n",
       "    </tr>\n",
       "    <tr>\n",
       "      <th>44</th>\n",
       "      <td>https://www.assemblee-nationale.fr/dyn/opendat...</td>\n",
       "      <td>312</td>\n",
       "      <td>18 octobre 2017</td>\n",
       "      <td>– 1 –EXPOSÉ DES MOTIFSMesdames, Messieurs,Le p...</td>\n",
       "      <td>Le présent projet de loi ratifiant l’ordonnanc...</td>\n",
       "    </tr>\n",
       "    <tr>\n",
       "      <th>332</th>\n",
       "      <td>https://www.assemblee-nationale.fr/dyn/opendat...</td>\n",
       "      <td>3713</td>\n",
       "      <td>21 décembre 2020</td>\n",
       "      <td>– 1 –EXPOSÉ DES MOTIFSLa loi n° 62‑1292 du 6 n...</td>\n",
       "      <td>', '', '', '', '', '', '', '', '', 'Après l’ar...</td>\n",
       "    </tr>\n",
       "    <tr>\n",
       "      <th>230</th>\n",
       "      <td>https://www.assemblee-nationale.fr/dyn/opendat...</td>\n",
       "      <td>2357</td>\n",
       "      <td>23 octobre 2019</td>\n",
       "      <td>– 1 –TITRE IerLIBERTÉS LOCALES : CONFORTER CHA...</td>\n",
       "      <td>NaN</td>\n",
       "    </tr>\n",
       "    <tr>\n",
       "      <th>268</th>\n",
       "      <td>https://www.assemblee-nationale.fr/dyn/opendat...</td>\n",
       "      <td>2957</td>\n",
       "      <td>13 mai 2020</td>\n",
       "      <td>– 1 –EXPOSÉ DES MOTIFSMesdames, Messieurs,Le p...</td>\n",
       "      <td>Le présent projet de loi ratifiant diverses or...</td>\n",
       "    </tr>\n",
       "    <tr>\n",
       "      <th>359</th>\n",
       "      <td>https://www.assemblee-nationale.fr/dyn/opendat...</td>\n",
       "      <td>NaN</td>\n",
       "      <td>24 mars 2021</td>\n",
       "      <td>– 1 –EXPOSÉ DES MOTIFSMesdames, Messieurs,Le 2...</td>\n",
       "      <td>Le présent projet de loi ratifiant l’ordonnanc...</td>\n",
       "    </tr>\n",
       "  </tbody>\n",
       "</table>\n",
       "</div>"
      ],
      "text/plain": [
       "                                                   url information  \\\n",
       "91   https://www.assemblee-nationale.fr/dyn/opendat...         670   \n",
       "304  https://www.assemblee-nationale.fr/dyn/opendat...        3397   \n",
       "283  https://www.assemblee-nationale.fr/dyn/opendat...        3077   \n",
       "85   https://www.assemblee-nationale.fr/dyn/opendat...         629   \n",
       "410  https://www.assemblee-nationale.fr/dyn/opendat...         NaN   \n",
       "275  https://www.assemblee-nationale.fr/dyn/opendat...        3018   \n",
       "319  https://www.assemblee-nationale.fr/dyn/opendat...        3584   \n",
       "44   https://www.assemblee-nationale.fr/dyn/opendat...         312   \n",
       "332  https://www.assemblee-nationale.fr/dyn/opendat...        3713   \n",
       "230  https://www.assemblee-nationale.fr/dyn/opendat...        2357   \n",
       "268  https://www.assemblee-nationale.fr/dyn/opendat...        2957   \n",
       "359  https://www.assemblee-nationale.fr/dyn/opendat...         NaN   \n",
       "\n",
       "                  date                                             motifs  \\\n",
       "91     15 février 2018  – 1 –Article uniqueEst autorisée l’approbation...   \n",
       "304     7 octobre 2020  projet de loiLe Premier ministre,Sur le rappor...   \n",
       "283       10 juin 2020  – 1 –EXPOSÉ DES MOTIFSMesdames, Messieurs,Afin...   \n",
       "85    1er février 2018  – 1 –Article 2L’article 1110 du code civil est...   \n",
       "410  30 septembre 2021  – 1 –TITRE IERDISPOSITIONS RELATIVES À L’ENREG...   \n",
       "275        27 mai 2020  – 1 –EXPOSÉ DES MOTIFSMesdames, Messieurs,La c...   \n",
       "319   18 novembre 2020  – 1 –EXPOSÉ DES MOTIFSMesdames, Messieurs,La p...   \n",
       "44     18 octobre 2017  – 1 –EXPOSÉ DES MOTIFSMesdames, Messieurs,Le p...   \n",
       "332   21 décembre 2020  – 1 –EXPOSÉ DES MOTIFSLa loi n° 62‑1292 du 6 n...   \n",
       "230    23 octobre 2019  – 1 –TITRE IerLIBERTÉS LOCALES : CONFORTER CHA...   \n",
       "268        13 mai 2020  – 1 –EXPOSÉ DES MOTIFSMesdames, Messieurs,Le p...   \n",
       "359       24 mars 2021  – 1 –EXPOSÉ DES MOTIFSMesdames, Messieurs,Le 2...   \n",
       "\n",
       "                                           projet_lois  \n",
       "91                                                 NaN  \n",
       "304  I. – Situation patrimoniale de la sécurité soc...  \n",
       "283  ', '', '', '', '', 'I. – À compter de la fin d...  \n",
       "85                                                 NaN  \n",
       "410                                                NaN  \n",
       "275  Le Premier ministre,', 'Sur le rapport du mini...  \n",
       "319  Le présent projet de loi relatif aux délais d’...  \n",
       "44   Le présent projet de loi ratifiant l’ordonnanc...  \n",
       "332  ', '', '', '', '', '', '', '', '', 'Après l’ar...  \n",
       "230                                                NaN  \n",
       "268  Le présent projet de loi ratifiant diverses or...  \n",
       "359  Le présent projet de loi ratifiant l’ordonnanc...  "
      ]
     },
     "execution_count": 7,
     "metadata": {},
     "output_type": "execute_result"
    }
   ],
   "source": [
    "data.sample(12)"
   ]
  }
 ],
 "metadata": {
  "kernelspec": {
   "display_name": "notebook_env",
   "language": "python",
   "name": "python3"
  },
  "language_info": {
   "codemirror_mode": {
    "name": "ipython",
    "version": 3
   },
   "file_extension": ".py",
   "mimetype": "text/x-python",
   "name": "python",
   "nbconvert_exporter": "python",
   "pygments_lexer": "ipython3",
   "version": "3.10.2"
  },
  "orig_nbformat": 4
 },
 "nbformat": 4,
 "nbformat_minor": 2
}
